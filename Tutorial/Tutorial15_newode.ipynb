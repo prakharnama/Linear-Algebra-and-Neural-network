{
 "cells": [
  {
   "cell_type": "markdown",
   "metadata": {},
   "source": [
    "# Tutorial 16 - Solving ODEs using Neural Networks\n",
    "Based on various resources from internet."
   ]
  },
  {
   "cell_type": "code",
   "execution_count": null,
   "metadata": {},
   "outputs": [],
   "source": [
    "import autograd.numpy as np\n",
    "from autograd import grad, elementwise_grad\n",
    "import autograd.numpy.random as npr\n",
    "from autograd.misc.optimizers import adam"
   ]
  },
  {
   "cell_type": "code",
   "execution_count": 214,
   "metadata": {},
   "outputs": [],
   "source": [
    "def init_random_params(scale, layer_sizes, rs=npr.RandomState(0)):\n",
    "#Define a list of (weights, biases tuples, one for each layer.\"\n",
    "    return [(rs.randn(insize, outsize) * scale,   # weight matrix\n",
    "             rs.randn(outsize) * scale)           # bias vector\n",
    "            for insize, outsize in zip(layer_sizes[:-1], layer_sizes[1:])]"
   ]
  },
  {
   "cell_type": "code",
   "execution_count": 215,
   "metadata": {},
   "outputs": [],
   "source": [
    "# Define a sigmoid activation function. Can also be used from library. This is a simple definition.\n",
    "def sigmoid_activation(x):\n",
    "    \"see https://arxiv.org/pdf/1710.05941.pdf\"\n",
    "    return x / (1.0 + np.exp(-x))"
   ]
  },
  {
   "cell_type": "code",
   "execution_count": 216,
   "metadata": {},
   "outputs": [],
   "source": [
    "# Define function y based on neural networks. Outputs are linearly related to biases and weights.\n",
    "# Outputs of one layer are used as inputs to another layer via activation function.\n",
    "def y(params, inputs):\n",
    "    \"Neural network functions\"\n",
    "    for W, b in params:\n",
    "        outputs = np.dot(inputs, W) + b\n",
    "#        inputs = sigmoid_activation(outputs)    \n",
    "        inputs = np.tanh(outputs)\n",
    "    return outputs"
   ]
  },
  {
   "cell_type": "code",
   "execution_count": 217,
   "metadata": {},
   "outputs": [],
   "source": [
    "# Make an initial guess of params:\n",
    "params = init_random_params(0.1, layer_sizes=[1, 64, 1])"
   ]
  },
  {
   "cell_type": "code",
   "execution_count": null,
   "metadata": {},
   "outputs": [],
   "source": [
    "dydx = elementwise_grad(y, 1) # this is the first partial derivative of y w/t x.\n",
    "# The argument options of any function can be revealed by pressing \"shift + tab\" by bringing the keyboard\n",
    "# cursor to the function."
   ]
  },
  {
   "cell_type": "code",
   "execution_count": 219,
   "metadata": {},
   "outputs": [],
   "source": [
    "k = 1.0\n",
    "y0 = 0.0\n",
    "x = np.linspace(0, 10).reshape((-1, 1))"
   ]
  },
  {
   "cell_type": "code",
   "execution_count": 220,
   "metadata": {},
   "outputs": [],
   "source": [
    "# Define the objective function.\n",
    "def lossfunction(params, step):\n",
    "    # The objective is to minimize to zero.\n",
    "    # dydx = -k * y(x)\n",
    "#    domain_loss = dydx(params, x) - (-k*y(params,x)) # loss in domain\n",
    "#    domain_loss=dydx(params,x) - x #(2*np.power(x,2))#(np.exp(-x))\n",
    "    domain_loss=dydx(params,x) - 2*np.power(x,3) + (np.exp(-x))\n",
    "    boundary_loss = y(params, 0) - y0 # loss at boundary\n",
    "    return np.mean(domain_loss**2) + boundary_loss**2 # total loss"
   ]
  },
  {
   "cell_type": "code",
   "execution_count": 221,
   "metadata": {},
   "outputs": [],
   "source": [
    "def callback(params, step, g):\n",
    "    if step % 500 == 0:\n",
    "        print(\"Iteration {0:3d} lossfunction {1}\".format(step,\n",
    "                                                      lossfunction(params, step)))"
   ]
  },
  {
   "cell_type": "code",
   "execution_count": 222,
   "metadata": {},
   "outputs": [
    {
     "name": "stdout",
     "output_type": "stream",
     "text": [
      "Iteration   0 lossfunction [[600824.86551131]]\n",
      "Iteration 500 lossfunction [[549000.77173482]]\n",
      "Iteration 1000 lossfunction [[523732.22828963]]\n",
      "Iteration 1500 lossfunction [[506252.07468308]]\n",
      "Iteration 2000 lossfunction [[476423.97665793]]\n",
      "Iteration 2500 lossfunction [[436458.18509688]]\n",
      "Iteration 3000 lossfunction [[401513.11024851]]\n",
      "Iteration 3500 lossfunction [[368948.73510589]]\n",
      "Iteration 4000 lossfunction [[338118.47745556]]\n",
      "Iteration 4500 lossfunction [[311986.63342737]]\n",
      "Iteration 5000 lossfunction [[287982.25760745]]\n",
      "Iteration 5500 lossfunction [[262816.67739368]]\n",
      "Iteration 6000 lossfunction [[240072.53957694]]\n",
      "Iteration 6500 lossfunction [[219530.23051964]]\n",
      "Iteration 7000 lossfunction [[200548.31413314]]\n",
      "Iteration 7500 lossfunction [[182651.52767475]]\n",
      "Iteration 8000 lossfunction [[165816.10405952]]\n",
      "Iteration 8500 lossfunction [[150095.26766565]]\n",
      "Iteration 9000 lossfunction [[135344.47551124]]\n",
      "Iteration 9500 lossfunction [[121441.97256924]]\n",
      "Iteration 10000 lossfunction [[108405.753749]]\n",
      "Iteration 10500 lossfunction [[96225.00262404]]\n",
      "Iteration 11000 lossfunction [[84868.28347015]]\n",
      "Iteration 11500 lossfunction [[74332.67241862]]\n",
      "Iteration 12000 lossfunction [[64627.23641666]]\n",
      "Iteration 12500 lossfunction [[55662.36879284]]\n",
      "Iteration 13000 lossfunction [[46281.16381169]]\n",
      "Iteration 13500 lossfunction [[38486.24674385]]\n",
      "Iteration 14000 lossfunction [[31699.89724414]]\n",
      "Iteration 14500 lossfunction [[25765.05211367]]\n",
      "Iteration 15000 lossfunction [[20574.18252784]]\n",
      "Iteration 15500 lossfunction [[16108.26594353]]\n",
      "Iteration 16000 lossfunction [[12320.60337266]]\n",
      "Iteration 16500 lossfunction [[9169.42537495]]\n",
      "Iteration 17000 lossfunction [[6583.23719681]]\n",
      "Iteration 17500 lossfunction [[4418.13757977]]\n",
      "Iteration 18000 lossfunction [[2835.64323089]]\n",
      "Iteration 18500 lossfunction [[1727.42455233]]\n",
      "Iteration 19000 lossfunction [[979.14145271]]\n",
      "Iteration 19500 lossfunction [[510.08542626]]\n",
      "Iteration 20000 lossfunction [[240.47387757]]\n",
      "Iteration 20500 lossfunction [[91.99108848]]\n",
      "Iteration 21000 lossfunction [[36.48891754]]\n",
      "Iteration 21500 lossfunction [[11.39040547]]\n",
      "Iteration 22000 lossfunction [[5.59858614]]\n",
      "Iteration 22500 lossfunction [[3.73320214]]\n",
      "Iteration 23000 lossfunction [[2.78463573]]\n",
      "Iteration 23500 lossfunction [[2.11436734]]\n",
      "Iteration 24000 lossfunction [[1.6254756]]\n",
      "Iteration 24500 lossfunction [[1.94999394]]\n",
      "Iteration 25000 lossfunction [[1.08376368]]\n",
      "Iteration 25500 lossfunction [[1.56145457]]\n",
      "Iteration 26000 lossfunction [[0.7611958]]\n",
      "Iteration 26500 lossfunction [[1.34336341]]\n",
      "Iteration 27000 lossfunction [[5.29411022]]\n",
      "Iteration 27500 lossfunction [[3.66814569]]\n",
      "Iteration 28000 lossfunction [[2.5717022]]\n",
      "Iteration 28500 lossfunction [[3.68315764]]\n",
      "Iteration 29000 lossfunction [[0.5084141]]\n",
      "Iteration 29500 lossfunction [[0.48319633]]\n",
      "Iteration 30000 lossfunction [[0.92897932]]\n",
      "Iteration 30500 lossfunction [[0.6506841]]\n",
      "Iteration 31000 lossfunction [[0.45042184]]\n",
      "Iteration 31500 lossfunction [[0.4491786]]\n",
      "Iteration 32000 lossfunction [[0.44890319]]\n",
      "Iteration 32500 lossfunction [[1.0461096]]\n",
      "Iteration 33000 lossfunction [[0.46174719]]\n",
      "Iteration 33500 lossfunction [[0.44878448]]\n",
      "Iteration 34000 lossfunction [[0.5425573]]\n",
      "Iteration 34500 lossfunction [[3.30738784]]\n",
      "Iteration 35000 lossfunction [[0.44963667]]\n",
      "Iteration 35500 lossfunction [[0.65063358]]\n",
      "Iteration 36000 lossfunction [[0.53046213]]\n",
      "Iteration 36500 lossfunction [[3.05496864]]\n",
      "Iteration 37000 lossfunction [[0.65343058]]\n",
      "Iteration 37500 lossfunction [[0.57044841]]\n",
      "Iteration 38000 lossfunction [[1.05853758]]\n",
      "Iteration 38500 lossfunction [[0.42396067]]\n",
      "Iteration 39000 lossfunction [[0.566959]]\n",
      "Iteration 39500 lossfunction [[0.44876163]]\n",
      "Iteration 40000 lossfunction [[0.42001297]]\n",
      "Iteration 40500 lossfunction [[0.41836526]]\n",
      "Iteration 41000 lossfunction [[0.42912763]]\n",
      "Iteration 41500 lossfunction [[5.69843484]]\n",
      "Iteration 42000 lossfunction [[0.41637096]]\n",
      "Iteration 42500 lossfunction [[0.41534877]]\n",
      "Iteration 43000 lossfunction [[0.47602375]]\n",
      "Iteration 43500 lossfunction [[0.80598349]]\n",
      "Iteration 44000 lossfunction [[0.52067321]]\n",
      "Iteration 44500 lossfunction [[1.71273875]]\n",
      "Iteration 45000 lossfunction [[0.44651249]]\n",
      "Iteration 45500 lossfunction [[0.40725036]]\n",
      "Iteration 46000 lossfunction [[0.56054541]]\n",
      "Iteration 46500 lossfunction [[0.46574449]]\n",
      "Iteration 47000 lossfunction [[0.45277398]]\n",
      "Iteration 47500 lossfunction [[11.02271529]]\n",
      "Iteration 48000 lossfunction [[1.36971079]]\n",
      "Iteration 48500 lossfunction [[0.40628157]]\n",
      "Iteration 49000 lossfunction [[5.55479581]]\n",
      "Iteration 49500 lossfunction [[0.46564689]]\n",
      "Iteration 50000 lossfunction [[0.39523158]]\n"
     ]
    }
   ],
   "source": [
    "params = adam(grad(lossfunction), params,\n",
    "              step_size=0.01, num_iters=50001, callback=callback)"
   ]
  },
  {
   "cell_type": "code",
   "execution_count": 226,
   "metadata": {},
   "outputs": [
    {
     "data": {
      "image/png": "[encoded data removed]",
      "text/plain": [
       "<Figure size 432x288 with 1 Axes>"
      ]
     },
     "metadata": {
      "needs_background": "light"
     },
     "output_type": "display_data"
    }
   ],
   "source": [
    "tfit = np.linspace(0,1).reshape(-1, 1)\n",
    "import matplotlib.pyplot as plt\n",
    "plt.plot(tfit, y(params, tfit), label='soln')\n",
    "#plt.plot(tfit, np.power(tfit,2)/2, 'r--', label='analytical soln')\n",
    "plt.plot(tfit, 1+np.power(tfit,2)/2-np.exp(-tfit), 'r--', label='analytical soln')\n",
    "plt.legend()\n",
    "plt.xlabel('x')\n",
    "plt.ylabel('$y$')\n",
    "plt.xlim([0, 1])\n",
    "plt.savefig('odenn.png')"
   ]
  },
  {
   "cell_type": "code",
   "execution_count": null,
   "metadata": {},
   "outputs": [],
   "source": []
  }
 ],
 "metadata": {
  "kernelspec": {
   "display_name": "Python 3",
   "language": "python",
   "name": "python3"
  },
  "language_info": {
   "codemirror_mode": {
    "name": "ipython",
    "version": 3
   },
   "file_extension": ".py",
   "mimetype": "text/x-python",
   "name": "python",
   "nbconvert_exporter": "python",
   "pygments_lexer": "ipython3",
   "version": "3.8.3"
  }
 },
 "nbformat": 4,
 "nbformat_minor": 1
}
