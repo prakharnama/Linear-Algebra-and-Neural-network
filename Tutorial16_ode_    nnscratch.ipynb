{
 "cells": [
  {
   "cell_type": "markdown",
   "metadata": {},
   "source": [
    "# Tutorial 16 - Solving ODEs using Neural Networks\n",
    "Based on various resources from internet."
   ]
  },
  {
   "cell_type": "code",
   "execution_count": 3,
   "metadata": {},
   "outputs": [],
   "source": [
    "import autograd.numpy as np\n",
    "from autograd import grad, elementwise_grad\n",
    "import autograd.numpy.random as npr\n",
    "from autograd.misc.optimizers import adam"
   ]
  },
  {
   "cell_type": "code",
   "execution_count": 4,
   "metadata": {},
   "outputs": [],
   "source": [
    "def init_random_params(scale, layer_sizes, rs=npr.RandomState(0)):\n",
    "#Define a list of (weights, biases tuples, one for each layer.\"\n",
    "    return [(rs.randn(insize, outsize) * scale,   # weight matrix\n",
    "             rs.randn(outsize) * scale)           # bias vector\n",
    "            for insize, outsize in zip(layer_sizes[:-1], layer_sizes[1:])]"
   ]
  },
  {
   "cell_type": "code",
   "execution_count": 5,
   "metadata": {},
   "outputs": [],
   "source": [
    "# Define a sigmoid activation function. Can also be used from library. This is a simple definition.\n",
    "def sigmoid_activation(x):\n",
    "    \"see https://arxiv.org/pdf/1710.05941.pdf\"\n",
    "    return x / (1.0 + np.exp(-x))"
   ]
  },
  {
   "cell_type": "code",
   "execution_count": 6,
   "metadata": {},
   "outputs": [],
   "source": [
    "# Define function y based on neural networks. Outputs are linearly related to biases and weights.\n",
    "# Outputs of one layer are used as inputs to another layer via activation function.\n",
    "def y(params, inputs):\n",
    "    \"Neural network functions\"\n",
    "    for W, b in params:\n",
    "        outputs = np.dot(inputs, W) + b\n",
    "        inputs = sigmoid_activation(outputs)    \n",
    "    return outputs"
   ]
  },
  {
   "cell_type": "code",
   "execution_count": 7,
   "metadata": {},
   "outputs": [],
   "source": [
    "# Make an initial guess of params:\n",
    "params = init_random_params(0.1, layer_sizes=[1, 8, 1])"
   ]
  },
  {
   "cell_type": "code",
   "execution_count": 8,
   "metadata": {},
   "outputs": [],
   "source": [
    "dydx = elementwise_grad(y, 1) # this is the second partial derivative of y w/t x"
   ]
  },
  {
   "cell_type": "code",
   "execution_count": 9,
   "metadata": {},
   "outputs": [],
   "source": [
    "k = 1.0\n",
    "y0 = 1.0\n",
    "x = np.linspace(0, 10).reshape((-1, 1))"
   ]
  },
  {
   "cell_type": "code",
   "execution_count": 10,
   "metadata": {},
   "outputs": [],
   "source": [
    "# Define the objective function.\n",
    "def lossfunction(params, step):\n",
    "    # The objective is to minimize to zero.\n",
    "    # dydx = -k * y(x)\n",
    "    zeq = dydx(params, x) - (-k * y(params, x))\n",
    "    ic = y(params, 0) - y0\n",
    "    return np.mean(zeq**2) + ic**2"
   ]
  },
  {
   "cell_type": "code",
   "execution_count": 11,
   "metadata": {},
   "outputs": [],
   "source": [
    "def callback(params, step, g):\n",
    "    if step % 500 == 0:\n",
    "        print(\"Iteration {0:3d} lossfunction {1}\".format(step,\n",
    "                                                      lossfunction(params, step)))"
   ]
  },
  {
   "cell_type": "code",
   "execution_count": 12,
   "metadata": {},
   "outputs": [
    {
     "name": "stdout",
     "output_type": "stream",
     "text": [
      "Iteration   0 lossfunction [[0.63437147]]\n",
      "Iteration 500 lossfunction [[0.00728755]]\n",
      "Iteration 1000 lossfunction [[0.00338045]]\n",
      "Iteration 1500 lossfunction [[0.00104329]]\n",
      "Iteration 2000 lossfunction [[0.00038653]]\n",
      "Iteration 2500 lossfunction [[0.00024771]]\n",
      "Iteration 3000 lossfunction [[0.00018579]]\n",
      "Iteration 3500 lossfunction [[0.00015435]]\n",
      "Iteration 4000 lossfunction [[0.00013592]]\n",
      "Iteration 4500 lossfunction [[0.00012043]]\n",
      "Iteration 5000 lossfunction [[0.00010691]]\n",
      "Iteration 5500 lossfunction [[9.27124017e-05]]\n",
      "Iteration 6000 lossfunction [[7.65316839e-05]]\n",
      "Iteration 6500 lossfunction [[6.00031559e-05]]\n",
      "Iteration 7000 lossfunction [[4.56343011e-05]]\n",
      "Iteration 7500 lossfunction [[3.43747595e-05]]\n",
      "Iteration 8000 lossfunction [[2.58634049e-05]]\n",
      "Iteration 8500 lossfunction [[1.9565836e-05]]\n",
      "Iteration 9000 lossfunction [[1.49702565e-05]]\n",
      "Iteration 9500 lossfunction [[1.14532175e-05]]\n",
      "Iteration 10000 lossfunction [[8.59819672e-06]]\n"
     ]
    }
   ],
   "source": [
    "params = adam(grad(lossfunction), params,\n",
    "              step_size=0.001, num_iters=10001, callback=callback) "
   ]
  },
  {
   "cell_type": "code",
   "execution_count": 14,
   "metadata": {},
   "outputs": [
    {
     "data": {
      "image/png": "[encoded data removed]",
      "text/plain": [
       "<Figure size 432x288 with 1 Axes>"
      ]
     },
     "metadata": {
      "needs_background": "light"
     },
     "output_type": "display_data"
    }
   ],
   "source": [
    "tfit = np.linspace(0, 20).reshape(-1, 1)\n",
    "import matplotlib.pyplot as plt\n",
    "plt.plot(tfit, y(params, tfit), label='soln')\n",
    "plt.plot(tfit, y0 * np.exp(-k * tfit), 'r--', label='analytical soln')\n",
    "plt.legend()\n",
    "plt.xlabel('x')\n",
    "plt.ylabel('$y$')\n",
    "plt.xlim([0, 20])\n",
    "plt.savefig('odenn.png')"
   ]
  },
  {
   "cell_type": "code",
   "execution_count": 2,
   "metadata": {},
   "outputs": [
    {
     "name": "stdout",
     "output_type": "stream",
     "text": [
      "Collecting package metadata (current_repodata.json): ...working... done\n",
      "Solving environment: ...working... done\n",
      "\n",
      "## Package Plan ##\n",
      "\n",
      "  environment location: C:\\Users\\prakh\\anaconda3\n",
      "\n",
      "  added / updated specs:\n",
      "    - autograd\n",
      "\n",
      "\n",
      "The following packages will be downloaded:\n",
      "\n",
      "    package                    |            build\n",
      "    ---------------------------|-----------------\n",
      "    autograd-1.3               |             py_0          39 KB  conda-forge\n",
      "    conda-4.9.2                |   py38haa244fe_0         3.1 MB  conda-forge\n",
      "    python_abi-3.8             |           1_cp38           4 KB  conda-forge\n",
      "    ------------------------------------------------------------\n",
      "                                           Total:         3.1 MB\n",
      "\n",
      "The following NEW packages will be INSTALLED:\n",
      "\n",
      "  autograd           conda-forge/noarch::autograd-1.3-py_0\n",
      "  python_abi         conda-forge/win-64::python_abi-3.8-1_cp38\n",
      "\n",
      "The following packages will be SUPERSEDED by a higher-priority channel:\n",
      "\n",
      "  conda               pkgs/main::conda-4.9.2-py38haa95532_0 --> conda-forge::conda-4.9.2-py38haa244fe_0\n",
      "\n",
      "\n",
      "\n",
      "Downloading and Extracting Packages\n",
      "\n",
      "python_abi-3.8       | 4 KB      |            |   0% \n",
      "python_abi-3.8       | 4 KB      | ########## | 100% \n",
      "python_abi-3.8       | 4 KB      | ########## | 100% \n",
      "\n",
      "conda-4.9.2          | 3.1 MB    |            |   0% \n",
      "conda-4.9.2          | 3.1 MB    | 1          |   2% \n",
      "conda-4.9.2          | 3.1 MB    | 5          |   5% \n",
      "conda-4.9.2          | 3.1 MB    | #2         |  12% \n",
      "conda-4.9.2          | 3.1 MB    | ##7        |  27% \n",
      "conda-4.9.2          | 3.1 MB    | ####9      |  50% \n",
      "conda-4.9.2          | 3.1 MB    | ########   |  80% \n",
      "conda-4.9.2          | 3.1 MB    | ########## | 100% \n",
      "conda-4.9.2          | 3.1 MB    | ########## | 100% \n",
      "\n",
      "autograd-1.3         | 39 KB     |            |   0% \n",
      "autograd-1.3         | 39 KB     | ########## | 100% \n",
      "autograd-1.3         | 39 KB     | ########## | 100% \n",
      "Preparing transaction: ...working... done\n",
      "Verifying transaction: ...working... done\n",
      "Executing transaction: ...working... done\n",
      "\n",
      "Note: you may need to restart the kernel to use updated packages.\n"
     ]
    }
   ],
   "source": [
    "conda install -c conda-forge autograd\n"
   ]
  },
  {
   "cell_type": "code",
   "execution_count": null,
   "metadata": {},
   "outputs": [],
   "source": []
  }
 ],
 "metadata": {
  "kernelspec": {
   "display_name": "Python 3",
   "language": "python",
   "name": "python3"
  },
  "language_info": {
   "codemirror_mode": {
    "name": "ipython",
    "version": 3
   },
   "file_extension": ".py",
   "mimetype": "text/x-python",
   "name": "python",
   "nbconvert_exporter": "python",
   "pygments_lexer": "ipython3",
   "version": "3.8.3"
  }
 },
 "nbformat": 4,
 "nbformat_minor": 1
}
