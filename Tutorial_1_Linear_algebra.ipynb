{
 "cells": [
  {
   "cell_type": "markdown",
   "metadata": {},
   "source": [
    "# Tutorial 1 solution\n"
   ]
  },
  {
   "cell_type": "markdown",
   "metadata": {},
   "source": [
    "## Q 1. Define a 3 × 3 matrix and determine transpose of A as AT =⇒ (AT)i,j = Ai,j"
   ]
  },
  {
   "cell_type": "code",
   "execution_count": 2,
   "metadata": {},
   "outputs": [
    {
     "name": "stdout",
     "output_type": "stream",
     "text": [
      "[[1 4 5]\n",
      " [5 6 6]\n",
      " [7 8 9]]\n"
     ]
    }
   ],
   "source": [
    "import numpy as np\n",
    "x = [[1,4,5],\n",
    "    [5,6,6],\n",
    "    [7,8,9]]\n",
    "A = np.array(x)\n",
    "print(A)"
   ]
  },
  {
   "cell_type": "code",
   "execution_count": 3,
   "metadata": {},
   "outputs": [
    {
     "name": "stdout",
     "output_type": "stream",
     "text": [
      "[[1 5 7]\n",
      " [4 6 8]\n",
      " [5 6 9]]\n"
     ]
    }
   ],
   "source": [
    "AT = np.transpose(A)\n",
    "print(AT)"
   ]
  },
  {
   "cell_type": "code",
   "execution_count": 4,
   "metadata": {},
   "outputs": [
    {
     "data": {
      "text/plain": [
       "array([[ True, False, False],\n",
       "       [False,  True, False],\n",
       "       [False, False,  True]])"
      ]
     },
     "execution_count": 4,
     "metadata": {},
     "output_type": "execute_result"
    }
   ],
   "source": [
    "## boolean value as follows:\n",
    "A == AT"
   ]
  },
  {
   "cell_type": "markdown",
   "metadata": {},
   "source": [
    "## Q 2. Find a practical example to demonstrate applicability of A = AT."
   ]
  },
  {
   "cell_type": "code",
   "execution_count": 5,
   "metadata": {},
   "outputs": [
    {
     "name": "stdout",
     "output_type": "stream",
     "text": [
      "[[ 0  4  8 12]\n",
      " [ 1  5  9 13]\n",
      " [ 2  6 10 14]\n",
      " [ 3  7 11 15]]\n"
     ]
    }
   ],
   "source": [
    "B = np.arange(16).reshape(4,4)\n",
    "print(B.T)"
   ]
  },
  {
   "cell_type": "code",
   "execution_count": 6,
   "metadata": {},
   "outputs": [
    {
     "data": {
      "text/plain": [
       "array([[ True, False, False, False],\n",
       "       [False,  True, False, False],\n",
       "       [False, False,  True, False],\n",
       "       [False, False, False,  True]])"
      ]
     },
     "execution_count": 6,
     "metadata": {},
     "output_type": "execute_result"
    }
   ],
   "source": [
    "B==B.T\n",
    "#boolean type statement"
   ]
  },
  {
   "cell_type": "markdown",
   "metadata": {},
   "source": [
    "## Q.3: Print any three elements of the matrix and sum and print"
   ]
  },
  {
   "cell_type": "code",
   "execution_count": 7,
   "metadata": {},
   "outputs": [
    {
     "name": "stdout",
     "output_type": "stream",
     "text": [
      "[2 4 5] [ 9 21  0] [6 7 9]\n"
     ]
    }
   ],
   "source": [
    "q3 = np.array([[2,4,5],\n",
    "               [6,7,9],\n",
    "               [9,21,0]])\n",
    "print(q3[0],q3[2],q3[1])\n"
   ]
  },
  {
   "cell_type": "code",
   "execution_count": 8,
   "metadata": {},
   "outputs": [
    {
     "name": "stdout",
     "output_type": "stream",
     "text": [
      "17\n"
     ]
    }
   ],
   "source": [
    "sum = 0\n",
    "for i in range(3):\n",
    "    sum += q3[i,0]\n",
    "print(sum)"
   ]
  },
  {
   "cell_type": "markdown",
   "metadata": {},
   "source": [
    "## Q4: Define another matrix of same type and add the two matrices."
   ]
  },
  {
   "cell_type": "code",
   "execution_count": 9,
   "metadata": {},
   "outputs": [
    {
     "name": "stdout",
     "output_type": "stream",
     "text": [
      "[[ 2  5  7]\n",
      " [ 9 11 14]\n",
      " [15 28  8]]\n"
     ]
    }
   ],
   "source": [
    "q4 = np.arange(9).reshape(3,3)\n",
    "q4  = q4+q3\n",
    "# we can specify column and rows in case of size difference in matrix as q4[0:2,3]\n",
    "print(q4)"
   ]
  },
  {
   "cell_type": "markdown",
   "metadata": {},
   "source": [
    "## Q 5. Multiply the first matrix with a scalar and then add this new matrix to the second matrix"
   ]
  },
  {
   "cell_type": "code",
   "execution_count": 10,
   "metadata": {},
   "outputs": [
    {
     "name": "stdout",
     "output_type": "stream",
     "text": [
      "[[ 5.  11.  14.5]\n",
      " [18.  21.5 27.5]\n",
      " [28.5 59.5  8. ]]\n"
     ]
    }
   ],
   "source": [
    "q5 = q3*1.5 + q4\n",
    "print(q5)\n",
    "# multiplying the scaler will lead to multiplying all the elemnets of matrix with the scaler quantity.\n"
   ]
  },
  {
   "cell_type": "markdown",
   "metadata": {},
   "source": [
    "## Q 6. Add a vector b to the original matrix A using C = A + b i.e. Ci,j = Ai,j + bj . This is essentially anoperation that adds vector b to each row of the matrix A."
   ]
  },
  {
   "cell_type": "code",
   "execution_count": 11,
   "metadata": {},
   "outputs": [
    {
     "name": "stdout",
     "output_type": "stream",
     "text": [
      "[2 6 9]\n",
      "[ 6  8 10]\n",
      "[ 8 10 13]\n"
     ]
    }
   ],
   "source": [
    "b = np.array([1,2,4])\n",
    "for i in range(len(A)):\n",
    "    C = A[i,:]+b\n",
    "    print(C)\n",
    "# as we add the matrix A with b vector we see that each column is increase with th first value of b or b is added to each row to the matrix A"
   ]
  },
  {
   "cell_type": "code",
   "execution_count": 12,
   "metadata": {},
   "outputs": [
    {
     "name": "stdout",
     "output_type": "stream",
     "text": [
      "[[ 2  6  9]\n",
      " [ 6  8 10]\n",
      " [ 8 10 13]]\n"
     ]
    }
   ],
   "source": [
    "# also version of C \n",
    "C = A + b \n",
    "print(C)\n",
    "# b if same type as that of will add to each row"
   ]
  },
  {
   "cell_type": "markdown",
   "metadata": {},
   "source": [
    "## Q7: Analyse right and left invert matrices for a square and a non-square matrix"
   ]
  },
  {
   "cell_type": "code",
   "execution_count": 13,
   "metadata": {},
   "outputs": [
    {
     "name": "stdout",
     "output_type": "stream",
     "text": [
      "[[-0.375  -0.25    0.375 ]\n",
      " [ 0.1875  1.625  -1.1875]\n",
      " [ 0.125  -1.25    0.875 ]]\n",
      "[[1. 4. 5.]\n",
      " [5. 6. 6.]\n",
      " [7. 8. 9.]]\n"
     ]
    }
   ],
   "source": [
    "# as the equation Ax = b we consider the matrix A and invert the matrix\n",
    "#*Square Matrix*\n",
    "q7 = np.linalg.inv(A)\n",
    "print(q7)\n",
    "#please note that inverse exists for the square matrix\n",
    "new_q7 = np.linalg.inv(q7)\n",
    "print(new_q7)"
   ]
  },
  {
   "cell_type": "code",
   "execution_count": 14,
   "metadata": {},
   "outputs": [
    {
     "ename": "LinAlgError",
     "evalue": "Last 2 dimensions of the array must be square",
     "output_type": "error",
     "traceback": [
      "\u001b[1;31m---------------------------------------------------------------------------\u001b[0m",
      "\u001b[1;31mLinAlgError\u001b[0m                               Traceback (most recent call last)",
      "\u001b[1;32m<ipython-input-14-b4309082fb3a>\u001b[0m in \u001b[0;36m<module>\u001b[1;34m\u001b[0m\n\u001b[0;32m      2\u001b[0m a = np.array([[1,23,4],\n\u001b[0;32m      3\u001b[0m             [9,33,4]])\n\u001b[1;32m----> 4\u001b[1;33m \u001b[0minverse\u001b[0m \u001b[1;33m=\u001b[0m \u001b[0mnp\u001b[0m\u001b[1;33m.\u001b[0m\u001b[0mlinalg\u001b[0m\u001b[1;33m.\u001b[0m\u001b[0minv\u001b[0m\u001b[1;33m(\u001b[0m\u001b[0ma\u001b[0m\u001b[1;33m)\u001b[0m\u001b[1;33m\u001b[0m\u001b[1;33m\u001b[0m\u001b[0m\n\u001b[0m",
      "\u001b[1;32m<__array_function__ internals>\u001b[0m in \u001b[0;36minv\u001b[1;34m(*args, **kwargs)\u001b[0m\n",
      "\u001b[1;32m~\\anaconda3\\lib\\site-packages\\numpy\\linalg\\linalg.py\u001b[0m in \u001b[0;36minv\u001b[1;34m(a)\u001b[0m\n\u001b[0;32m    540\u001b[0m     \u001b[0ma\u001b[0m\u001b[1;33m,\u001b[0m \u001b[0mwrap\u001b[0m \u001b[1;33m=\u001b[0m \u001b[0m_makearray\u001b[0m\u001b[1;33m(\u001b[0m\u001b[0ma\u001b[0m\u001b[1;33m)\u001b[0m\u001b[1;33m\u001b[0m\u001b[1;33m\u001b[0m\u001b[0m\n\u001b[0;32m    541\u001b[0m     \u001b[0m_assert_stacked_2d\u001b[0m\u001b[1;33m(\u001b[0m\u001b[0ma\u001b[0m\u001b[1;33m)\u001b[0m\u001b[1;33m\u001b[0m\u001b[1;33m\u001b[0m\u001b[0m\n\u001b[1;32m--> 542\u001b[1;33m     \u001b[0m_assert_stacked_square\u001b[0m\u001b[1;33m(\u001b[0m\u001b[0ma\u001b[0m\u001b[1;33m)\u001b[0m\u001b[1;33m\u001b[0m\u001b[1;33m\u001b[0m\u001b[0m\n\u001b[0m\u001b[0;32m    543\u001b[0m     \u001b[0mt\u001b[0m\u001b[1;33m,\u001b[0m \u001b[0mresult_t\u001b[0m \u001b[1;33m=\u001b[0m \u001b[0m_commonType\u001b[0m\u001b[1;33m(\u001b[0m\u001b[0ma\u001b[0m\u001b[1;33m)\u001b[0m\u001b[1;33m\u001b[0m\u001b[1;33m\u001b[0m\u001b[0m\n\u001b[0;32m    544\u001b[0m \u001b[1;33m\u001b[0m\u001b[0m\n",
      "\u001b[1;32m~\\anaconda3\\lib\\site-packages\\numpy\\linalg\\linalg.py\u001b[0m in \u001b[0;36m_assert_stacked_square\u001b[1;34m(*arrays)\u001b[0m\n\u001b[0;32m    211\u001b[0m         \u001b[0mm\u001b[0m\u001b[1;33m,\u001b[0m \u001b[0mn\u001b[0m \u001b[1;33m=\u001b[0m \u001b[0ma\u001b[0m\u001b[1;33m.\u001b[0m\u001b[0mshape\u001b[0m\u001b[1;33m[\u001b[0m\u001b[1;33m-\u001b[0m\u001b[1;36m2\u001b[0m\u001b[1;33m:\u001b[0m\u001b[1;33m]\u001b[0m\u001b[1;33m\u001b[0m\u001b[1;33m\u001b[0m\u001b[0m\n\u001b[0;32m    212\u001b[0m         \u001b[1;32mif\u001b[0m \u001b[0mm\u001b[0m \u001b[1;33m!=\u001b[0m \u001b[0mn\u001b[0m\u001b[1;33m:\u001b[0m\u001b[1;33m\u001b[0m\u001b[1;33m\u001b[0m\u001b[0m\n\u001b[1;32m--> 213\u001b[1;33m             \u001b[1;32mraise\u001b[0m \u001b[0mLinAlgError\u001b[0m\u001b[1;33m(\u001b[0m\u001b[1;34m'Last 2 dimensions of the array must be square'\u001b[0m\u001b[1;33m)\u001b[0m\u001b[1;33m\u001b[0m\u001b[1;33m\u001b[0m\u001b[0m\n\u001b[0m\u001b[0;32m    214\u001b[0m \u001b[1;33m\u001b[0m\u001b[0m\n\u001b[0;32m    215\u001b[0m \u001b[1;32mdef\u001b[0m \u001b[0m_assert_finite\u001b[0m\u001b[1;33m(\u001b[0m\u001b[1;33m*\u001b[0m\u001b[0marrays\u001b[0m\u001b[1;33m)\u001b[0m\u001b[1;33m:\u001b[0m\u001b[1;33m\u001b[0m\u001b[1;33m\u001b[0m\u001b[0m\n",
      "\u001b[1;31mLinAlgError\u001b[0m: Last 2 dimensions of the array must be square"
     ]
    }
   ],
   "source": [
    "# now Applying inverse to non square matrix ax = b\n",
    "a = np.array([[1,23,4],\n",
    "            [9,33,4]])\n",
    "inverse = np.linalg.inv(a)"
   ]
  },
  {
   "cell_type": "markdown",
   "metadata": {},
   "source": [
    "## Q 8. Show that L0 can not be a norm.\n",
    "## Q 9. Choose a non-singular and non-Identity matrix and determine its eigenvalues and eigenvectors"
   ]
  },
  {
   "cell_type": "code",
   "execution_count": 32,
   "metadata": {},
   "outputs": [
    {
     "name": "stdout",
     "output_type": "stream",
     "text": [
      "Deteminent of q9:  -142.99999999999994\n",
      "[37.16532244 -0.5981325   6.43281006]\n",
      "[[-0.14997459 -0.86647339  0.01563503]\n",
      " [-0.13100469  0.48644887 -0.7724176 ]\n",
      " [-0.97997214 -0.11221123  0.63492251]]\n"
     ]
    }
   ],
   "source": [
    "## Singular matrix means determinent zero and non identity is determinet ==1\n",
    "q9 = np.array([[1,4,5],\n",
    "              [5,9,3],\n",
    "              [8,22,33]])\n",
    "det = np.linalg.det(q9)\n",
    "evalue, evector = np.linalg.eig(q9)\n",
    "print(\"Deteminent of q9: \",det)\n",
    "## this shows that it is a non singular and non identity matrix\n",
    "print(evalue)\n",
    "# this is the list of eigen value \n",
    "print(evector)\n",
    "#this is the array of eigen vector where each column is a eigen vector and here 3 eigen vector"
   ]
  },
  {
   "cell_type": "code",
   "execution_count": 27,
   "metadata": {},
   "outputs": [
    {
     "name": "stdout",
     "output_type": "stream",
     "text": [
      "[ -5.57385405  -4.8688316  -36.42098052]\n",
      "[ -5.57385405  -4.8688316  -36.42098052]\n"
     ]
    }
   ],
   "source": [
    "#proof of eigen vector and values.\n",
    "#matrix*eigen vector = eigen value*vector\n",
    "p = evalue[0]*evector[:,0]\n",
    "print(p)\n",
    "z = np.matmul(q9,evector[:,0])\n",
    "print(z)\n"
   ]
  },
  {
   "cell_type": "markdown",
   "metadata": {},
   "source": [
    "## Q 10: In the above example, show that the determinant of the matrix is given by product of its eigenvalues"
   ]
  },
  {
   "cell_type": "code",
   "execution_count": 62,
   "metadata": {},
   "outputs": [
    {
     "name": "stdout",
     "output_type": "stream",
     "text": [
      "Value of product of eigen values:  -142.9999999999998\n",
      "Deteminent of q9:  -142.99999999999994\n"
     ]
    }
   ],
   "source": [
    "Z = evalue[0]*evalue[1]*evalue[2]\n",
    "print(\"Value of product of eigen values: \",Z)\n",
    "print(\"Deteminent of q9: \",det)\n",
    "## clearly determinent of q9 == eigen values"
   ]
  },
  {
   "cell_type": "markdown",
   "metadata": {},
   "source": [
    "## Q11: Choose any three matrices of same size and show that T r(ABC) = T r(CAB) = T r(BCA)."
   ]
  },
  {
   "cell_type": "code",
   "execution_count": 35,
   "metadata": {},
   "outputs": [],
   "source": [
    "Mat1 = np.arange(4).reshape(2,2)\n",
    "Mat2 = np.arange(8,12).reshape(2,2)\n",
    "Mat3 = np.arange(20,24).reshape(2,2)"
   ]
  },
  {
   "cell_type": "code",
   "execution_count": 40,
   "metadata": {},
   "outputs": [
    {
     "name": "stdout",
     "output_type": "stream",
     "text": [
      "[[ 442  463]\n",
      " [2042 2139]]\n",
      "2581\n"
     ]
    }
   ],
   "source": [
    "Mat1*Mat2\n",
    "# elemental multiplication\n",
    "m1 = np.matmul(Mat1,np.matmul(Mat2,Mat3))\n",
    "print(m1)\n",
    "#matrix muliplication\n",
    "print(np.trace(m1))"
   ]
  },
  {
   "cell_type": "code",
   "execution_count": 41,
   "metadata": {},
   "outputs": [
    {
     "name": "stdout",
     "output_type": "stream",
     "text": [
      "[[1166 1291]\n",
      " [1278 1415]]\n",
      "2581\n"
     ]
    }
   ],
   "source": [
    "m2 = np.matmul(Mat3,np.matmul(Mat1,Mat2))\n",
    "print(m2)\n",
    "print(np.trace(m2))"
   ]
  },
  {
   "cell_type": "code",
   "execution_count": 42,
   "metadata": {},
   "outputs": [
    {
     "name": "stdout",
     "output_type": "stream",
     "text": [
      "[[ 750 1483]\n",
      " [ 926 1831]]\n",
      "2581\n"
     ]
    }
   ],
   "source": [
    "m3 = np.matmul(Mat2,np.matmul(Mat3,Mat1))\n",
    "print(m3)\n",
    "print(np.trace(m3))\n",
    "''' As we can see clearly that Trace of 1 == Trace of 2 == Trace of 3 i.e. 2581'''"
   ]
  },
  {
   "cell_type": "markdown",
   "metadata": {},
   "source": [
    "## Q 12. Do the above exercise by having matrices of different sizes but making sure that their product is possible.\n"
   ]
  },
  {
   "cell_type": "code",
   "execution_count": 53,
   "metadata": {},
   "outputs": [],
   "source": [
    "'''Now for the non square matrix we apply the above products'''\n",
    "import numpy as np\n",
    "matrix_1 = np.arange(18,24).reshape(3,2)\n",
    "matrix_2 = np.arange(10,16).reshape(2,3)\n",
    "matrix_3 = np.arange(2,11).reshape(3,3)"
   ]
  },
  {
   "cell_type": "code",
   "execution_count": 57,
   "metadata": {},
   "outputs": [
    {
     "name": "stdout",
     "output_type": "stream",
     "text": [
      "[[ 4349  4726  5103]\n",
      " [ 8606  9352 10098]\n",
      " [12863 13978 15093]]\n",
      "28794\n"
     ]
    }
   ],
   "source": [
    "M1 = np.matmul(matrix_3,np.matmul(matrix_1,matrix_2))\n",
    "print(M1)\n",
    "print(np.trace(M1))"
   ]
  },
  {
   "cell_type": "code",
   "execution_count": 58,
   "metadata": {},
   "outputs": [
    {
     "name": "stdout",
     "output_type": "stream",
     "text": [
      "[[ 7182  8574  9966]\n",
      " [ 7956  9498 11040]\n",
      " [ 8730 10422 12114]]\n",
      "28794\n"
     ]
    }
   ],
   "source": [
    "M2 = np.matmul(matrix_1,np.matmul(matrix_2,matrix_3))\n",
    "print(M2)\n",
    "print(np.trace(M2))"
   ]
  },
  {
   "cell_type": "code",
   "execution_count": 60,
   "metadata": {},
   "outputs": [
    {
     "name": "stdout",
     "output_type": "stream",
     "text": [
      "[[12372 12984]\n",
      " [15648 16422]]\n",
      "28794\n"
     ]
    }
   ],
   "source": [
    "M3 = np.matmul(matrix_2,np.matmul(matrix_3,matrix_1))\n",
    "print(M3)\n",
    "print(np.trace(M3))\n",
    "'''Now for the different matrix of size 3,2 and 2,3 also satisfy the above product rule'''"
   ]
  },
  {
   "cell_type": "markdown",
   "metadata": {},
   "source": [
    "## Q 13. Show how a circle is distorted by the eignvalues and eigenvectors of a matrix."
   ]
  },
  {
   "cell_type": "code",
   "execution_count": 107,
   "metadata": {},
   "outputs": [],
   "source": [
    "'''suppose that the 100, 100 values for the circle eigen values so when we change the values to 210,180.'''\n",
    "import math \n",
    "from PIL import Image, ImageDraw \n",
    "  \n",
    "w, h = 220, 190\n",
    "shape = [(40, 40), (w - 10, h - 10)] \n",
    "shape1 = [(40,40), (100 , 100)]\n",
    "# creating new Image object \n",
    "img = Image.new(\"RGB\", (w, h)) \n",
    "  \n",
    "# create ellipse image \n",
    "\n",
    "img1 = ImageDraw.Draw(img)   \n",
    "img1.ellipse(shape1 ,outline=\"red\")\n",
    "\n",
    "img1 = ImageDraw.Draw(img)   \n",
    "img1.ellipse(shape, outline =\"green\") \n",
    "img.show() "
   ]
  },
  {
   "cell_type": "markdown",
   "metadata": {},
   "source": [
    "# Q 14. A matrix is singular if and only if any of the eigenvalues are zero.\n"
   ]
  },
  {
   "cell_type": "code",
   "execution_count": 87,
   "metadata": {},
   "outputs": [
    {
     "name": "stdout",
     "output_type": "stream",
     "text": [
      "0.0\n",
      "[2.50000000e+00+5.97913037j 2.50000000e+00-5.97913037j\n",
      " 6.82496752e-17+0.j        ]\n",
      "[[ 0.72760688+0.j          0.72760688-0.j          0.19245009+0.j        ]\n",
      " [-0.0404226 +0.48338404j -0.0404226 -0.48338404j -0.19245009+0.j        ]\n",
      " [-0.0404226 +0.48338404j -0.0404226 -0.48338404j  0.96225045+0.j        ]]\n"
     ]
    }
   ],
   "source": [
    "'''A matrix is singular if and only if determinent is zero but the eigenvalues is non zero than also it can be a singular matrix'''\n",
    "singular = np.array([[3,8,1],\n",
    "                    [-4,1,1],\n",
    "                    [-4,1,1]])\n",
    "determ = np.linalg.det(singular)\n",
    "print(determ)\n",
    "value,vector = np.linalg.eig(singular)\n",
    "print(value)\n",
    "print(vector)\n",
    "\n",
    "##proof is shown here"
   ]
  },
  {
   "cell_type": "code",
   "execution_count": 82,
   "metadata": {},
   "outputs": [
    {
     "name": "stdout",
     "output_type": "stream",
     "text": [
      "[ 0. -3.  3.]\n",
      "[[ 0.          0.          0.70710678]\n",
      " [ 0.          0.70710678 -0.70710678]\n",
      " [ 1.         -0.70710678  0.        ]]\n",
      "0.0\n"
     ]
    }
   ],
   "source": [
    "'''Inverse is not possible for the matrix and eigen value is zero therefor '''\n",
    "D =  np.array([[3,0,0],\n",
    "              [-6,-3,0],\n",
    "              [3,3,0]])\n",
    "val, vect = np.linalg.eig(D)\n",
    "print(val)\n",
    "print(vect)\n",
    "print(np.linalg.det(D))\n",
    "'''So it is proven that only '''"
   ]
  },
  {
   "cell_type": "code",
   "execution_count": null,
   "metadata": {},
   "outputs": [],
   "source": []
  }
 ],
 "metadata": {
  "kernelspec": {
   "display_name": "Python 3",
   "language": "python",
   "name": "python3"
  },
  "language_info": {
   "codemirror_mode": {
    "name": "ipython",
    "version": 3
   },
   "file_extension": ".py",
   "mimetype": "text/x-python",
   "name": "python",
   "nbconvert_exporter": "python",
   "pygments_lexer": "ipython3",
   "version": "3.8.3"
  }
 },
 "nbformat": 4,
 "nbformat_minor": 4
}
