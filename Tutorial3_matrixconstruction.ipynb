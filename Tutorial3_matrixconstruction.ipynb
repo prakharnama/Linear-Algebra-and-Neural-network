{
 "cells": [
  {
   "cell_type": "markdown",
   "metadata": {},
   "source": [
    "# Matrix decomposition and construction\n",
    "<b> 2D Example of $A = Q \\Lambda Q^{-1}$ \n",
    "#This is true for a non-symmetric matrix."
   ]
  },
  {
   "cell_type": "code",
   "execution_count": 2,
   "metadata": {},
   "outputs": [],
   "source": [
    "import numpy as np"
   ]
  },
  {
   "cell_type": "code",
   "execution_count": 4,
   "metadata": {},
   "outputs": [
    {
     "name": "stdout",
     "output_type": "stream",
     "text": [
      "[1 1]\n",
      "[2 3]\n",
      "[-2  7]\n",
      "<class 'numpy.ndarray'>\n",
      "<class 'numpy.ndarray'>\n"
     ]
    }
   ],
   "source": [
    "listv1 = [1, 1] # these are my eigenvector arrays\n",
    "listv2 = [2, 3]\n",
    "listlambda = [-2, 7] # this is my eigenvalues array\n",
    "lambdamatrix=np.zeros((2,2))\n",
    "v1 = np.array(listv1)\n",
    "v2 = np.array(listv2)\n",
    "lambdaarray = np.array(listlambda)\n",
    "print(v1)\n",
    "print(v2)\n",
    "print(lambdaarray)\n",
    "print(type(v1))\n",
    "print(type(lambdaarray))\n"
   ]
  },
  {
   "cell_type": "code",
   "execution_count": 6,
   "metadata": {},
   "outputs": [
    {
     "name": "stdout",
     "output_type": "stream",
     "text": [
      "[[1 2]\n",
      " [1 3]]\n"
     ]
    }
   ],
   "source": [
    "Q =np.column_stack((v1,v2)) # make Q matrix by stacking eigenvectors as columns\n",
    "print(Q)"
   ]
  },
  {
   "cell_type": "markdown",
   "metadata": {},
   "source": [
    "<b> Let check if the Q is Orthogonal or not i.e. is $Q^T = Q^{-1}$ ?"
   ]
  },
  {
   "cell_type": "code",
   "execution_count": 7,
   "metadata": {},
   "outputs": [
    {
     "data": {
      "text/plain": [
       "array([[ 3., -2.],\n",
       "       [-1.,  1.]])"
      ]
     },
     "execution_count": 7,
     "metadata": {},
     "output_type": "execute_result"
    }
   ],
   "source": [
    "C = np.linalg.inv(Q)\n",
    "C"
   ]
  },
  {
   "cell_type": "code",
   "execution_count": 8,
   "metadata": {},
   "outputs": [
    {
     "data": {
      "text/plain": [
       "array([[1, 1],\n",
       "       [2, 3]])"
      ]
     },
     "execution_count": 8,
     "metadata": {},
     "output_type": "execute_result"
    }
   ],
   "source": [
    "D = np.transpose(Q)\n",
    "D"
   ]
  },
  {
   "cell_type": "code",
   "execution_count": 9,
   "metadata": {},
   "outputs": [
    {
     "name": "stdout",
     "output_type": "stream",
     "text": [
      "[[-2  0]\n",
      " [ 0  7]]\n"
     ]
    }
   ],
   "source": [
    "lambdamatrix = np.array([[lambdaarray[0],0],[0,lambdaarray[1]]]) # Let us the diagonal matrix of eigenvalues\n",
    "print(lambdamatrix)"
   ]
  },
  {
   "cell_type": "code",
   "execution_count": 10,
   "metadata": {},
   "outputs": [
    {
     "data": {
      "text/plain": [
       "array([[-20.,  18.],\n",
       "       [-27.,  25.]])"
      ]
     },
     "execution_count": 10,
     "metadata": {},
     "output_type": "execute_result"
    }
   ],
   "source": [
    "import numpy as np\n",
    "A = np.matmul(Q,np.matmul(lambdamatrix,np.linalg.inv(Q))) # construct the matrix\n",
    "A"
   ]
  },
  {
   "cell_type": "markdown",
   "metadata": {},
   "source": [
    "# Let us repeat the exercise for a 3 x 3 matrix"
   ]
  },
  {
   "cell_type": "code",
   "execution_count": 15,
   "metadata": {},
   "outputs": [
    {
     "name": "stdout",
     "output_type": "stream",
     "text": [
      "[1 2 4]\n",
      "[5 7 8]\n",
      "[5 9 1]\n",
      "[-2  3  2]\n",
      "<class 'numpy.ndarray'>\n",
      "<class 'numpy.ndarray'>\n",
      "<class 'numpy.ndarray'>\n"
     ]
    }
   ],
   "source": [
    "listv1 = [1, 2, 4] # these are my eigenvector arrays\n",
    "listv2 = [5, 7, 8]\n",
    "listv3 = [5, 9, 1]\n",
    "listlambda = [-2, 3, 2] # this is my eigenvalues array\n",
    "lambdamatrix=np.zeros((3,3))\n",
    "v1 = np.array(listv1)\n",
    "v2 = np.array(listv2)\n",
    "v3 = np.array(listv3)\n",
    "lambdaarray = np.array(listlambda)\n",
    "print(v1)\n",
    "print(v2)\n",
    "print(v3)\n",
    "print(lambdaarray)\n",
    "print(type(v1))\n",
    "print(type(lambdaarray))\n",
    "print(type(Q))"
   ]
  },
  {
   "cell_type": "code",
   "execution_count": 12,
   "metadata": {
    "scrolled": true
   },
   "outputs": [
    {
     "name": "stdout",
     "output_type": "stream",
     "text": [
      "[[1 5 5]\n",
      " [2 7 9]\n",
      " [4 8 1]]\n"
     ]
    }
   ],
   "source": [
    "#Q =np.column_stack((v1/np.linalg.norm(v1),v2/np.linalg.norm(v2),v3/np.linalg.norm(v3)))\n",
    "Q =np.column_stack((v1,v2,v3))\n",
    "print(Q)"
   ]
  },
  {
   "cell_type": "code",
   "execution_count": 21,
   "metadata": {},
   "outputs": [
    {
     "name": "stdout",
     "output_type": "stream",
     "text": [
      "[[-2  0  0]\n",
      " [ 0  3  0]\n",
      " [ 0  0  2]]\n"
     ]
    }
   ],
   "source": [
    "lambdamatrix = np.array([[lambdaarray[0],0,0],[0,lambdaarray[1],0],[0,0,lambdaarray[2]]])\n",
    "print(lambdamatrix)"
   ]
  },
  {
   "cell_type": "code",
   "execution_count": 22,
   "metadata": {},
   "outputs": [],
   "source": [
    "import numpy as np\n",
    "A = np.matmul(Q,np.matmul(lambdamatrix,np.linalg.inv(Q)))"
   ]
  },
  {
   "cell_type": "code",
   "execution_count": 23,
   "metadata": {},
   "outputs": [
    {
     "data": {
      "text/plain": [
       "array([[ 11.55555556,  -5.22222222,  -0.77777778],\n",
       "       [ 16.84444444,  -7.17777778,  -1.62222222],\n",
       "       [ 29.15555556, -15.82222222,  -1.37777778]])"
      ]
     },
     "execution_count": 23,
     "metadata": {},
     "output_type": "execute_result"
    }
   ],
   "source": [
    "A"
   ]
  },
  {
   "cell_type": "code",
   "execution_count": 24,
   "metadata": {
    "scrolled": true
   },
   "outputs": [
    {
     "name": "stdout",
     "output_type": "stream",
     "text": [
      "[-2.  3.  2.]\n",
      "[[ 0.21821789  0.42562827 -0.48336824]\n",
      " [ 0.43643578  0.59587957 -0.87006284]\n",
      " [ 0.87287156  0.68100522 -0.09667365]]\n"
     ]
    }
   ],
   "source": [
    "w,v = np.linalg.eig(A)\n",
    "print(w)\n",
    "print(v)"
   ]
  },
  {
   "cell_type": "code",
   "execution_count": 25,
   "metadata": {},
   "outputs": [
    {
     "name": "stdout",
     "output_type": "stream",
     "text": [
      "[0.21821789 0.43643578 0.87287156]\n",
      "[0.42562827 0.59587957 0.68100522]\n",
      "[0.48336824 0.87006284 0.09667365]\n"
     ]
    }
   ],
   "source": [
    "unitv1 = v1 / np.linalg.norm(v1)\n",
    "unitv2 = v2 / np.linalg.norm(v2)\n",
    "unitv3 = v3 / np.linalg.norm(v3)\n",
    "print(unitv1)\n",
    "print(unitv2)\n",
    "print(unitv3)"
   ]
  },
  {
   "cell_type": "code",
   "execution_count": 26,
   "metadata": {},
   "outputs": [
    {
     "name": "stdout",
     "output_type": "stream",
     "text": [
      "[[ 0.21821789  0.42562827 -0.48336824]\n",
      " [ 0.43643578  0.59587957 -0.87006284]\n",
      " [ 0.87287156  0.68100522 -0.09667365]]\n"
     ]
    }
   ],
   "source": [
    "print(v)"
   ]
  },
  {
   "cell_type": "code",
   "execution_count": 27,
   "metadata": {},
   "outputs": [
    {
     "name": "stdout",
     "output_type": "stream",
     "text": [
      "[[-6.619276    3.56422554  1.01835015]\n",
      " [ 8.87576809 -4.95998805  0.261052  ]\n",
      " [ 2.75842145 -2.75842145  0.68960536]]\n"
     ]
    }
   ],
   "source": [
    "invV = np.linalg.inv(v)\n",
    "print(invV)"
   ]
  },
  {
   "cell_type": "code",
   "execution_count": 28,
   "metadata": {},
   "outputs": [
    {
     "name": "stdout",
     "output_type": "stream",
     "text": [
      "[[ 0.21821789  0.43643578  0.87287156]\n",
      " [ 0.42562827  0.59587957  0.68100522]\n",
      " [-0.48336824 -0.87006284 -0.09667365]]\n"
     ]
    }
   ],
   "source": [
    "transposeV = np.transpose(v)\n",
    "print(transposeV)"
   ]
  },
  {
   "cell_type": "markdown",
   "metadata": {},
   "source": [
    "Note that transpose of Q is not equal to the inverse of Q. What does it mean ?"
   ]
  },
  {
   "cell_type": "markdown",
   "metadata": {},
   "source": [
    "<b> Let us check what are the eigenvalues and eigenvectors of a real symmetric matrix."
   ]
  },
  {
   "cell_type": "code",
   "execution_count": 29,
   "metadata": {},
   "outputs": [
    {
     "data": {
      "text/plain": [
       "array([[1, 2, 3],\n",
       "       [2, 4, 5],\n",
       "       [3, 5, 7]])"
      ]
     },
     "execution_count": 29,
     "metadata": {},
     "output_type": "execute_result"
    }
   ],
   "source": [
    "A =np.array([[1,2,3], # define a new matrix\n",
    "            [2,4,5],\n",
    "            [3,5,7]])\n",
    "A"
   ]
  },
  {
   "cell_type": "code",
   "execution_count": 30,
   "metadata": {},
   "outputs": [
    {
     "data": {
      "text/plain": [
       "numpy.ndarray"
      ]
     },
     "execution_count": 30,
     "metadata": {},
     "output_type": "execute_result"
    }
   ],
   "source": [
    "type(A)"
   ]
  },
  {
   "cell_type": "code",
   "execution_count": 31,
   "metadata": {},
   "outputs": [
    {
     "name": "stdout",
     "output_type": "stream",
     "text": [
      "[11.90897874 -0.24781764  0.3388389 ]\n",
      "[[ 0.31351175  0.90082516  0.30037379]\n",
      " [ 0.56280048  0.07850569 -0.82285629]\n",
      " [ 0.7648307  -0.42702563  0.48237237]]\n"
     ]
    }
   ],
   "source": [
    "w,v = np.linalg.eig(A)\n",
    "print(w)\n",
    "print(v)"
   ]
  },
  {
   "cell_type": "code",
   "execution_count": 32,
   "metadata": {},
   "outputs": [
    {
     "name": "stdout",
     "output_type": "stream",
     "text": [
      "[[ 0.31351175  0.56280048  0.7648307 ]\n",
      " [ 0.90082516  0.07850569 -0.42702563]\n",
      " [ 0.30037379 -0.82285629  0.48237237]]\n"
     ]
    }
   ],
   "source": [
    "invV = np.linalg.inv(v)\n",
    "print(invV)"
   ]
  },
  {
   "cell_type": "code",
   "execution_count": 33,
   "metadata": {},
   "outputs": [
    {
     "name": "stdout",
     "output_type": "stream",
     "text": [
      "[[ 0.31351175  0.56280048  0.7648307 ]\n",
      " [ 0.90082516  0.07850569 -0.42702563]\n",
      " [ 0.30037379 -0.82285629  0.48237237]]\n"
     ]
    }
   ],
   "source": [
    "transposeV = np.transpose(v)\n",
    "print(transposeV)"
   ]
  },
  {
   "cell_type": "markdown",
   "metadata": {},
   "source": [
    "For a symmetric matrix, $Q^T = Q^{-1}$ where Q is a matrix containing eigenvectors of a symmetric matrix as columns "
   ]
  },
  {
   "cell_type": "code",
   "execution_count": null,
   "metadata": {},
   "outputs": [],
   "source": []
  }
 ],
 "metadata": {
  "kernelspec": {
   "display_name": "Python 3",
   "language": "python",
   "name": "python3"
  },
  "language_info": {
   "codemirror_mode": {
    "name": "ipython",
    "version": 3
   },
   "file_extension": ".py",
   "mimetype": "text/x-python",
   "name": "python",
   "nbconvert_exporter": "python",
   "pygments_lexer": "ipython3",
   "version": "3.8.3"
  }
 },
 "nbformat": 4,
 "nbformat_minor": 2
}
