{
 "cells": [
  {
   "cell_type": "markdown",
   "metadata": {},
   "source": [
    "# Tutorial 16 - Solving ODEs using Neural Networks\n",
    "Based on various resources from internet."
   ]
  },
  {
   "cell_type": "code",
   "execution_count": 1,
   "metadata": {},
   "outputs": [],
   "source": [
    "import autograd.numpy as np\n",
    "from autograd import grad, elementwise_grad\n",
    "import autograd.numpy.random as npr\n",
    "from autograd.misc.optimizers import adam"
   ]
  },
  {
   "cell_type": "code",
   "execution_count": 2,
   "metadata": {},
   "outputs": [],
   "source": [
    "def init_random_params(scale, layer_sizes, rs=npr.RandomState(0)):\n",
    "#Define a list of (weights, biases tuples, one for each layer.\"\n",
    "    return [(rs.randn(insize, outsize) * scale,   # weight matrix\n",
    "             rs.randn(outsize) * scale)           # bias vector\n",
    "            for insize, outsize in zip(layer_sizes[:-1], layer_sizes[1:])]"
   ]
  },
  {
   "cell_type": "code",
   "execution_count": 3,
   "metadata": {},
   "outputs": [],
   "source": [
    "# Define a sigmoid activation function. Can also be used from library. This is a simple definition.\n",
    "def sigmoid_activation(x):\n",
    "    \"see https://arxiv.org/pdf/1710.05941.pdf\"\n",
    "    return x / (1.0 + np.exp(-x))"
   ]
  },
  {
   "cell_type": "code",
   "execution_count": 4,
   "metadata": {},
   "outputs": [],
   "source": [
    "# Define function y based on neural networks. Outputs are linearly related to biases and weights.\n",
    "# Outputs of one layer are used as inputs to another layer via activation function.\n",
    "def y(params, inputs):\n",
    "    \"Neural network functions\"\n",
    "    for W, b in params:\n",
    "        outputs = np.dot(inputs, W) + b\n",
    "        inputs = sigmoid_activation(outputs)    \n",
    "    return outputs"
   ]
  },
  {
   "cell_type": "code",
   "execution_count": 5,
   "metadata": {},
   "outputs": [],
   "source": [
    "# Make an initial guess of params:\n",
    "params = init_random_params(0.1, layer_sizes=[1, 100, 1])"
   ]
  },
  {
   "cell_type": "code",
   "execution_count": 6,
   "metadata": {},
   "outputs": [],
   "source": [
    "dydx = elementwise_grad(y, 1) # this is the second partial derivative of y w/t x"
   ]
  },
  {
   "cell_type": "markdown",
   "metadata": {},
   "source": [
    "**For the initial condition to be y0 = 0**"
   ]
  },
  {
   "cell_type": "code",
   "execution_count": 7,
   "metadata": {},
   "outputs": [],
   "source": [
    "y0 = 1\n",
    "x = np.linspace(0, 10).reshape((-1, 1))"
   ]
  },
  {
   "cell_type": "markdown",
   "metadata": {},
   "source": [
    "**For the function of the exponential dy/dx = exp(-x)**"
   ]
  },
  {
   "cell_type": "code",
   "execution_count": 8,
   "metadata": {},
   "outputs": [],
   "source": [
    "# Define the objective function.\n",
    "def lossfunction(params, step):\n",
    "    # The objective is to minimize to zero.\n",
    "    # dydx = exp(-x) \n",
    "    zeq = dydx(params, x) -(np.exp(-x))\n",
    "    ic = y(params, 0) - y0\n",
    "    return np.mean(zeq**2) + ic**2"
   ]
  },
  {
   "cell_type": "code",
   "execution_count": 9,
   "metadata": {},
   "outputs": [],
   "source": [
    "def callback(params, step, g):\n",
    "    if step % 1000 == 0:\n",
    "        print(\"Iteration {0:3d} lossfunction {1}\".format(step,\n",
    "                                                      lossfunction(params, step)))"
   ]
  },
  {
   "cell_type": "code",
   "execution_count": 129,
   "metadata": {},
   "outputs": [
    {
     "name": "stdout",
     "output_type": "stream",
     "text": [
      "Iteration   0 lossfunction [[0.11005075]]\n",
      "Iteration 1000 lossfunction [[0.00302654]]\n",
      "Iteration 2000 lossfunction [[0.00084792]]\n",
      "Iteration 3000 lossfunction [[0.00013653]]\n",
      "Iteration 4000 lossfunction [[0.00010999]]\n",
      "Iteration 5000 lossfunction [[0.00010627]]\n"
     ]
    }
   ],
   "source": [
    "params = adam(grad(lossfunction), params,\n",
    "              step_size=0.001, num_iters=5001, callback=callback) "
   ]
  },
  {
   "cell_type": "code",
   "execution_count": 130,
   "metadata": {},
   "outputs": [
    {
     "data": {
      "image/png": "[encoded data removed]",
      "text/plain": [
       "<Figure size 432x288 with 1 Axes>"
      ]
     },
     "metadata": {
      "needs_background": "light"
     },
     "output_type": "display_data"
    }
   ],
   "source": [
    "## for the condition of y0 = 0 loss function is as follows\n",
    "tfit = np.linspace(0, 10).reshape(-1, 1)\n",
    "import matplotlib.pyplot as plt\n",
    "plt.plot(tfit, y(params, tfit), label='soln')\n",
    "plt.plot(tfit,  (- np.exp(-tfit)+1), 'r--', label='analytical soln')\n",
    "plt.legend()\n",
    "plt.xlabel('x')\n",
    "plt.ylabel('$y$')\n",
    "plt.xlim([0, 10])\n",
    "plt.savefig('odenn.png')"
   ]
  },
  {
   "cell_type": "markdown",
   "metadata": {},
   "source": [
    "**For the initial condition at y0 =1**"
   ]
  },
  {
   "cell_type": "code",
   "execution_count": 131,
   "metadata": {},
   "outputs": [],
   "source": [
    "y1 = 1\n",
    "x = np.linspace(0, 10).reshape((-1, 1))"
   ]
  },
  {
   "cell_type": "code",
   "execution_count": 132,
   "metadata": {},
   "outputs": [],
   "source": [
    "# Define the objective function.\n",
    "def lossfunction(params, step):\n",
    "    # The objective is to minimize to zero.\n",
    "    # dydx = exp(-x) \n",
    "    zeq = dydx(params, x) -(np.exp(-x))\n",
    "    ic = y(params, 0) - y1\n",
    "    return np.mean(zeq**2) + ic**2"
   ]
  },
  {
   "cell_type": "code",
   "execution_count": 133,
   "metadata": {},
   "outputs": [
    {
     "name": "stdout",
     "output_type": "stream",
     "text": [
      "Iteration   0 lossfunction [[1.00009356]]\n",
      "Iteration 1000 lossfunction [[0.00112654]]\n",
      "Iteration 2000 lossfunction [[0.00066552]]\n",
      "Iteration 3000 lossfunction [[0.00038312]]\n",
      "Iteration 4000 lossfunction [[0.00023785]]\n",
      "Iteration 5000 lossfunction [[0.00014663]]\n"
     ]
    }
   ],
   "source": [
    "param = adam(grad(lossfunction), params,\n",
    "              step_size=0.001, num_iters=5001, callback=callback) "
   ]
  },
  {
   "cell_type": "code",
   "execution_count": 134,
   "metadata": {},
   "outputs": [
    {
     "data": {
      "image/png": "[encoded data removed]",
      "text/plain": [
       "<Figure size 432x288 with 1 Axes>"
      ]
     },
     "metadata": {
      "needs_background": "light"
     },
     "output_type": "display_data"
    }
   ],
   "source": [
    "## for the initial condition of y0 =1 function behaviour is as follows\n",
    "\n",
    "tfit = np.linspace(0, 10).reshape(-1, 1)\n",
    "import matplotlib.pyplot as plt\n",
    "plt.plot(tfit, y(param, tfit), label='soln')\n",
    "plt.plot(tfit,  (- np.exp(-tfit)+2), 'r--', label='analytical soln')\n",
    "plt.legend()\n",
    "plt.xlabel('x')\n",
    "plt.ylabel('$y$')\n",
    "plt.xlim([0, 10])\n",
    "plt.savefig('odenn.png')"
   ]
  },
  {
   "cell_type": "markdown",
   "metadata": {},
   "source": [
    "**Now for the function of 2*x^3 + exp(-x) we solve the equation at y0 = 0**"
   ]
  },
  {
   "cell_type": "code",
   "execution_count": 10,
   "metadata": {},
   "outputs": [],
   "source": [
    "# Define the objective function.\n",
    "def lossfunction(params, step):\n",
    "    # The objective is to minimize to zero.\n",
    "    # dydx = 2*x^3 + exp(-x) \n",
    "    zeq = dydx(params, x) -(2*(x**3)) - np.exp(-x)\n",
    "    ic = y(params, 0) - y0\n",
    "    return np.mean(zeq**2) + ic**2"
   ]
  },
  {
   "cell_type": "code",
   "execution_count": 11,
   "metadata": {},
   "outputs": [
    {
     "name": "stdout",
     "output_type": "stream",
     "text": [
      "Iteration   0 lossfunction [[600782.91875503]]\n",
      "Iteration 1000 lossfunction [[496374.02676497]]\n",
      "Iteration 2000 lossfunction [[361149.49865868]]\n",
      "Iteration 3000 lossfunction [[323961.83756236]]\n",
      "Iteration 4000 lossfunction [[311178.95846724]]\n",
      "Iteration 5000 lossfunction [[298025.91784275]]\n",
      "Iteration 6000 lossfunction [[283864.59398501]]\n",
      "Iteration 7000 lossfunction [[268898.70420355]]\n",
      "Iteration 8000 lossfunction [[253350.62489288]]\n",
      "Iteration 9000 lossfunction [[237359.70012071]]\n",
      "Iteration 10000 lossfunction [[220963.7763537]]\n",
      "Iteration 11000 lossfunction [[204071.34429877]]\n",
      "Iteration 12000 lossfunction [[186728.50297529]]\n",
      "Iteration 13000 lossfunction [[169422.70871142]]\n",
      "Iteration 14000 lossfunction [[152529.41014763]]\n",
      "Iteration 15000 lossfunction [[136203.72274889]]\n",
      "Iteration 16000 lossfunction [[120554.58106276]]\n",
      "Iteration 17000 lossfunction [[105681.93224548]]\n",
      "Iteration 18000 lossfunction [[91676.19409442]]\n",
      "Iteration 19000 lossfunction [[78618.92516434]]\n",
      "Iteration 20000 lossfunction [[66578.96614004]]\n",
      "Iteration 21000 lossfunction [[55607.66161192]]\n",
      "Iteration 22000 lossfunction [[45737.048057]]\n",
      "Iteration 23000 lossfunction [[36982.09812235]]\n",
      "Iteration 24000 lossfunction [[29339.05639846]]\n",
      "Iteration 25000 lossfunction [[22786.49879596]]\n",
      "Iteration 26000 lossfunction [[17287.06225473]]\n",
      "Iteration 27000 lossfunction [[12813.74375686]]\n",
      "Iteration 28000 lossfunction [[9254.43085341]]\n",
      "Iteration 29000 lossfunction [[6607.74641267]]\n",
      "Iteration 30000 lossfunction [[4681.27579205]]\n",
      "Iteration 31000 lossfunction [[3337.80947635]]\n",
      "Iteration 32000 lossfunction [[2441.79854548]]\n",
      "Iteration 33000 lossfunction [[1854.30810165]]\n",
      "Iteration 34000 lossfunction [[1460.02956414]]\n",
      "Iteration 35000 lossfunction [[1191.04464601]]\n",
      "Iteration 36000 lossfunction [[997.08025348]]\n",
      "Iteration 37000 lossfunction [[849.45923363]]\n",
      "Iteration 38000 lossfunction [[733.61991739]]\n",
      "Iteration 39000 lossfunction [[636.77040404]]\n",
      "Iteration 40000 lossfunction [[556.60127493]]\n",
      "Iteration 41000 lossfunction [[489.51919061]]\n",
      "Iteration 42000 lossfunction [[430.75077853]]\n",
      "Iteration 43000 lossfunction [[381.45088655]]\n",
      "Iteration 44000 lossfunction [[339.30358289]]\n",
      "Iteration 45000 lossfunction [[303.27672486]]\n",
      "Iteration 46000 lossfunction [[272.95471902]]\n",
      "Iteration 47000 lossfunction [[246.77808635]]\n",
      "Iteration 48000 lossfunction [[224.02402922]]\n",
      "Iteration 49000 lossfunction [[203.89038907]]\n",
      "Iteration 50000 lossfunction [[185.47005619]]\n",
      "Iteration 51000 lossfunction [[168.45563524]]\n",
      "Iteration 52000 lossfunction [[152.83332893]]\n",
      "Iteration 53000 lossfunction [[138.49906266]]\n",
      "Iteration 54000 lossfunction [[125.33820599]]\n",
      "Iteration 55000 lossfunction [[113.4812999]]\n",
      "Iteration 56000 lossfunction [[102.96303911]]\n",
      "Iteration 57000 lossfunction [[93.89686622]]\n",
      "Iteration 58000 lossfunction [[86.1860623]]\n",
      "Iteration 59000 lossfunction [[79.62546011]]\n",
      "Iteration 60000 lossfunction [[73.9200664]]\n",
      "Iteration 61000 lossfunction [[68.91309988]]\n",
      "Iteration 62000 lossfunction [[64.47064134]]\n",
      "Iteration 63000 lossfunction [[60.4805111]]\n",
      "Iteration 64000 lossfunction [[56.8810894]]\n",
      "Iteration 65000 lossfunction [[53.63913626]]\n",
      "Iteration 66000 lossfunction [[50.70258424]]\n",
      "Iteration 67000 lossfunction [[48.01523606]]\n",
      "Iteration 68000 lossfunction [[45.54782737]]\n",
      "Iteration 69000 lossfunction [[43.29349445]]\n",
      "Iteration 70000 lossfunction [[41.22373934]]\n",
      "Iteration 71000 lossfunction [[39.4896565]]\n",
      "Iteration 72000 lossfunction [[37.58319381]]\n",
      "Iteration 73000 lossfunction [[35.97231276]]\n",
      "Iteration 74000 lossfunction [[34.48365822]]\n",
      "Iteration 75000 lossfunction [[33.09510039]]\n",
      "Iteration 76000 lossfunction [[31.80359373]]\n",
      "Iteration 77000 lossfunction [[30.68548733]]\n",
      "Iteration 78000 lossfunction [[29.48882914]]\n",
      "Iteration 79000 lossfunction [[28.44584833]]\n",
      "Iteration 80000 lossfunction [[27.46658101]]\n",
      "Iteration 81000 lossfunction [[26.53896533]]\n",
      "Iteration 82000 lossfunction [[25.6616854]]\n",
      "Iteration 83000 lossfunction [[24.84453677]]\n",
      "Iteration 84000 lossfunction [[24.07195941]]\n",
      "Iteration 85000 lossfunction [[23.34163827]]\n",
      "Iteration 86000 lossfunction [[22.65075686]]\n",
      "Iteration 87000 lossfunction [[21.99482724]]\n",
      "Iteration 88000 lossfunction [[21.41442998]]\n",
      "Iteration 89000 lossfunction [[20.77790849]]\n",
      "Iteration 90000 lossfunction [[20.21355321]]\n",
      "Iteration 91000 lossfunction [[19.6693062]]\n",
      "Iteration 92000 lossfunction [[19.15023145]]\n",
      "Iteration 93000 lossfunction [[18.65682507]]\n",
      "Iteration 94000 lossfunction [[18.18296681]]\n",
      "Iteration 95000 lossfunction [[17.72742087]]\n",
      "Iteration 96000 lossfunction [[17.29142606]]\n",
      "Iteration 97000 lossfunction [[16.8764113]]\n",
      "Iteration 98000 lossfunction [[16.47568662]]\n",
      "Iteration 99000 lossfunction [[16.09099727]]\n",
      "Iteration 100000 lossfunction [[15.72286878]]\n"
     ]
    }
   ],
   "source": [
    "params = adam(grad(lossfunction), params,\n",
    "              step_size=0.001, num_iters=100001, callback=callback) \n",
    "# after 1lakh iterations, the solution for the analytical and by NN problems."
   ]
  },
  {
   "cell_type": "code",
   "execution_count": 12,
   "metadata": {},
   "outputs": [
    {
     "data": {
      "image/png": "[encoded data removed]",
      "text/plain": [
       "<Figure size 432x288 with 1 Axes>"
      ]
     },
     "metadata": {
      "needs_background": "light"
     },
     "output_type": "display_data"
    }
   ],
   "source": [
    "## for the condition of y0 = 0 loss function is as follows\n",
    "tfit = np.linspace(0, 10).reshape(-1, 1)\n",
    "import matplotlib.pyplot as plt\n",
    "plt.plot(tfit, y(params, tfit), label='soln')\n",
    "plt.plot(tfit,  ((x**4)/2 +1 + (-np.exp(-x))), 'r--', label='analytical soln')\n",
    "plt.legend()\n",
    "plt.xlabel('x')\n",
    "plt.ylabel('$y$')\n",
    "plt.xlim([0, 10])\n",
    "plt.savefig('odenn.png')"
   ]
  },
  {
   "cell_type": "markdown",
   "metadata": {},
   "source": [
    "## Require large amount of time to iterate through the required function of tfe equation\n",
    "ODE                                 $$dy/dx = 2x^3 + exp(-x)$$\n",
    "Analytical solution for y0 = 0:     $$y(x) = x^4/2 -exp(-x) +1$$"
   ]
  },
  {
   "cell_type": "code",
   "execution_count": null,
   "metadata": {},
   "outputs": [],
   "source": []
  }
 ],
 "metadata": {
  "kernelspec": {
   "display_name": "Python 3",
   "language": "python",
   "name": "python3"
  },
  "language_info": {
   "codemirror_mode": {
    "name": "ipython",
    "version": 3
   },
   "file_extension": ".py",
   "mimetype": "text/x-python",
   "name": "python",
   "nbconvert_exporter": "python",
   "pygments_lexer": "ipython3",
   "version": "3.8.3"
  }
 },
 "nbformat": 4,
 "nbformat_minor": 1
}
