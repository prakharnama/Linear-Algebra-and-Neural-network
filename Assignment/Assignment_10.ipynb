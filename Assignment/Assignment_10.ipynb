{
 "cells": [
  {
   "cell_type": "code",
   "execution_count": 42,
   "metadata": {},
   "outputs": [
    {
     "data": {
      "text/plain": [
       "'Assignment 10 : Firstly we initialized the importing the tensorflow and keras with Elements and then queru-ying data from \\nPymatgen and mendeleev then \\nPart 1: with variable optimisers we will learn the best optimiser\\nPart 2 :with variable learning rate we will learn the best learning rate\\nPart 3: with variable activation function we will learn the best range of data\\n\\n\\n  optimizer is modified based on the version 2.0 requirements\\n'"
      ]
     },
     "execution_count": 42,
     "metadata": {},
     "output_type": "execute_result"
    }
   ],
   "source": [
    "'''Assignment 10 : Firstly we initialized the importing the tensorflow and keras with Elements and then queru-ying data from \n",
    "Pymatgen and mendeleev then \n",
    "Part 1: with variable optimisers we will learn the best optimiser\n",
    "Part 2 :with variable learning rate we will learn the best learning rate\n",
    "Part 3: with variable activation function we will learn the best range of data\n",
    "\n",
    "\n",
    "  optimizer is modified based on the version 2.0 requirements\n",
    "'''\n"
   ]
  },
  {
   "cell_type": "code",
   "execution_count": 3,
   "metadata": {},
   "outputs": [],
   "source": [
    "import tensorflow as tf\n",
    "from tensorflow import keras\n",
    "from keras import initializers\n",
    "from keras.layers import Dense\n",
    "from keras.models import Sequential\n",
    "\n",
    "import pymatgen.core as pymat\n",
    "import mendeleev as mendel\n",
    "import pandas as pd\n",
    "import numpy as np\n",
    "import random\n",
    "\n",
    "%matplotlib inline\n",
    "import matplotlib.pyplot as plt\n",
    "import sys\n",
    "\n",
    "fcc_elements = [\"Ag\", \"Al\", \"Au\", \"Cu\", \"Ir\", \"Ni\", \"Pb\", \"Pd\", \"Pt\", \"Rh\", \"Th\", \"Yb\"]\n",
    "bcc_elements = [\"Ba\", \"Ca\", \"Cr\", \"Cs\", \"Eu\", \"Fe\", \"Li\", \"Mn\", \"Mo\", \"Na\", \"Nb\", \"Rb\", \"Ta\", \"V\", \"W\" ]\n",
    "hcp_elements = [\"Be\", \"Cd\", \"Co\", \"Dy\", \"Er\", \"Gd\", \"Hf\", \"Ho\", \"Lu\", \"Mg\", \"Re\", \n",
    "                \"Ru\", \"Sc\", \"Tb\", \"Ti\", \"Tl\", \"Tm\", \"Y\", \"Zn\", \"Zr\"]\n",
    "\n",
    "elements = fcc_elements + bcc_elements + hcp_elements\n",
    "\n",
    "random.Random(1).shuffle(elements)\n",
    "\n",
    "\n",
    "querable_mendeleev = [\"atomic_number\", \"atomic_volume\", \"boiling_point\", \"en_ghosh\",  \"evaporation_heat\", \"heat_of_formation\",\n",
    "                     \"lattice_constant\", \"melting_point\", \"specific_heat\"]\n",
    "querable_pymatgen = [\"atomic_mass\", \"atomic_radius\", \"electrical_resistivity\",\"molar_volume\", \"bulk_modulus\", \"youngs_modulus\",\n",
    "                     \"average_ionic_radius\", \"density_of_solid\", \"coefficient_of_linear_thermal_expansion\"]\n",
    "querable_values = querable_mendeleev + querable_pymatgen"
   ]
  },
  {
   "cell_type": "code",
   "execution_count": 4,
   "metadata": {},
   "outputs": [
    {
     "data": {
      "text/html": [
       "<div>\n",
       "<style scoped>\n",
       "    .dataframe tbody tr th:only-of-type {\n",
       "        vertical-align: middle;\n",
       "    }\n",
       "\n",
       "    .dataframe tbody tr th {\n",
       "        vertical-align: top;\n",
       "    }\n",
       "\n",
       "    .dataframe thead th {\n",
       "        text-align: right;\n",
       "    }\n",
       "</style>\n",
       "<table border=\"1\" class=\"dataframe\">\n",
       "  <thead>\n",
       "    <tr style=\"text-align: right;\">\n",
       "      <th></th>\n",
       "      <th>atomic_number</th>\n",
       "      <th>atomic_volume</th>\n",
       "      <th>boiling_point</th>\n",
       "      <th>en_ghosh</th>\n",
       "      <th>evaporation_heat</th>\n",
       "      <th>heat_of_formation</th>\n",
       "      <th>lattice_constant</th>\n",
       "      <th>melting_point</th>\n",
       "      <th>specific_heat</th>\n",
       "      <th>atomic_mass</th>\n",
       "      <th>atomic_radius</th>\n",
       "      <th>electrical_resistivity</th>\n",
       "      <th>molar_volume</th>\n",
       "      <th>bulk_modulus</th>\n",
       "      <th>youngs_modulus</th>\n",
       "      <th>average_ionic_radius</th>\n",
       "      <th>density_of_solid</th>\n",
       "      <th>coefficient_of_linear_thermal_expansion</th>\n",
       "    </tr>\n",
       "  </thead>\n",
       "  <tbody>\n",
       "    <tr>\n",
       "      <th>0</th>\n",
       "      <td>27</td>\n",
       "      <td>6.70</td>\n",
       "      <td>3143.0</td>\n",
       "      <td>0.143236</td>\n",
       "      <td>389.1</td>\n",
       "      <td>426.7</td>\n",
       "      <td>2.51</td>\n",
       "      <td>1768.00</td>\n",
       "      <td>0.456</td>\n",
       "      <td>58.933195</td>\n",
       "      <td>1.35</td>\n",
       "      <td>6.000000e-08</td>\n",
       "      <td>6.67</td>\n",
       "      <td>180.0</td>\n",
       "      <td>209.0</td>\n",
       "      <td>0.768333</td>\n",
       "      <td>8900.0</td>\n",
       "      <td>0.000013</td>\n",
       "    </tr>\n",
       "    <tr>\n",
       "      <th>1</th>\n",
       "      <td>69</td>\n",
       "      <td>18.10</td>\n",
       "      <td>2220.0</td>\n",
       "      <td>0.216724</td>\n",
       "      <td>232.0</td>\n",
       "      <td>232.2</td>\n",
       "      <td>3.54</td>\n",
       "      <td>1818.00</td>\n",
       "      <td>0.160</td>\n",
       "      <td>168.934210</td>\n",
       "      <td>1.75</td>\n",
       "      <td>6.760000e-07</td>\n",
       "      <td>19.10</td>\n",
       "      <td>45.0</td>\n",
       "      <td>74.0</td>\n",
       "      <td>1.095000</td>\n",
       "      <td>9321.0</td>\n",
       "      <td>0.000013</td>\n",
       "    </tr>\n",
       "    <tr>\n",
       "      <th>2</th>\n",
       "      <td>39</td>\n",
       "      <td>19.80</td>\n",
       "      <td>3611.0</td>\n",
       "      <td>0.121699</td>\n",
       "      <td>367.0</td>\n",
       "      <td>424.7</td>\n",
       "      <td>3.65</td>\n",
       "      <td>1795.00</td>\n",
       "      <td>0.284</td>\n",
       "      <td>88.905850</td>\n",
       "      <td>1.80</td>\n",
       "      <td>6.000000e-07</td>\n",
       "      <td>19.88</td>\n",
       "      <td>41.0</td>\n",
       "      <td>64.0</td>\n",
       "      <td>1.040000</td>\n",
       "      <td>4472.0</td>\n",
       "      <td>0.000011</td>\n",
       "    </tr>\n",
       "    <tr>\n",
       "      <th>3</th>\n",
       "      <td>75</td>\n",
       "      <td>8.85</td>\n",
       "      <td>5900.0</td>\n",
       "      <td>0.243516</td>\n",
       "      <td>704.0</td>\n",
       "      <td>774.0</td>\n",
       "      <td>2.76</td>\n",
       "      <td>3453.00</td>\n",
       "      <td>0.138</td>\n",
       "      <td>186.207000</td>\n",
       "      <td>1.35</td>\n",
       "      <td>1.800000e-07</td>\n",
       "      <td>8.86</td>\n",
       "      <td>370.0</td>\n",
       "      <td>463.0</td>\n",
       "      <td>0.712500</td>\n",
       "      <td>21020.0</td>\n",
       "      <td>0.000006</td>\n",
       "    </tr>\n",
       "    <tr>\n",
       "      <th>4</th>\n",
       "      <td>28</td>\n",
       "      <td>6.60</td>\n",
       "      <td>3005.0</td>\n",
       "      <td>0.147207</td>\n",
       "      <td>378.6</td>\n",
       "      <td>430.1</td>\n",
       "      <td>3.52</td>\n",
       "      <td>1726.00</td>\n",
       "      <td>0.443</td>\n",
       "      <td>58.693400</td>\n",
       "      <td>1.35</td>\n",
       "      <td>7.200000e-08</td>\n",
       "      <td>6.59</td>\n",
       "      <td>180.0</td>\n",
       "      <td>200.0</td>\n",
       "      <td>0.740000</td>\n",
       "      <td>8908.0</td>\n",
       "      <td>0.000013</td>\n",
       "    </tr>\n",
       "    <tr>\n",
       "      <th>5</th>\n",
       "      <td>67</td>\n",
       "      <td>18.70</td>\n",
       "      <td>2968.0</td>\n",
       "      <td>0.207795</td>\n",
       "      <td>301.0</td>\n",
       "      <td>300.6</td>\n",
       "      <td>3.58</td>\n",
       "      <td>1747.00</td>\n",
       "      <td>0.164</td>\n",
       "      <td>164.930320</td>\n",
       "      <td>1.75</td>\n",
       "      <td>8.140000e-07</td>\n",
       "      <td>18.74</td>\n",
       "      <td>40.0</td>\n",
       "      <td>65.0</td>\n",
       "      <td>1.041000</td>\n",
       "      <td>8795.0</td>\n",
       "      <td>0.000011</td>\n",
       "    </tr>\n",
       "    <tr>\n",
       "      <th>6</th>\n",
       "      <td>79</td>\n",
       "      <td>10.20</td>\n",
       "      <td>3080.0</td>\n",
       "      <td>0.261370</td>\n",
       "      <td>340.0</td>\n",
       "      <td>368.2</td>\n",
       "      <td>4.08</td>\n",
       "      <td>1337.58</td>\n",
       "      <td>0.129</td>\n",
       "      <td>196.966569</td>\n",
       "      <td>1.35</td>\n",
       "      <td>2.200000e-08</td>\n",
       "      <td>10.21</td>\n",
       "      <td>220.0</td>\n",
       "      <td>78.0</td>\n",
       "      <td>1.070000</td>\n",
       "      <td>19300.0</td>\n",
       "      <td>0.000014</td>\n",
       "    </tr>\n",
       "    <tr>\n",
       "      <th>7</th>\n",
       "      <td>21</td>\n",
       "      <td>15.00</td>\n",
       "      <td>3104.0</td>\n",
       "      <td>0.119383</td>\n",
       "      <td>332.7</td>\n",
       "      <td>377.8</td>\n",
       "      <td>3.31</td>\n",
       "      <td>1814.00</td>\n",
       "      <td>0.556</td>\n",
       "      <td>44.955912</td>\n",
       "      <td>1.60</td>\n",
       "      <td>5.500000e-07</td>\n",
       "      <td>15.00</td>\n",
       "      <td>57.0</td>\n",
       "      <td>74.0</td>\n",
       "      <td>0.885000</td>\n",
       "      <td>2985.0</td>\n",
       "      <td>0.000010</td>\n",
       "    </tr>\n",
       "    <tr>\n",
       "      <th>8</th>\n",
       "      <td>45</td>\n",
       "      <td>8.30</td>\n",
       "      <td>4000.0</td>\n",
       "      <td>0.140838</td>\n",
       "      <td>494.0</td>\n",
       "      <td>556.0</td>\n",
       "      <td>3.80</td>\n",
       "      <td>2239.00</td>\n",
       "      <td>0.244</td>\n",
       "      <td>102.905500</td>\n",
       "      <td>1.35</td>\n",
       "      <td>4.300000e-08</td>\n",
       "      <td>8.28</td>\n",
       "      <td>380.0</td>\n",
       "      <td>275.0</td>\n",
       "      <td>0.745000</td>\n",
       "      <td>12450.0</td>\n",
       "      <td>0.000008</td>\n",
       "    </tr>\n",
       "    <tr>\n",
       "      <th>9</th>\n",
       "      <td>74</td>\n",
       "      <td>9.53</td>\n",
       "      <td>5930.0</td>\n",
       "      <td>0.239050</td>\n",
       "      <td>824.0</td>\n",
       "      <td>851.0</td>\n",
       "      <td>3.16</td>\n",
       "      <td>3680.00</td>\n",
       "      <td>0.133</td>\n",
       "      <td>183.840000</td>\n",
       "      <td>1.35</td>\n",
       "      <td>5.400000e-08</td>\n",
       "      <td>9.47</td>\n",
       "      <td>310.0</td>\n",
       "      <td>411.0</td>\n",
       "      <td>0.766667</td>\n",
       "      <td>19250.0</td>\n",
       "      <td>0.000005</td>\n",
       "    </tr>\n",
       "  </tbody>\n",
       "</table>\n",
       "</div>"
      ],
      "text/plain": [
       "   atomic_number  atomic_volume  boiling_point  en_ghosh  evaporation_heat  \\\n",
       "0             27           6.70         3143.0  0.143236             389.1   \n",
       "1             69          18.10         2220.0  0.216724             232.0   \n",
       "2             39          19.80         3611.0  0.121699             367.0   \n",
       "3             75           8.85         5900.0  0.243516             704.0   \n",
       "4             28           6.60         3005.0  0.147207             378.6   \n",
       "5             67          18.70         2968.0  0.207795             301.0   \n",
       "6             79          10.20         3080.0  0.261370             340.0   \n",
       "7             21          15.00         3104.0  0.119383             332.7   \n",
       "8             45           8.30         4000.0  0.140838             494.0   \n",
       "9             74           9.53         5930.0  0.239050             824.0   \n",
       "\n",
       "   heat_of_formation  lattice_constant  melting_point  specific_heat  \\\n",
       "0              426.7              2.51        1768.00          0.456   \n",
       "1              232.2              3.54        1818.00          0.160   \n",
       "2              424.7              3.65        1795.00          0.284   \n",
       "3              774.0              2.76        3453.00          0.138   \n",
       "4              430.1              3.52        1726.00          0.443   \n",
       "5              300.6              3.58        1747.00          0.164   \n",
       "6              368.2              4.08        1337.58          0.129   \n",
       "7              377.8              3.31        1814.00          0.556   \n",
       "8              556.0              3.80        2239.00          0.244   \n",
       "9              851.0              3.16        3680.00          0.133   \n",
       "\n",
       "   atomic_mass  atomic_radius  electrical_resistivity  molar_volume  \\\n",
       "0    58.933195           1.35            6.000000e-08          6.67   \n",
       "1   168.934210           1.75            6.760000e-07         19.10   \n",
       "2    88.905850           1.80            6.000000e-07         19.88   \n",
       "3   186.207000           1.35            1.800000e-07          8.86   \n",
       "4    58.693400           1.35            7.200000e-08          6.59   \n",
       "5   164.930320           1.75            8.140000e-07         18.74   \n",
       "6   196.966569           1.35            2.200000e-08         10.21   \n",
       "7    44.955912           1.60            5.500000e-07         15.00   \n",
       "8   102.905500           1.35            4.300000e-08          8.28   \n",
       "9   183.840000           1.35            5.400000e-08          9.47   \n",
       "\n",
       "   bulk_modulus  youngs_modulus  average_ionic_radius  density_of_solid  \\\n",
       "0         180.0           209.0              0.768333            8900.0   \n",
       "1          45.0            74.0              1.095000            9321.0   \n",
       "2          41.0            64.0              1.040000            4472.0   \n",
       "3         370.0           463.0              0.712500           21020.0   \n",
       "4         180.0           200.0              0.740000            8908.0   \n",
       "5          40.0            65.0              1.041000            8795.0   \n",
       "6         220.0            78.0              1.070000           19300.0   \n",
       "7          57.0            74.0              0.885000            2985.0   \n",
       "8         380.0           275.0              0.745000           12450.0   \n",
       "9         310.0           411.0              0.766667           19250.0   \n",
       "\n",
       "   coefficient_of_linear_thermal_expansion  \n",
       "0                                 0.000013  \n",
       "1                                 0.000013  \n",
       "2                                 0.000011  \n",
       "3                                 0.000006  \n",
       "4                                 0.000013  \n",
       "5                                 0.000011  \n",
       "6                                 0.000014  \n",
       "7                                 0.000010  \n",
       "8                                 0.000008  \n",
       "9                                 0.000005  "
      ]
     },
     "execution_count": 4,
     "metadata": {},
     "output_type": "execute_result"
    }
   ],
   "source": [
    "all_values = []\n",
    "all_labels = []\n",
    "\n",
    "for item in elements:\n",
    "    element_values = []\n",
    "    \n",
    "   \n",
    "    element_object = mendel.element(item)\n",
    "    for i in querable_mendeleev:    \n",
    "        element_values.append(getattr(element_object,i))\n",
    "\n",
    "    element_object = pymat.Element(item)    \n",
    "    for i in querable_pymatgen:\n",
    "        element_values.append(getattr(element_object,i))\n",
    "        \n",
    "    all_values.append(element_values) # All lists are appended to another list, creating a List of Lists\n",
    "    \n",
    "    if (item in fcc_elements):\n",
    "        all_labels.append([1, 0, 0]) # The crystal structure labels are assigned here\n",
    "    elif (item in bcc_elements):\n",
    "        all_labels.append([0, 1, 0]) # The crystal structure labels are assigned here\n",
    "    elif (item in hcp_elements):\n",
    "        all_labels.append([0, 0, 1]) # The crystal structure labels are assigned here\n",
    "\n",
    "\n",
    "\n",
    "df = pd.DataFrame(all_values, columns=querable_values)\n",
    "\n",
    "\n",
    "index_Cs = df.index[df['atomic_number'] == 55]\n",
    "df.iloc[index_Cs, df.columns.get_loc(\"coefficient_of_linear_thermal_expansion\")] = 0.000097 \n",
    "\n",
    "index_Rb = df.index[df['atomic_number'] == 37]\n",
    "df.iloc[index_Rb, df.columns.get_loc(\"coefficient_of_linear_thermal_expansion\")] = 0.000090 \n",
    "\n",
    "index_Ru = df.index[df['atomic_number'] == 44]\n",
    "df.iloc[index_Ru, df.columns.get_loc(\"evaporation_heat\")] = 595 # kJ/mol \n",
    "\n",
    "index_Zr = df.index[df['atomic_number'] == 40]\n",
    "df.iloc[index_Zr, df.columns.get_loc(\"bulk_modulus\")] = 94 # GPa \n",
    "\n",
    "\n",
    "df.head(n=10)"
   ]
  },
  {
   "cell_type": "code",
   "execution_count": 5,
   "metadata": {},
   "outputs": [
    {
     "name": "stdout",
     "output_type": "stream",
     "text": [
      "[[0, 0, 1], [0, 0, 1], [0, 0, 1], [0, 0, 1], [1, 0, 0], [0, 0, 1], [1, 0, 0], [0, 0, 1], [1, 0, 0], [0, 1, 0], [0, 0, 1], [0, 0, 1], [0, 0, 1], [1, 0, 0], [0, 1, 0], [0, 0, 1], [0, 1, 0], [0, 1, 0], [0, 1, 0], [0, 1, 0], [0, 1, 0], [0, 0, 1], [1, 0, 0], [1, 0, 0], [0, 1, 0], [0, 0, 1], [0, 1, 0], [0, 1, 0], [0, 0, 1], [0, 1, 0], [0, 1, 0], [1, 0, 0], [0, 0, 1], [0, 0, 1], [1, 0, 0], [0, 0, 1], [1, 0, 0], [0, 1, 0], [0, 1, 0], [0, 0, 1], [0, 0, 1], [0, 0, 1], [1, 0, 0], [0, 1, 0], [1, 0, 0], [0, 0, 1], [1, 0, 0]]\n"
     ]
    }
   ],
   "source": [
    "print(all_labels)"
   ]
  },
  {
   "cell_type": "code",
   "execution_count": 6,
   "metadata": {
    "scrolled": true
   },
   "outputs": [
    {
     "name": "stdout",
     "output_type": "stream",
     "text": [
      "Shape of Values: (47, 18)\n",
      "Shape of Labels: (47, 3)\n",
      "[-0.80084167 -0.75983551 -0.00894162 -0.40732945  0.15599373  0.16654528\n",
      " -1.09549525  0.09455406  0.02631292 -0.82400017 -0.80570946 -0.67799461\n",
      " -0.75661221  0.70972845  0.6516648  -0.77257498  0.11409173 -0.3075323 ]\n",
      "[0 0 1]\n"
     ]
    }
   ],
   "source": [
    "all_values = [list(df.iloc[x]) for x in range(len(all_values))]\n",
    "\n",
    "all_values = np.array(all_values, dtype = float)\n",
    "print(\"Shape of Values:\", all_values.shape)\n",
    "all_labels = np.array(all_labels, dtype = int)\n",
    "print(\"Shape of Labels:\", all_labels.shape)\n",
    "\n",
    "# Training Set\n",
    "train_values = all_values[:40, :]\n",
    "train_labels = all_labels[:40, :]\n",
    "\n",
    "# Testing Set\n",
    "test_values = all_values[-7:, :]\n",
    "test_labels = all_labels[-7:, :]\n",
    "\n",
    "# NORMALIZATION\n",
    "\n",
    "mean = np.nanmean(train_values, axis = 0) # mean, np.nanmean is a version of mean function in numpy that throws errors if all slices of data are NaN.\n",
    "\n",
    "std = np.nanstd(train_values, axis = 0) # standard deviation\n",
    "\n",
    "train_values = (train_values - mean) / std # input scaling\n",
    "test_values = (test_values - mean) / std # input scaling\n",
    "\n",
    "print(train_values[0])\n",
    "print(train_labels[0])"
   ]
  },
  {
   "cell_type": "markdown",
   "metadata": {},
   "source": [
    "## Ques 1: For learning rate 0.001, epochs 20000 and other default setup, run the model for RMSProp, Adam and Gradient Descent and compare the accuracy vs. epochs."
   ]
  },
  {
   "cell_type": "code",
   "execution_count": 19,
   "metadata": {},
   "outputs": [
    {
     "name": "stdout",
     "output_type": "stream",
     "text": [
      "Model: \"sequential_7\"\n",
      "_________________________________________________________________\n",
      "Layer (type)                 Output Shape              Param #   \n",
      "=================================================================\n",
      "dense_21 (Dense)             (None, 32)                608       \n",
      "_________________________________________________________________\n",
      "dense_22 (Dense)             (None, 16)                528       \n",
      "_________________________________________________________________\n",
      "dense_23 (Dense)             (None, 3)                 51        \n",
      "=================================================================\n",
      "Total params: 1,187\n",
      "Trainable params: 1,187\n",
      "Non-trainable params: 0\n",
      "_________________________________________________________________\n"
     ]
    }
   ],
   "source": [
    "# For the learning rate of 0.001, epochs = 20000 and optimiser is 1) RMSprop\n",
    "kernel_init = initializers.RandomNormal(seed=14)\n",
    "\n",
    "model = Sequential()\n",
    "model.add(Dense(32, activation='relu', input_shape=(train_values.shape[1],), kernel_initializer=kernel_init))\n",
    "model.add(Dense(16, activation='relu', kernel_initializer=kernel_init))\n",
    "model.add(Dense(3, activation=tf.nn.softmax))  # Output Layer\n",
    "\n",
    "\n",
    "optimizer = tf.keras.optimizers.RMSprop(learning_rate=0.001) # Root Mean Squared Propagation\n",
    "\n",
    "\n",
    "\n",
    "model.compile(loss='categorical_crossentropy', optimizer=optimizer, metrics=['accuracy'])\n",
    "model.summary()"
   ]
  },
  {
   "cell_type": "code",
   "execution_count": 20,
   "metadata": {},
   "outputs": [
    {
     "name": "stdout",
     "output_type": "stream",
     "text": [
      "Current Epoch: 20000\r"
     ]
    },
    {
     "data": {
      "image/png": "[encoded data removed]",
      "text/plain": [
       "<Figure size 432x288 with 1 Axes>"
      ]
     },
     "metadata": {
      "needs_background": "light"
     },
     "output_type": "display_data"
    }
   ],
   "source": [
    "class PrintEpNum(keras.callbacks.Callback): # This is a function for the Epoch Counter\n",
    "    def on_epoch_end(self, epoch, logs):\n",
    "        sys.stdout.flush()\n",
    "        sys.stdout.write(\"Current Epoch: \" + str(epoch+1) + '\\r') # Updates current Epoch Number\n",
    "\n",
    "\n",
    "EPOCHS = 20000 # Number of EPOCHS\n",
    "\n",
    "history = model.fit(train_values, train_labels, batch_size=train_values.shape[0], \\\n",
    "                    epochs=EPOCHS, validation_split=0.1, verbose = False, callbacks=[PrintEpNum()])\n",
    "\n",
    "# PLOTTING HISTORY USING MATPLOTLIB\n",
    "\n",
    "plt.figure()\n",
    "plt.xlabel('Epoch')\n",
    "plt.ylabel('Accuracy')\n",
    "#plt.ylim(0.98,1.05)\n",
    "plt.plot(history.epoch, np.array(history.history['accuracy']),label='Training Accuracy')\n",
    "plt.plot(history.epoch, np.array(history.history['val_accuracy']),label = 'Validation Accuracy')\n",
    "plt.legend()\n",
    "plt.show()"
   ]
  },
  {
   "cell_type": "code",
   "execution_count": 21,
   "metadata": {},
   "outputs": [
    {
     "name": "stdout",
     "output_type": "stream",
     "text": [
      "Training Set Accuracy: 1.000000\n",
      "Testing Set Accuracy: 0.714286\n"
     ]
    }
   ],
   "source": [
    "loss, acc = model.evaluate(train_values, train_labels, verbose=0)\n",
    "\n",
    "print(\"Training Set Accuracy: %f\" %(acc))\n",
    "\n",
    "loss, acc = model.evaluate(test_values, test_labels, verbose=0)\n",
    "\n",
    "print(\"Testing Set Accuracy: %f\" %(acc))"
   ]
  },
  {
   "cell_type": "markdown",
   "metadata": {},
   "source": [
    "## Question 1: Part2 "
   ]
  },
  {
   "cell_type": "code",
   "execution_count": 9,
   "metadata": {},
   "outputs": [
    {
     "name": "stdout",
     "output_type": "stream",
     "text": [
      "Model: \"sequential_2\"\n",
      "_________________________________________________________________\n",
      "Layer (type)                 Output Shape              Param #   \n",
      "=================================================================\n",
      "dense_4 (Dense)              (None, 32)                608       \n",
      "_________________________________________________________________\n",
      "dense_5 (Dense)              (None, 16)                528       \n",
      "_________________________________________________________________\n",
      "dense_6 (Dense)              (None, 3)                 51        \n",
      "=================================================================\n",
      "Total params: 1,187\n",
      "Trainable params: 1,187\n",
      "Non-trainable params: 0\n",
      "_________________________________________________________________\n"
     ]
    }
   ],
   "source": [
    "## for the learning rate of 0.001, epochs = 20000 and optimiser 2.)Adam\n",
    "kernel_init1 = initializers.RandomNormal(seed=14)\n",
    "\n",
    "model1 = Sequential()\n",
    "model1.add(Dense(32, activation='relu', input_shape=(train_values.shape[1],), kernel_initializer=kernel_init1))\n",
    "model1.add(Dense(16, activation='relu', kernel_initializer=kernel_init1))\n",
    "model1.add(Dense(3, activation=tf.nn.softmax))  # Output Layer\n",
    "\n",
    "\n",
    "optimizer = tf.keras.optimizers.Adam(learning_rate=0.001) #Adam optimiser\n",
    "\n",
    "\n",
    "\n",
    "model1.compile(loss='categorical_crossentropy', optimizer=optimizer, metrics=['accuracy'])\n",
    "model1.summary()"
   ]
  },
  {
   "cell_type": "code",
   "execution_count": 10,
   "metadata": {},
   "outputs": [
    {
     "name": "stdout",
     "output_type": "stream",
     "text": [
      "Current Epoch: 20000\r"
     ]
    },
    {
     "data": {
      "image/png": "[encoded data removed]",
      "text/plain": [
       "<Figure size 432x288 with 1 Axes>"
      ]
     },
     "metadata": {
      "needs_background": "light"
     },
     "output_type": "display_data"
    }
   ],
   "source": [
    "class PrintEpNum(keras.callbacks.Callback): # This is a function for the Epoch Counter\n",
    "    def on_epoch_end(self, epoch, logs):\n",
    "        sys.stdout.flush()\n",
    "        sys.stdout.write(\"Current Epoch: \" + str(epoch+1) + '\\r') # Updates current Epoch Number\n",
    "\n",
    "\n",
    "EPOCHS = 20000 # Number of EPOCHS\n",
    "\n",
    "history = model1.fit(train_values, train_labels, batch_size=train_values.shape[0], \\\n",
    "                    epochs=EPOCHS, validation_split=0.1, verbose = False, callbacks=[PrintEpNum()])\n",
    "\n",
    "# PLOTTING HISTORY USING MATPLOTLIB\n",
    "\n",
    "plt.figure()\n",
    "plt.xlabel('Epoch')\n",
    "plt.ylabel('Accuracy')\n",
    "#plt.ylim(0.98,1.05)\n",
    "plt.plot(history.epoch, np.array(history.history['accuracy']),label='Training Accuracy')\n",
    "plt.plot(history.epoch, np.array(history.history['val_accuracy']),label = 'Validation Accuracy')\n",
    "plt.legend()\n",
    "plt.show()"
   ]
  },
  {
   "cell_type": "code",
   "execution_count": 11,
   "metadata": {},
   "outputs": [
    {
     "name": "stdout",
     "output_type": "stream",
     "text": [
      "Training Set Accuracy: 0.975000\n",
      "Testing Set Accuracy: 0.571429\n"
     ]
    }
   ],
   "source": [
    "loss, acc = model1.evaluate(train_values, train_labels, verbose=0)\n",
    "\n",
    "print(\"Training Set Accuracy: %f\" %(acc))\n",
    "\n",
    "loss, acc = model1.evaluate(test_values, test_labels, verbose=0)\n",
    "\n",
    "print(\"Testing Set Accuracy: %f\" %(acc))"
   ]
  },
  {
   "cell_type": "markdown",
   "metadata": {},
   "source": [
    "## Question 1: Part3 "
   ]
  },
  {
   "cell_type": "code",
   "execution_count": 14,
   "metadata": {},
   "outputs": [
    {
     "name": "stdout",
     "output_type": "stream",
     "text": [
      "Model: \"sequential_5\"\n",
      "_________________________________________________________________\n",
      "Layer (type)                 Output Shape              Param #   \n",
      "=================================================================\n",
      "dense_11 (Dense)             (None, 32)                608       \n",
      "_________________________________________________________________\n",
      "dense_12 (Dense)             (None, 16)                528       \n",
      "_________________________________________________________________\n",
      "dense_13 (Dense)             (None, 3)                 51        \n",
      "=================================================================\n",
      "Total params: 1,187\n",
      "Trainable params: 1,187\n",
      "Non-trainable params: 0\n",
      "_________________________________________________________________\n"
     ]
    }
   ],
   "source": [
    "## for the learning rate of 0.001, epochs = 20000 and optimiser 2.)Gradient Descent\n",
    "kernel_init2 = initializers.RandomNormal(seed=14)\n",
    "\n",
    "model2 = Sequential()\n",
    "model2.add(Dense(32, activation='relu', input_shape=(train_values.shape[1],), kernel_initializer=kernel_init2))\n",
    "model2.add(Dense(16, activation='relu', kernel_initializer=kernel_init2))\n",
    "model2.add(Dense(3, activation=tf.nn.softmax))  # Output Layer\n",
    "\n",
    "#optimizer is modified based on the version 2.0 requirements\n",
    "optimizer = tf.keras.optimizers.SGD(learning_rate=0.001) #Gradient descennt optimiser\n",
    "\n",
    "\n",
    "\n",
    "model2.compile(loss='categorical_crossentropy', optimizer=optimizer, metrics=['accuracy'])\n",
    "model2.summary()"
   ]
  },
  {
   "cell_type": "code",
   "execution_count": 15,
   "metadata": {},
   "outputs": [
    {
     "name": "stdout",
     "output_type": "stream",
     "text": [
      "Current Epoch: 20000\r"
     ]
    },
    {
     "data": {
      "image/png": "[encoded data removed]",
      "text/plain": [
       "<Figure size 432x288 with 1 Axes>"
      ]
     },
     "metadata": {
      "needs_background": "light"
     },
     "output_type": "display_data"
    }
   ],
   "source": [
    "class PrintEpNum(keras.callbacks.Callback): # This is a function for the Epoch Counter\n",
    "    def on_epoch_end(self, epoch, logs):\n",
    "        sys.stdout.flush()\n",
    "        sys.stdout.write(\"Current Epoch: \" + str(epoch+1) + '\\r') \n",
    "\n",
    "\n",
    "EPOCHS = 20000 \n",
    "\n",
    "history = model2.fit(train_values, train_labels, batch_size=train_values.shape[0], \\\n",
    "                    epochs=EPOCHS, validation_split=0.1, verbose = False, callbacks=[PrintEpNum()])\n",
    "\n",
    "# PLOTTING HISTORY USING MATPLOTLIB\n",
    "\n",
    "plt.figure()\n",
    "plt.xlabel('Epoch')\n",
    "plt.ylabel('Accuracy')\n",
    "#plt.ylim(0.98,1.05)\n",
    "plt.plot(history.epoch, np.array(history.history['accuracy']),label='Training Accuracy')\n",
    "plt.plot(history.epoch, np.array(history.history['val_accuracy']),label = 'Validation Accuracy')\n",
    "plt.legend()\n",
    "plt.show()"
   ]
  },
  {
   "cell_type": "code",
   "execution_count": 17,
   "metadata": {},
   "outputs": [
    {
     "name": "stdout",
     "output_type": "stream",
     "text": [
      "Training Set Accuracy: 1.000000\n",
      "Testing Set Accuracy: 0.714286\n"
     ]
    }
   ],
   "source": [
    "loss, acc = model2.evaluate(train_values, train_labels, verbose=0)\n",
    "\n",
    "print(\"Training Set Accuracy: %f\" %(acc))\n",
    "\n",
    "loss, acc = model2.evaluate(test_values, test_labels, verbose=0)\n",
    "\n",
    "print(\"Testing Set Accuracy: %f\" %(acc))"
   ]
  },
  {
   "cell_type": "markdown",
   "metadata": {},
   "source": [
    "## Ques 2: For epochs 20000 and other default setup, run the model for Gradient Descent Optimizer for learning rate 0.01, 0.001 and 0.0001 and compare the accuracy vs. epochs."
   ]
  },
  {
   "cell_type": "code",
   "execution_count": 18,
   "metadata": {},
   "outputs": [
    {
     "name": "stdout",
     "output_type": "stream",
     "text": [
      "Model: \"sequential_6\"\n",
      "_________________________________________________________________\n",
      "Layer (type)                 Output Shape              Param #   \n",
      "=================================================================\n",
      "dense_14 (Dense)             (None, 32)                608       \n",
      "_________________________________________________________________\n",
      "dense_15 (Dense)             (None, 16)                528       \n",
      "_________________________________________________________________\n",
      "dense_16 (Dense)             (None, 3)                 51        \n",
      "=================================================================\n",
      "Total params: 1,187\n",
      "Trainable params: 1,187\n",
      "Non-trainable params: 0\n",
      "_________________________________________________________________\n"
     ]
    }
   ],
   "source": [
    "## for the learning rate of 0.01, epochs = 20000 and optimiser 1.)Gradient Descent\n",
    "kernel_init = initializers.RandomNormal(seed=14)\n",
    "\n",
    "model = Sequential()\n",
    "model.add(Dense(32, activation='relu', input_shape=(train_values.shape[1],), kernel_initializer=kernel_init))\n",
    "model.add(Dense(16, activation='relu', kernel_initializer=kernel_init))\n",
    "model.add(Dense(3, activation=tf.nn.softmax))  # Output Layer\n",
    "\n",
    "\n",
    "optimizer = tf.keras.optimizers.SGD(learning_rate=0.01) #Gradient descent optimiser\n",
    "\n",
    "\n",
    "\n",
    "model.compile(loss='categorical_crossentropy', optimizer=optimizer, metrics=['accuracy'])\n",
    "model.summary()"
   ]
  },
  {
   "cell_type": "code",
   "execution_count": 19,
   "metadata": {},
   "outputs": [
    {
     "name": "stdout",
     "output_type": "stream",
     "text": [
      "Current Epoch: 20000\r"
     ]
    },
    {
     "data": {
      "image/png": "[encoded data removed]",
      "text/plain": [
       "<Figure size 432x288 with 1 Axes>"
      ]
     },
     "metadata": {
      "needs_background": "light"
     },
     "output_type": "display_data"
    }
   ],
   "source": [
    "class PrintEpNum(keras.callbacks.Callback): # This is a function for the Epoch Counter\n",
    "    def on_epoch_end(self, epoch, logs):\n",
    "        sys.stdout.flush()\n",
    "        sys.stdout.write(\"Current Epoch: \" + str(epoch+1) + '\\r') # Updates current Epoch Number\n",
    "\n",
    "\n",
    "EPOCHS = 20000 # Number of EPOCHS\n",
    "\n",
    "history = model.fit(train_values, train_labels, batch_size=train_values.shape[0], \\\n",
    "                    epochs=EPOCHS, validation_split=0.1, verbose = False, callbacks=[PrintEpNum()])\n",
    "\n",
    "# PLOTTING HISTORY USING MATPLOTLIB\n",
    "\n",
    "plt.figure()\n",
    "plt.xlabel('Epoch')\n",
    "plt.ylabel('Accuracy')\n",
    "#plt.ylim(0.98,1.05)\n",
    "plt.plot(history.epoch, np.array(history.history['accuracy']),label='Training Accuracy')\n",
    "plt.plot(history.epoch, np.array(history.history['val_accuracy']),label = 'Validation Accuracy')\n",
    "plt.legend()\n",
    "plt.show()"
   ]
  },
  {
   "cell_type": "code",
   "execution_count": 20,
   "metadata": {},
   "outputs": [
    {
     "name": "stdout",
     "output_type": "stream",
     "text": [
      "Training Set Accuracy: 1.000000\n",
      "Testing Set Accuracy: 0.714286\n"
     ]
    }
   ],
   "source": [
    "loss, acc = model.evaluate(train_values, train_labels, verbose=0)\n",
    "\n",
    "print(\"Training Set Accuracy: %f\" %(acc))\n",
    "\n",
    "loss, acc = model.evaluate(test_values, test_labels, verbose=0)\n",
    "\n",
    "print(\"Testing Set Accuracy: %f\" %(acc))"
   ]
  },
  {
   "cell_type": "markdown",
   "metadata": {},
   "source": [
    "## Question 2: Part2"
   ]
  },
  {
   "cell_type": "code",
   "execution_count": 28,
   "metadata": {},
   "outputs": [
    {
     "name": "stdout",
     "output_type": "stream",
     "text": [
      "Model: \"sequential_9\"\n",
      "_________________________________________________________________\n",
      "Layer (type)                 Output Shape              Param #   \n",
      "=================================================================\n",
      "dense_21 (Dense)             (None, 32)                608       \n",
      "_________________________________________________________________\n",
      "dense_22 (Dense)             (None, 3)                 99        \n",
      "=================================================================\n",
      "Total params: 707\n",
      "Trainable params: 707\n",
      "Non-trainable params: 0\n",
      "_________________________________________________________________\n"
     ]
    }
   ],
   "source": [
    "## for the learning rate of 0.001, epochs = 20000 and optimiser 1.)Gradient Descent\n",
    "'''We decreased the one layer network to increase the processing time of the model'''\n",
    "kernel_init = initializers.RandomNormal(seed=14)\n",
    "\n",
    "model = Sequential()\n",
    "model.add(Dense(32, activation='relu', input_shape=(train_values.shape[1],), kernel_initializer=kernel_init))\n",
    "#model.add(Dense(16, activation='relu', kernel_initializer=kernel_init))\n",
    "model.add(Dense(3, activation=tf.nn.softmax))  # Output Layer\n",
    "\n",
    "\n",
    "optimizer = tf.keras.optimizers.SGD(learning_rate=0.001) #Gradient descent optimiser\n",
    "\n",
    "\n",
    "\n",
    "model.compile(loss='categorical_crossentropy', optimizer=optimizer, metrics=['accuracy'])\n",
    "model.summary()"
   ]
  },
  {
   "cell_type": "code",
   "execution_count": 22,
   "metadata": {},
   "outputs": [
    {
     "name": "stdout",
     "output_type": "stream",
     "text": [
      "Current Epoch: 20000\r"
     ]
    },
    {
     "data": {
      "image/png": "[encoded data removed]",
      "text/plain": [
       "<Figure size 432x288 with 1 Axes>"
      ]
     },
     "metadata": {
      "needs_background": "light"
     },
     "output_type": "display_data"
    }
   ],
   "source": [
    "class PrintEpNum(keras.callbacks.Callback): # This is a function for the Epoch Counter\n",
    "    def on_epoch_end(self, epoch, logs):\n",
    "        sys.stdout.flush()\n",
    "        sys.stdout.write(\"Current Epoch: \" + str(epoch+1) + '\\r') # Updates current Epoch Number\n",
    "\n",
    "\n",
    "EPOCHS = 20000 # Number of EPOCHS\n",
    "\n",
    "history = model.fit(train_values, train_labels, batch_size=train_values.shape[0], \\\n",
    "                    epochs=EPOCHS, validation_split=0.1, verbose = False, callbacks=[PrintEpNum()])\n",
    "\n",
    "# PLOTTING HISTORY USING MATPLOTLIB\n",
    "\n",
    "plt.figure()\n",
    "plt.xlabel('Epoch')\n",
    "plt.ylabel('Accuracy')\n",
    "#plt.ylim(0.98,1.05)\n",
    "plt.plot(history.epoch, np.array(history.history['accuracy']),label='Training Accuracy')\n",
    "plt.plot(history.epoch, np.array(history.history['val_accuracy']),label = 'Validation Accuracy')\n",
    "plt.legend()\n",
    "plt.show()"
   ]
  },
  {
   "cell_type": "code",
   "execution_count": 23,
   "metadata": {},
   "outputs": [
    {
     "name": "stdout",
     "output_type": "stream",
     "text": [
      "Training Set Accuracy: 1.000000\n",
      "Testing Set Accuracy: 0.857143\n"
     ]
    }
   ],
   "source": [
    "loss, acc = model.evaluate(train_values, train_labels, verbose=0)\n",
    "\n",
    "print(\"Training Set Accuracy: %f\" %(acc))\n",
    "\n",
    "loss, acc = model.evaluate(test_values, test_labels, verbose=0)\n",
    "\n",
    "print(\"Testing Set Accuracy: %f\" %(acc))"
   ]
  },
  {
   "cell_type": "markdown",
   "metadata": {},
   "source": [
    "## Question 2: Part 3"
   ]
  },
  {
   "cell_type": "code",
   "execution_count": 25,
   "metadata": {},
   "outputs": [
    {
     "name": "stdout",
     "output_type": "stream",
     "text": [
      "Model: \"sequential_8\"\n",
      "_________________________________________________________________\n",
      "Layer (type)                 Output Shape              Param #   \n",
      "=================================================================\n",
      "dense_19 (Dense)             (None, 32)                608       \n",
      "_________________________________________________________________\n",
      "dense_20 (Dense)             (None, 3)                 99        \n",
      "=================================================================\n",
      "Total params: 707\n",
      "Trainable params: 707\n",
      "Non-trainable params: 0\n",
      "_________________________________________________________________\n"
     ]
    }
   ],
   "source": [
    "## for the learning rate of 0.0001, epochs = 20000 and optimiser 1.)Gradient Descent\n",
    "kernel_init = initializers.RandomNormal(seed=14)\n",
    "\n",
    "model = Sequential()\n",
    "model.add(Dense(32, activation='relu', input_shape=(train_values.shape[1],), kernel_initializer=kernel_init))\n",
    "#model.add(Dense(16, activation='relu', kernel_initializer=kernel_init))\n",
    "model.add(Dense(3, activation=tf.nn.softmax))  # Output Layer\n",
    "\n",
    "\n",
    "optimizer = tf.keras.optimizers.SGD(learning_rate=0.0001) #Gradient descent optimiser\n",
    "\n",
    "\n",
    "\n",
    "model.compile(loss='categorical_crossentropy', optimizer=optimizer, metrics=['accuracy'])\n",
    "model.summary()"
   ]
  },
  {
   "cell_type": "code",
   "execution_count": 26,
   "metadata": {},
   "outputs": [
    {
     "name": "stdout",
     "output_type": "stream",
     "text": [
      "Current Epoch: 20000\r"
     ]
    },
    {
     "data": {
      "image/png": "[encoded data removed]",
      "text/plain": [
       "<Figure size 432x288 with 1 Axes>"
      ]
     },
     "metadata": {
      "needs_background": "light"
     },
     "output_type": "display_data"
    }
   ],
   "source": [
    "class PrintEpNum(keras.callbacks.Callback): # This is a function for the Epoch Counter\n",
    "    def on_epoch_end(self, epoch, logs):\n",
    "        sys.stdout.flush()\n",
    "        sys.stdout.write(\"Current Epoch: \" + str(epoch+1) + '\\r') # Updates current Epoch Number\n",
    "\n",
    "\n",
    "EPOCHS = 20000 # Number of EPOCHS\n",
    "\n",
    "history = model.fit(train_values, train_labels, batch_size=train_values.shape[0], \\\n",
    "                    epochs=EPOCHS, validation_split=0.1, verbose = False, callbacks=[PrintEpNum()])\n",
    "\n",
    "# PLOTTING HISTORY USING MATPLOTLIB\n",
    "\n",
    "plt.figure()\n",
    "plt.xlabel('Epoch')\n",
    "plt.ylabel('Accuracy')\n",
    "#plt.ylim(0.98,1.05)\n",
    "plt.plot(history.epoch, np.array(history.history['accuracy']),label='Training Accuracy')\n",
    "plt.plot(history.epoch, np.array(history.history['val_accuracy']),label = 'Validation Accuracy')\n",
    "plt.legend()\n",
    "plt.show()"
   ]
  },
  {
   "cell_type": "code",
   "execution_count": 27,
   "metadata": {},
   "outputs": [
    {
     "name": "stdout",
     "output_type": "stream",
     "text": [
      "Training Set Accuracy: 0.650000\n",
      "Testing Set Accuracy: 0.285714\n"
     ]
    }
   ],
   "source": [
    "loss, acc = model.evaluate(train_values, train_labels, verbose=0)\n",
    "\n",
    "print(\"Training Set Accuracy: %f\" %(acc))\n",
    "\n",
    "loss, acc = model.evaluate(test_values, test_labels, verbose=0)\n",
    "\n",
    "print(\"Testing Set Accuracy: %f\" %(acc))"
   ]
  },
  {
   "cell_type": "markdown",
   "metadata": {},
   "source": [
    "## Ques 3: For learning rate 0.01, epochs 20000 and other default setup, run the model for Adam Optimizer for ReLU, tanh and softmax activation functions in the hidden layer and compare the accuracy vs. epochs.\n"
   ]
  },
  {
   "cell_type": "code",
   "execution_count": 29,
   "metadata": {},
   "outputs": [
    {
     "name": "stdout",
     "output_type": "stream",
     "text": [
      "Model: \"sequential_10\"\n",
      "_________________________________________________________________\n",
      "Layer (type)                 Output Shape              Param #   \n",
      "=================================================================\n",
      "dense_23 (Dense)             (None, 32)                608       \n",
      "_________________________________________________________________\n",
      "dense_24 (Dense)             (None, 3)                 99        \n",
      "=================================================================\n",
      "Total params: 707\n",
      "Trainable params: 707\n",
      "Non-trainable params: 0\n",
      "_________________________________________________________________\n"
     ]
    }
   ],
   "source": [
    "## for the learning rate of 0.01, epochs = 20000 and optimiser 1.)Adam 1.) Activation function = ReLU\n",
    "kernel_init = initializers.RandomNormal(seed=14)\n",
    "\n",
    "model = Sequential()\n",
    "model.add(Dense(32, activation='relu', input_shape=(train_values.shape[1],), kernel_initializer=kernel_init))\n",
    "#model.add(Dense(16, activation='relu', kernel_initializer=kernel_init))\n",
    "model.add(Dense(3, activation=tf.nn.softmax))  # Output Layer\n",
    "\n",
    "\n",
    "optimizer = tf.keras.optimizers.Adam(learning_rate=0.01) #Adam optimiser\n",
    "\n",
    "\n",
    "\n",
    "model.compile(loss='categorical_crossentropy', optimizer=optimizer, metrics=['accuracy'])\n",
    "model.summary()"
   ]
  },
  {
   "cell_type": "code",
   "execution_count": 30,
   "metadata": {},
   "outputs": [
    {
     "name": "stdout",
     "output_type": "stream",
     "text": [
      "Current Epoch: 20000\r"
     ]
    },
    {
     "data": {
      "image/png": "[encoded data removed]",
      "text/plain": [
       "<Figure size 432x288 with 1 Axes>"
      ]
     },
     "metadata": {
      "needs_background": "light"
     },
     "output_type": "display_data"
    }
   ],
   "source": [
    "class PrintEpNum(keras.callbacks.Callback): # This is a function for the Epoch Counter\n",
    "    def on_epoch_end(self, epoch, logs):\n",
    "        sys.stdout.flush()\n",
    "        sys.stdout.write(\"Current Epoch: \" + str(epoch+1) + '\\r') # Updates current Epoch Number\n",
    "\n",
    "\n",
    "EPOCHS = 20000 # Number of EPOCHS\n",
    "\n",
    "history = model.fit(train_values, train_labels, batch_size=train_values.shape[0], \\\n",
    "                    epochs=EPOCHS, validation_split=0.1, verbose = False, callbacks=[PrintEpNum()])\n",
    "\n",
    "# PLOTTING HISTORY USING MATPLOTLIB\n",
    "\n",
    "plt.figure()\n",
    "plt.xlabel('Epoch')\n",
    "plt.ylabel('Accuracy')\n",
    "#plt.ylim(0.98,1.05)\n",
    "plt.plot(history.epoch, np.array(history.history['accuracy']),label='Training Accuracy')\n",
    "plt.plot(history.epoch, np.array(history.history['val_accuracy']),label = 'Validation Accuracy')\n",
    "plt.legend()\n",
    "plt.show()"
   ]
  },
  {
   "cell_type": "code",
   "execution_count": 31,
   "metadata": {},
   "outputs": [
    {
     "name": "stdout",
     "output_type": "stream",
     "text": [
      "Training Set Accuracy: 1.000000\n",
      "Testing Set Accuracy: 0.714286\n"
     ]
    }
   ],
   "source": [
    "loss, acc = model.evaluate(train_values, train_labels, verbose=0)\n",
    "\n",
    "print(\"Training Set Accuracy: %f\" %(acc))\n",
    "\n",
    "loss, acc = model.evaluate(test_values, test_labels, verbose=0)\n",
    "\n",
    "print(\"Testing Set Accuracy: %f\" %(acc))"
   ]
  },
  {
   "cell_type": "markdown",
   "metadata": {},
   "source": [
    "## Question 3: Part2"
   ]
  },
  {
   "cell_type": "code",
   "execution_count": 32,
   "metadata": {},
   "outputs": [
    {
     "name": "stdout",
     "output_type": "stream",
     "text": [
      "Model: \"sequential_11\"\n",
      "_________________________________________________________________\n",
      "Layer (type)                 Output Shape              Param #   \n",
      "=================================================================\n",
      "dense_25 (Dense)             (None, 32)                608       \n",
      "_________________________________________________________________\n",
      "dense_26 (Dense)             (None, 3)                 99        \n",
      "=================================================================\n",
      "Total params: 707\n",
      "Trainable params: 707\n",
      "Non-trainable params: 0\n",
      "_________________________________________________________________\n"
     ]
    }
   ],
   "source": [
    "## for the learning rate of 0.01, epochs = 20000 and optimiser 1.)Adam 1.) Activation function = tanh \n",
    "kernel_init = initializers.RandomNormal(seed=14)\n",
    "\n",
    "model = Sequential()\n",
    "model.add(Dense(32, activation='tanh', input_shape=(train_values.shape[1],), kernel_initializer=kernel_init))\n",
    "#model.add(Dense(16, activation='tanh', kernel_initializer=kernel_init))\n",
    "model.add(Dense(3, activation=tf.nn.softmax))  # Output Layer\n",
    "\n",
    "\n",
    "optimizer = tf.keras.optimizers.Adam(learning_rate=0.01) #Adam optimiser\n",
    "\n",
    "\n",
    "\n",
    "model.compile(loss='categorical_crossentropy', optimizer=optimizer, metrics=['accuracy'])\n",
    "model.summary()"
   ]
  },
  {
   "cell_type": "code",
   "execution_count": 33,
   "metadata": {},
   "outputs": [
    {
     "name": "stdout",
     "output_type": "stream",
     "text": [
      "Current Epoch: 20000\r"
     ]
    },
    {
     "data": {
      "image/png": "[encoded data removed]",
      "text/plain": [
       "<Figure size 432x288 with 1 Axes>"
      ]
     },
     "metadata": {
      "needs_background": "light"
     },
     "output_type": "display_data"
    }
   ],
   "source": [
    "class PrintEpNum(keras.callbacks.Callback): # This is a function for the Epoch Counter\n",
    "    def on_epoch_end(self, epoch, logs):\n",
    "        sys.stdout.flush()\n",
    "        sys.stdout.write(\"Current Epoch: \" + str(epoch+1) + '\\r') # Updates current Epoch Number\n",
    "\n",
    "\n",
    "EPOCHS = 20000 # Number of EPOCHS\n",
    "\n",
    "history = model.fit(train_values, train_labels, batch_size=train_values.shape[0], \\\n",
    "                    epochs=EPOCHS, validation_split=0.1, verbose = False, callbacks=[PrintEpNum()])\n",
    "\n",
    "# PLOTTING HISTORY USING MATPLOTLIB\n",
    "\n",
    "plt.figure()\n",
    "plt.xlabel('Epoch')\n",
    "plt.ylabel('Accuracy')\n",
    "#plt.ylim(0.98,1.05)\n",
    "plt.plot(history.epoch, np.array(history.history['accuracy']),label='Training Accuracy')\n",
    "plt.plot(history.epoch, np.array(history.history['val_accuracy']),label = 'Validation Accuracy')\n",
    "plt.legend()\n",
    "plt.show()"
   ]
  },
  {
   "cell_type": "code",
   "execution_count": 34,
   "metadata": {},
   "outputs": [
    {
     "name": "stdout",
     "output_type": "stream",
     "text": [
      "Training Set Accuracy: 0.975000\n",
      "Testing Set Accuracy: 0.714286\n"
     ]
    }
   ],
   "source": [
    "loss, acc = model.evaluate(train_values, train_labels, verbose=0)\n",
    "\n",
    "print(\"Training Set Accuracy: %f\" %(acc))\n",
    "\n",
    "loss, acc = model.evaluate(test_values, test_labels, verbose=0)\n",
    "\n",
    "print(\"Testing Set Accuracy: %f\" %(acc))"
   ]
  },
  {
   "cell_type": "markdown",
   "metadata": {},
   "source": [
    "## Question 3: part3 "
   ]
  },
  {
   "cell_type": "code",
   "execution_count": 35,
   "metadata": {},
   "outputs": [
    {
     "name": "stdout",
     "output_type": "stream",
     "text": [
      "Model: \"sequential_12\"\n",
      "_________________________________________________________________\n",
      "Layer (type)                 Output Shape              Param #   \n",
      "=================================================================\n",
      "dense_27 (Dense)             (None, 32)                608       \n",
      "_________________________________________________________________\n",
      "dense_28 (Dense)             (None, 3)                 99        \n",
      "=================================================================\n",
      "Total params: 707\n",
      "Trainable params: 707\n",
      "Non-trainable params: 0\n",
      "_________________________________________________________________\n"
     ]
    }
   ],
   "source": [
    "## for the learning rate of 0.01, epochs = 20000 and optimiser 1.)Adam 1.) Activation function = tanh \n",
    "kernel_init = initializers.RandomNormal(seed=14)\n",
    "\n",
    "model = Sequential()\n",
    "model.add(Dense(32, activation='softmax', input_shape=(train_values.shape[1],), kernel_initializer=kernel_init))\n",
    "#model.add(Dense(16, activation='relu', kernel_initializer=kernel_init))\n",
    "model.add(Dense(3, activation=tf.nn.softmax))  # Output Layer\n",
    "\n",
    "\n",
    "optimizer = tf.keras.optimizers.Adam(learning_rate=0.01) #Adam optimiser\n",
    "\n",
    "\n",
    "\n",
    "model.compile(loss='categorical_crossentropy', optimizer=optimizer, metrics=['accuracy'])\n",
    "model.summary()"
   ]
  },
  {
   "cell_type": "code",
   "execution_count": 36,
   "metadata": {},
   "outputs": [
    {
     "name": "stdout",
     "output_type": "stream",
     "text": [
      "Current Epoch: 20000\r"
     ]
    },
    {
     "data": {
      "image/png": "[encoded data removed]",
      "text/plain": [
       "<Figure size 432x288 with 1 Axes>"
      ]
     },
     "metadata": {
      "needs_background": "light"
     },
     "output_type": "display_data"
    }
   ],
   "source": [
    "class PrintEpNum(keras.callbacks.Callback): # This is a function for the Epoch Counter\n",
    "    def on_epoch_end(self, epoch, logs):\n",
    "        sys.stdout.flush()\n",
    "        sys.stdout.write(\"Current Epoch: \" + str(epoch+1) + '\\r') # Updates current Epoch Number\n",
    "\n",
    "\n",
    "EPOCHS = 20000 # Number of EPOCHS\n",
    "\n",
    "history = model.fit(train_values, train_labels, batch_size=train_values.shape[0], \\\n",
    "                    epochs=EPOCHS, validation_split=0.1, verbose = False, callbacks=[PrintEpNum()])\n",
    "\n",
    "# PLOTTING HISTORY USING MATPLOTLIB\n",
    "\n",
    "plt.figure()\n",
    "plt.xlabel('Epoch')\n",
    "plt.ylabel('Accuracy')\n",
    "#plt.ylim(0.98,1.05)\n",
    "plt.plot(history.epoch, np.array(history.history['accuracy']),label='Training Accuracy')\n",
    "plt.plot(history.epoch, np.array(history.history['val_accuracy']),label = 'Validation Accuracy')\n",
    "plt.legend()\n",
    "plt.show()"
   ]
  },
  {
   "cell_type": "code",
   "execution_count": 37,
   "metadata": {},
   "outputs": [
    {
     "name": "stdout",
     "output_type": "stream",
     "text": [
      "Training Set Accuracy: 0.975000\n",
      "Testing Set Accuracy: 0.714286\n"
     ]
    }
   ],
   "source": [
    "loss, acc = model.evaluate(train_values, train_labels, verbose=0)\n",
    "\n",
    "print(\"Training Set Accuracy: %f\" %(acc))\n",
    "\n",
    "loss, acc = model.evaluate(test_values, test_labels, verbose=0)\n",
    "\n",
    "print(\"Testing Set Accuracy: %f\" %(acc))"
   ]
  },
  {
   "cell_type": "markdown",
   "metadata": {},
   "source": [
    "#### MAKING PREDICTIONS\n",
    "\n",
    "The last step in a Regression Model is to make predictions for values not in the training set, which are determined by the method [**predict**](https://keras.io/models/model/#predict). In the following cell we print the Elements in the testing set, the real values for their Young's Moduli and the predictions generated by the Machine Learning model."
   ]
  },
  {
   "cell_type": "code",
   "execution_count": 38,
   "metadata": {},
   "outputs": [],
   "source": [
    "train_predictions = model.predict(train_values)\n",
    "test_predictions = model.predict(test_values)\n",
    "\n",
    "all_labels = np.vstack((train_labels, test_labels))\n",
    "all_predictions = np.vstack((train_predictions, test_predictions))\n",
    "\n",
    "predicted_labels = []\n",
    "true_labels = []\n",
    "\n",
    "for i in range(all_predictions.shape[0]):\n",
    "    if (np.argmax(all_predictions[i]) == 0):\n",
    "        predicted_labels.append(\"FCC\")\n",
    "    if (np.argmax(all_labels[i]) == 0):\n",
    "        true_labels.append(\"FCC\")\n",
    "    if (np.argmax(all_predictions[i]) == 1):\n",
    "        predicted_labels.append(\"BCC\")\n",
    "    if (np.argmax(all_labels[i]) == 1):\n",
    "        true_labels.append(\"BCC\")\n",
    "    if (np.argmax(all_predictions[i]) == 2):\n",
    "        predicted_labels.append(\"HCP\")\n",
    "    if (np.argmax(all_labels[i]) == 2):\n",
    "        true_labels.append(\"HCP\")\n",
    "\n",
    "predicted_labels = np.array(predicted_labels).reshape((-1, 1))\n",
    "true_labels = np.array(true_labels).reshape((-1, 1))\n",
    "headings = [\"Atomic number\", \"True crystal structure\", \"Predicted crystal structure\"]\n",
    "\n",
    "atomic_number_array = np.array(df.iloc[:, 0]).reshape((-1, 1))\n",
    "plot_table = np.concatenate((atomic_number_array, true_labels, predicted_labels), axis=1)\n",
    "\n",
    "plot_df = pd.DataFrame(plot_table, columns=headings)"
   ]
  },
  {
   "cell_type": "code",
   "execution_count": 39,
   "metadata": {},
   "outputs": [
    {
     "data": {
      "text/html": [
       "<div>\n",
       "<style scoped>\n",
       "    .dataframe tbody tr th:only-of-type {\n",
       "        vertical-align: middle;\n",
       "    }\n",
       "\n",
       "    .dataframe tbody tr th {\n",
       "        vertical-align: top;\n",
       "    }\n",
       "\n",
       "    .dataframe thead th {\n",
       "        text-align: right;\n",
       "    }\n",
       "</style>\n",
       "<table border=\"1\" class=\"dataframe\">\n",
       "  <thead>\n",
       "    <tr style=\"text-align: right;\">\n",
       "      <th></th>\n",
       "      <th>Atomic number</th>\n",
       "      <th>True crystal structure</th>\n",
       "      <th>Predicted crystal structure</th>\n",
       "    </tr>\n",
       "  </thead>\n",
       "  <tbody>\n",
       "    <tr>\n",
       "      <th>0</th>\n",
       "      <td>27</td>\n",
       "      <td>HCP</td>\n",
       "      <td>HCP</td>\n",
       "    </tr>\n",
       "    <tr>\n",
       "      <th>1</th>\n",
       "      <td>69</td>\n",
       "      <td>HCP</td>\n",
       "      <td>HCP</td>\n",
       "    </tr>\n",
       "    <tr>\n",
       "      <th>2</th>\n",
       "      <td>39</td>\n",
       "      <td>HCP</td>\n",
       "      <td>HCP</td>\n",
       "    </tr>\n",
       "    <tr>\n",
       "      <th>3</th>\n",
       "      <td>75</td>\n",
       "      <td>HCP</td>\n",
       "      <td>HCP</td>\n",
       "    </tr>\n",
       "    <tr>\n",
       "      <th>4</th>\n",
       "      <td>28</td>\n",
       "      <td>FCC</td>\n",
       "      <td>FCC</td>\n",
       "    </tr>\n",
       "    <tr>\n",
       "      <th>5</th>\n",
       "      <td>67</td>\n",
       "      <td>HCP</td>\n",
       "      <td>HCP</td>\n",
       "    </tr>\n",
       "    <tr>\n",
       "      <th>6</th>\n",
       "      <td>79</td>\n",
       "      <td>FCC</td>\n",
       "      <td>FCC</td>\n",
       "    </tr>\n",
       "    <tr>\n",
       "      <th>7</th>\n",
       "      <td>21</td>\n",
       "      <td>HCP</td>\n",
       "      <td>HCP</td>\n",
       "    </tr>\n",
       "    <tr>\n",
       "      <th>8</th>\n",
       "      <td>45</td>\n",
       "      <td>FCC</td>\n",
       "      <td>FCC</td>\n",
       "    </tr>\n",
       "    <tr>\n",
       "      <th>9</th>\n",
       "      <td>74</td>\n",
       "      <td>BCC</td>\n",
       "      <td>BCC</td>\n",
       "    </tr>\n",
       "    <tr>\n",
       "      <th>10</th>\n",
       "      <td>64</td>\n",
       "      <td>HCP</td>\n",
       "      <td>HCP</td>\n",
       "    </tr>\n",
       "    <tr>\n",
       "      <th>11</th>\n",
       "      <td>65</td>\n",
       "      <td>HCP</td>\n",
       "      <td>HCP</td>\n",
       "    </tr>\n",
       "    <tr>\n",
       "      <th>12</th>\n",
       "      <td>72</td>\n",
       "      <td>HCP</td>\n",
       "      <td>HCP</td>\n",
       "    </tr>\n",
       "    <tr>\n",
       "      <th>13</th>\n",
       "      <td>70</td>\n",
       "      <td>FCC</td>\n",
       "      <td>FCC</td>\n",
       "    </tr>\n",
       "    <tr>\n",
       "      <th>14</th>\n",
       "      <td>55</td>\n",
       "      <td>BCC</td>\n",
       "      <td>BCC</td>\n",
       "    </tr>\n",
       "    <tr>\n",
       "      <th>15</th>\n",
       "      <td>30</td>\n",
       "      <td>HCP</td>\n",
       "      <td>HCP</td>\n",
       "    </tr>\n",
       "    <tr>\n",
       "      <th>16</th>\n",
       "      <td>56</td>\n",
       "      <td>BCC</td>\n",
       "      <td>BCC</td>\n",
       "    </tr>\n",
       "    <tr>\n",
       "      <th>17</th>\n",
       "      <td>25</td>\n",
       "      <td>BCC</td>\n",
       "      <td>BCC</td>\n",
       "    </tr>\n",
       "    <tr>\n",
       "      <th>18</th>\n",
       "      <td>26</td>\n",
       "      <td>BCC</td>\n",
       "      <td>BCC</td>\n",
       "    </tr>\n",
       "    <tr>\n",
       "      <th>19</th>\n",
       "      <td>42</td>\n",
       "      <td>BCC</td>\n",
       "      <td>BCC</td>\n",
       "    </tr>\n",
       "    <tr>\n",
       "      <th>20</th>\n",
       "      <td>11</td>\n",
       "      <td>BCC</td>\n",
       "      <td>BCC</td>\n",
       "    </tr>\n",
       "    <tr>\n",
       "      <th>21</th>\n",
       "      <td>71</td>\n",
       "      <td>HCP</td>\n",
       "      <td>HCP</td>\n",
       "    </tr>\n",
       "    <tr>\n",
       "      <th>22</th>\n",
       "      <td>90</td>\n",
       "      <td>FCC</td>\n",
       "      <td>FCC</td>\n",
       "    </tr>\n",
       "    <tr>\n",
       "      <th>23</th>\n",
       "      <td>29</td>\n",
       "      <td>FCC</td>\n",
       "      <td>FCC</td>\n",
       "    </tr>\n",
       "    <tr>\n",
       "      <th>24</th>\n",
       "      <td>3</td>\n",
       "      <td>BCC</td>\n",
       "      <td>BCC</td>\n",
       "    </tr>\n",
       "    <tr>\n",
       "      <th>25</th>\n",
       "      <td>81</td>\n",
       "      <td>HCP</td>\n",
       "      <td>HCP</td>\n",
       "    </tr>\n",
       "    <tr>\n",
       "      <th>26</th>\n",
       "      <td>23</td>\n",
       "      <td>BCC</td>\n",
       "      <td>BCC</td>\n",
       "    </tr>\n",
       "    <tr>\n",
       "      <th>27</th>\n",
       "      <td>37</td>\n",
       "      <td>BCC</td>\n",
       "      <td>BCC</td>\n",
       "    </tr>\n",
       "    <tr>\n",
       "      <th>28</th>\n",
       "      <td>40</td>\n",
       "      <td>HCP</td>\n",
       "      <td>HCP</td>\n",
       "    </tr>\n",
       "    <tr>\n",
       "      <th>29</th>\n",
       "      <td>24</td>\n",
       "      <td>BCC</td>\n",
       "      <td>BCC</td>\n",
       "    </tr>\n",
       "    <tr>\n",
       "      <th>30</th>\n",
       "      <td>41</td>\n",
       "      <td>BCC</td>\n",
       "      <td>BCC</td>\n",
       "    </tr>\n",
       "    <tr>\n",
       "      <th>31</th>\n",
       "      <td>47</td>\n",
       "      <td>FCC</td>\n",
       "      <td>FCC</td>\n",
       "    </tr>\n",
       "    <tr>\n",
       "      <th>32</th>\n",
       "      <td>4</td>\n",
       "      <td>HCP</td>\n",
       "      <td>HCP</td>\n",
       "    </tr>\n",
       "    <tr>\n",
       "      <th>33</th>\n",
       "      <td>44</td>\n",
       "      <td>HCP</td>\n",
       "      <td>HCP</td>\n",
       "    </tr>\n",
       "    <tr>\n",
       "      <th>34</th>\n",
       "      <td>13</td>\n",
       "      <td>FCC</td>\n",
       "      <td>FCC</td>\n",
       "    </tr>\n",
       "    <tr>\n",
       "      <th>35</th>\n",
       "      <td>22</td>\n",
       "      <td>HCP</td>\n",
       "      <td>HCP</td>\n",
       "    </tr>\n",
       "    <tr>\n",
       "      <th>36</th>\n",
       "      <td>82</td>\n",
       "      <td>FCC</td>\n",
       "      <td>FCC</td>\n",
       "    </tr>\n",
       "    <tr>\n",
       "      <th>37</th>\n",
       "      <td>20</td>\n",
       "      <td>BCC</td>\n",
       "      <td>BCC</td>\n",
       "    </tr>\n",
       "    <tr>\n",
       "      <th>38</th>\n",
       "      <td>73</td>\n",
       "      <td>BCC</td>\n",
       "      <td>HCP</td>\n",
       "    </tr>\n",
       "    <tr>\n",
       "      <th>39</th>\n",
       "      <td>66</td>\n",
       "      <td>HCP</td>\n",
       "      <td>HCP</td>\n",
       "    </tr>\n",
       "    <tr>\n",
       "      <th>40</th>\n",
       "      <td>48</td>\n",
       "      <td>HCP</td>\n",
       "      <td>HCP</td>\n",
       "    </tr>\n",
       "    <tr>\n",
       "      <th>41</th>\n",
       "      <td>68</td>\n",
       "      <td>HCP</td>\n",
       "      <td>HCP</td>\n",
       "    </tr>\n",
       "    <tr>\n",
       "      <th>42</th>\n",
       "      <td>46</td>\n",
       "      <td>FCC</td>\n",
       "      <td>FCC</td>\n",
       "    </tr>\n",
       "    <tr>\n",
       "      <th>43</th>\n",
       "      <td>63</td>\n",
       "      <td>BCC</td>\n",
       "      <td>HCP</td>\n",
       "    </tr>\n",
       "    <tr>\n",
       "      <th>44</th>\n",
       "      <td>77</td>\n",
       "      <td>FCC</td>\n",
       "      <td>FCC</td>\n",
       "    </tr>\n",
       "    <tr>\n",
       "      <th>45</th>\n",
       "      <td>12</td>\n",
       "      <td>HCP</td>\n",
       "      <td>BCC</td>\n",
       "    </tr>\n",
       "    <tr>\n",
       "      <th>46</th>\n",
       "      <td>78</td>\n",
       "      <td>FCC</td>\n",
       "      <td>FCC</td>\n",
       "    </tr>\n",
       "  </tbody>\n",
       "</table>\n",
       "</div>"
      ],
      "text/plain": [
       "   Atomic number True crystal structure Predicted crystal structure\n",
       "0             27                    HCP                         HCP\n",
       "1             69                    HCP                         HCP\n",
       "2             39                    HCP                         HCP\n",
       "3             75                    HCP                         HCP\n",
       "4             28                    FCC                         FCC\n",
       "5             67                    HCP                         HCP\n",
       "6             79                    FCC                         FCC\n",
       "7             21                    HCP                         HCP\n",
       "8             45                    FCC                         FCC\n",
       "9             74                    BCC                         BCC\n",
       "10            64                    HCP                         HCP\n",
       "11            65                    HCP                         HCP\n",
       "12            72                    HCP                         HCP\n",
       "13            70                    FCC                         FCC\n",
       "14            55                    BCC                         BCC\n",
       "15            30                    HCP                         HCP\n",
       "16            56                    BCC                         BCC\n",
       "17            25                    BCC                         BCC\n",
       "18            26                    BCC                         BCC\n",
       "19            42                    BCC                         BCC\n",
       "20            11                    BCC                         BCC\n",
       "21            71                    HCP                         HCP\n",
       "22            90                    FCC                         FCC\n",
       "23            29                    FCC                         FCC\n",
       "24             3                    BCC                         BCC\n",
       "25            81                    HCP                         HCP\n",
       "26            23                    BCC                         BCC\n",
       "27            37                    BCC                         BCC\n",
       "28            40                    HCP                         HCP\n",
       "29            24                    BCC                         BCC\n",
       "30            41                    BCC                         BCC\n",
       "31            47                    FCC                         FCC\n",
       "32             4                    HCP                         HCP\n",
       "33            44                    HCP                         HCP\n",
       "34            13                    FCC                         FCC\n",
       "35            22                    HCP                         HCP\n",
       "36            82                    FCC                         FCC\n",
       "37            20                    BCC                         BCC\n",
       "38            73                    BCC                         HCP\n",
       "39            66                    HCP                         HCP\n",
       "40            48                    HCP                         HCP\n",
       "41            68                    HCP                         HCP\n",
       "42            46                    FCC                         FCC\n",
       "43            63                    BCC                         HCP\n",
       "44            77                    FCC                         FCC\n",
       "45            12                    HCP                         BCC\n",
       "46            78                    FCC                         FCC"
      ]
     },
     "execution_count": 39,
     "metadata": {},
     "output_type": "execute_result"
    }
   ],
   "source": [
    "plot_df"
   ]
  },
  {
   "cell_type": "code",
   "execution_count": null,
   "metadata": {},
   "outputs": [],
   "source": []
  }
 ],
 "metadata": {
  "kernelspec": {
   "display_name": "Python 3",
   "language": "python",
   "name": "python3"
  },
  "language_info": {
   "codemirror_mode": {
    "name": "ipython",
    "version": 3
   },
   "file_extension": ".py",
   "mimetype": "text/x-python",
   "name": "python",
   "nbconvert_exporter": "python",
   "pygments_lexer": "ipython3",
   "version": "3.8.3"
  }
 },
 "nbformat": 4,
 "nbformat_minor": 2
}
