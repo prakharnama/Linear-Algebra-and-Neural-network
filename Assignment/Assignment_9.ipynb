{
 "cells": [
  {
   "cell_type": "code",
   "execution_count": 1,
   "metadata": {},
   "outputs": [
    {
     "data": {
      "text/plain": [
       "'Assignment 9: Firstly we initialized the importing the tensorflow and keras with Elements and then queru-ying data from \\nPymatgen and mendeleev then \\nPart 1: with variable optimisers we will learn the best optimiser\\nPart 2 :with variable units in a layer we will see the optimum units\\nPart 3: with variable activation function we will learn the best range of data'"
      ]
     },
     "execution_count": 1,
     "metadata": {},
     "output_type": "execute_result"
    }
   ],
   "source": [
    "'''Assignment 9: Firstly we initialized the importing the tensorflow and keras with Elements and then queru-ying data from \n",
    "Pymatgen and mendeleev then \n",
    "\n",
    "Part 1: with variable optimisers we will learn the best optimiser\n",
    "Part 2 :with variable units in a layer we will see the optimum units\n",
    "Part 3: with variable activation function we will learn the best range of data'''"
   ]
  },
  {
   "cell_type": "code",
   "execution_count": 2,
   "metadata": {},
   "outputs": [],
   "source": [
    "import tensorflow as tf\n",
    "\n",
    "import keras\n",
    "from keras import initializers\n",
    "from keras.layers import Dense\n",
    "from keras.models import Sequential\n",
    "from keras import optimizers\n",
    "\n",
    "import pymatgen.core as pymat\n",
    "import mendeleev as mendel\n",
    "import pandas as pd\n",
    "import numpy as np\n",
    "\n",
    "\n",
    "import sys\n",
    "import os\n",
    "sys.path.insert(0, '../src/')\n",
    "\n",
    "%matplotlib inline\n",
    "import matplotlib.pyplot as plt\n",
    "\n",
    "fcc_elements = [\"Ag\", \"Al\", \"Au\", \"Cu\", \"Ir\", \"Ni\", \"Pb\", \"Pd\", \"Pt\", \"Rh\", \"Th\", \"Yb\"]\n",
    "bcc_elements = [\"Ba\", \"Cr\", \"Cs\", \"Eu\", \"Fe\", \"Li\", \"Mn\", \"Mo\", \"Na\", \"Nb\", \"Rb\", \"Ta\", \"V\", \"W\" ]\n",
    "hcp_elements = [\"Be\", \"Ca\", \"Cd\", \"Co\", \"Dy\", \"Er\", \"Gd\", \"Hf\", \"Ho\", \"Lu\", \"Mg\", \"Re\", \n",
    "                \"Ru\", \"Sc\", \"Tb\", \"Ti\", \"Tl\", \"Tm\", \"Y\", \"Zn\", \"Zr\"]\n",
    "others = [\"Si\", \"Ge\"] # \"Si\" and \"Ge\" are Face-centered diamond-cubic;\n",
    "\n",
    "elements = fcc_elements + others + bcc_elements + hcp_elements\n",
    "\n",
    "querable_mendeleev = [\"atomic_number\", \"atomic_volume\", \"boiling_point\",\n",
    "                      \"en_ghosh\",  \"evaporation_heat\", \"heat_of_formation\",\n",
    "                     \"lattice_constant\", \"specific_heat\"]\n",
    "querable_pymatgen = [\"atomic_mass\", \"atomic_radius\", \"electrical_resistivity\",\n",
    "                     \"molar_volume\", \"bulk_modulus\", \"youngs_modulus\",\n",
    "                     \"average_ionic_radius\", \"density_of_solid\",\n",
    "                     \"coefficient_of_linear_thermal_expansion\"]\n",
    "\n",
    "querable_values = querable_mendeleev + querable_pymatgen"
   ]
  },
  {
   "cell_type": "code",
   "execution_count": 3,
   "metadata": {
    "scrolled": true
   },
   "outputs": [
    {
     "data": {
      "text/html": [
       "<div>\n",
       "<style scoped>\n",
       "    .dataframe tbody tr th:only-of-type {\n",
       "        vertical-align: middle;\n",
       "    }\n",
       "\n",
       "    .dataframe tbody tr th {\n",
       "        vertical-align: top;\n",
       "    }\n",
       "\n",
       "    .dataframe thead th {\n",
       "        text-align: right;\n",
       "    }\n",
       "</style>\n",
       "<table border=\"1\" class=\"dataframe\">\n",
       "  <thead>\n",
       "    <tr style=\"text-align: right;\">\n",
       "      <th></th>\n",
       "      <th>atomic_number</th>\n",
       "      <th>atomic_volume</th>\n",
       "      <th>boiling_point</th>\n",
       "      <th>en_ghosh</th>\n",
       "      <th>evaporation_heat</th>\n",
       "      <th>heat_of_formation</th>\n",
       "      <th>lattice_constant</th>\n",
       "      <th>specific_heat</th>\n",
       "      <th>atomic_mass</th>\n",
       "      <th>atomic_radius</th>\n",
       "      <th>electrical_resistivity</th>\n",
       "      <th>molar_volume</th>\n",
       "      <th>bulk_modulus</th>\n",
       "      <th>average_ionic_radius</th>\n",
       "      <th>density_of_solid</th>\n",
       "      <th>coefficient_of_linear_thermal_expansion</th>\n",
       "    </tr>\n",
       "  </thead>\n",
       "  <tbody>\n",
       "    <tr>\n",
       "      <th>0</th>\n",
       "      <td>47</td>\n",
       "      <td>10.30</td>\n",
       "      <td>2485.0</td>\n",
       "      <td>0.147217</td>\n",
       "      <td>254.1</td>\n",
       "      <td>284.9</td>\n",
       "      <td>4.09</td>\n",
       "      <td>0.237</td>\n",
       "      <td>107.868200</td>\n",
       "      <td>1.60</td>\n",
       "      <td>1.630000e-08</td>\n",
       "      <td>10.27</td>\n",
       "      <td>100.0</td>\n",
       "      <td>1.086667</td>\n",
       "      <td>10490.0</td>\n",
       "      <td>0.000019</td>\n",
       "    </tr>\n",
       "    <tr>\n",
       "      <th>1</th>\n",
       "      <td>13</td>\n",
       "      <td>10.00</td>\n",
       "      <td>2740.0</td>\n",
       "      <td>0.150078</td>\n",
       "      <td>284.1</td>\n",
       "      <td>330.9</td>\n",
       "      <td>4.05</td>\n",
       "      <td>0.900</td>\n",
       "      <td>26.981539</td>\n",
       "      <td>1.25</td>\n",
       "      <td>2.700000e-08</td>\n",
       "      <td>10.00</td>\n",
       "      <td>76.0</td>\n",
       "      <td>0.675000</td>\n",
       "      <td>2700.0</td>\n",
       "      <td>0.000023</td>\n",
       "    </tr>\n",
       "    <tr>\n",
       "      <th>2</th>\n",
       "      <td>79</td>\n",
       "      <td>10.20</td>\n",
       "      <td>3080.0</td>\n",
       "      <td>0.261370</td>\n",
       "      <td>340.0</td>\n",
       "      <td>368.2</td>\n",
       "      <td>4.08</td>\n",
       "      <td>0.129</td>\n",
       "      <td>196.966569</td>\n",
       "      <td>1.35</td>\n",
       "      <td>2.200000e-08</td>\n",
       "      <td>10.21</td>\n",
       "      <td>220.0</td>\n",
       "      <td>1.070000</td>\n",
       "      <td>19300.0</td>\n",
       "      <td>0.000014</td>\n",
       "    </tr>\n",
       "    <tr>\n",
       "      <th>3</th>\n",
       "      <td>29</td>\n",
       "      <td>7.10</td>\n",
       "      <td>2840.0</td>\n",
       "      <td>0.151172</td>\n",
       "      <td>304.6</td>\n",
       "      <td>337.4</td>\n",
       "      <td>3.61</td>\n",
       "      <td>0.385</td>\n",
       "      <td>63.546000</td>\n",
       "      <td>1.35</td>\n",
       "      <td>1.720000e-08</td>\n",
       "      <td>7.11</td>\n",
       "      <td>140.0</td>\n",
       "      <td>0.820000</td>\n",
       "      <td>8920.0</td>\n",
       "      <td>0.000017</td>\n",
       "    </tr>\n",
       "    <tr>\n",
       "      <th>4</th>\n",
       "      <td>77</td>\n",
       "      <td>8.54</td>\n",
       "      <td>4403.0</td>\n",
       "      <td>0.251060</td>\n",
       "      <td>604.0</td>\n",
       "      <td>669.0</td>\n",
       "      <td>3.84</td>\n",
       "      <td>0.133</td>\n",
       "      <td>192.217000</td>\n",
       "      <td>1.35</td>\n",
       "      <td>4.700000e-08</td>\n",
       "      <td>8.52</td>\n",
       "      <td>320.0</td>\n",
       "      <td>0.765000</td>\n",
       "      <td>22650.0</td>\n",
       "      <td>0.000006</td>\n",
       "    </tr>\n",
       "    <tr>\n",
       "      <th>5</th>\n",
       "      <td>28</td>\n",
       "      <td>6.60</td>\n",
       "      <td>3005.0</td>\n",
       "      <td>0.147207</td>\n",
       "      <td>378.6</td>\n",
       "      <td>430.1</td>\n",
       "      <td>3.52</td>\n",
       "      <td>0.443</td>\n",
       "      <td>58.693400</td>\n",
       "      <td>1.35</td>\n",
       "      <td>7.200000e-08</td>\n",
       "      <td>6.59</td>\n",
       "      <td>180.0</td>\n",
       "      <td>0.740000</td>\n",
       "      <td>8908.0</td>\n",
       "      <td>0.000013</td>\n",
       "    </tr>\n",
       "    <tr>\n",
       "      <th>6</th>\n",
       "      <td>82</td>\n",
       "      <td>18.30</td>\n",
       "      <td>2013.0</td>\n",
       "      <td>0.177911</td>\n",
       "      <td>177.8</td>\n",
       "      <td>195.2</td>\n",
       "      <td>4.95</td>\n",
       "      <td>0.159</td>\n",
       "      <td>207.200000</td>\n",
       "      <td>1.80</td>\n",
       "      <td>2.100000e-07</td>\n",
       "      <td>18.26</td>\n",
       "      <td>46.0</td>\n",
       "      <td>1.122500</td>\n",
       "      <td>11340.0</td>\n",
       "      <td>0.000029</td>\n",
       "    </tr>\n",
       "    <tr>\n",
       "      <th>7</th>\n",
       "      <td>46</td>\n",
       "      <td>8.90</td>\n",
       "      <td>3413.0</td>\n",
       "      <td>0.144028</td>\n",
       "      <td>372.4</td>\n",
       "      <td>376.6</td>\n",
       "      <td>3.89</td>\n",
       "      <td>0.244</td>\n",
       "      <td>106.420000</td>\n",
       "      <td>1.40</td>\n",
       "      <td>1.080000e-07</td>\n",
       "      <td>8.56</td>\n",
       "      <td>180.0</td>\n",
       "      <td>0.846250</td>\n",
       "      <td>12023.0</td>\n",
       "      <td>0.000012</td>\n",
       "    </tr>\n",
       "    <tr>\n",
       "      <th>8</th>\n",
       "      <td>78</td>\n",
       "      <td>9.10</td>\n",
       "      <td>4100.0</td>\n",
       "      <td>0.256910</td>\n",
       "      <td>470.0</td>\n",
       "      <td>565.7</td>\n",
       "      <td>3.92</td>\n",
       "      <td>0.133</td>\n",
       "      <td>195.084000</td>\n",
       "      <td>1.35</td>\n",
       "      <td>1.060000e-07</td>\n",
       "      <td>9.09</td>\n",
       "      <td>230.0</td>\n",
       "      <td>0.805000</td>\n",
       "      <td>21090.0</td>\n",
       "      <td>0.000009</td>\n",
       "    </tr>\n",
       "    <tr>\n",
       "      <th>9</th>\n",
       "      <td>45</td>\n",
       "      <td>8.30</td>\n",
       "      <td>4000.0</td>\n",
       "      <td>0.140838</td>\n",
       "      <td>494.0</td>\n",
       "      <td>556.0</td>\n",
       "      <td>3.80</td>\n",
       "      <td>0.244</td>\n",
       "      <td>102.905500</td>\n",
       "      <td>1.35</td>\n",
       "      <td>4.300000e-08</td>\n",
       "      <td>8.28</td>\n",
       "      <td>380.0</td>\n",
       "      <td>0.745000</td>\n",
       "      <td>12450.0</td>\n",
       "      <td>0.000008</td>\n",
       "    </tr>\n",
       "  </tbody>\n",
       "</table>\n",
       "</div>"
      ],
      "text/plain": [
       "   atomic_number  atomic_volume  boiling_point  en_ghosh  evaporation_heat  \\\n",
       "0             47          10.30         2485.0  0.147217             254.1   \n",
       "1             13          10.00         2740.0  0.150078             284.1   \n",
       "2             79          10.20         3080.0  0.261370             340.0   \n",
       "3             29           7.10         2840.0  0.151172             304.6   \n",
       "4             77           8.54         4403.0  0.251060             604.0   \n",
       "5             28           6.60         3005.0  0.147207             378.6   \n",
       "6             82          18.30         2013.0  0.177911             177.8   \n",
       "7             46           8.90         3413.0  0.144028             372.4   \n",
       "8             78           9.10         4100.0  0.256910             470.0   \n",
       "9             45           8.30         4000.0  0.140838             494.0   \n",
       "\n",
       "   heat_of_formation  lattice_constant  specific_heat  atomic_mass  \\\n",
       "0              284.9              4.09          0.237   107.868200   \n",
       "1              330.9              4.05          0.900    26.981539   \n",
       "2              368.2              4.08          0.129   196.966569   \n",
       "3              337.4              3.61          0.385    63.546000   \n",
       "4              669.0              3.84          0.133   192.217000   \n",
       "5              430.1              3.52          0.443    58.693400   \n",
       "6              195.2              4.95          0.159   207.200000   \n",
       "7              376.6              3.89          0.244   106.420000   \n",
       "8              565.7              3.92          0.133   195.084000   \n",
       "9              556.0              3.80          0.244   102.905500   \n",
       "\n",
       "   atomic_radius  electrical_resistivity  molar_volume  bulk_modulus  \\\n",
       "0           1.60            1.630000e-08         10.27         100.0   \n",
       "1           1.25            2.700000e-08         10.00          76.0   \n",
       "2           1.35            2.200000e-08         10.21         220.0   \n",
       "3           1.35            1.720000e-08          7.11         140.0   \n",
       "4           1.35            4.700000e-08          8.52         320.0   \n",
       "5           1.35            7.200000e-08          6.59         180.0   \n",
       "6           1.80            2.100000e-07         18.26          46.0   \n",
       "7           1.40            1.080000e-07          8.56         180.0   \n",
       "8           1.35            1.060000e-07          9.09         230.0   \n",
       "9           1.35            4.300000e-08          8.28         380.0   \n",
       "\n",
       "   average_ionic_radius  density_of_solid  \\\n",
       "0              1.086667           10490.0   \n",
       "1              0.675000            2700.0   \n",
       "2              1.070000           19300.0   \n",
       "3              0.820000            8920.0   \n",
       "4              0.765000           22650.0   \n",
       "5              0.740000            8908.0   \n",
       "6              1.122500           11340.0   \n",
       "7              0.846250           12023.0   \n",
       "8              0.805000           21090.0   \n",
       "9              0.745000           12450.0   \n",
       "\n",
       "   coefficient_of_linear_thermal_expansion  \n",
       "0                                 0.000019  \n",
       "1                                 0.000023  \n",
       "2                                 0.000014  \n",
       "3                                 0.000017  \n",
       "4                                 0.000006  \n",
       "5                                 0.000013  \n",
       "6                                 0.000029  \n",
       "7                                 0.000012  \n",
       "8                                 0.000009  \n",
       "9                                 0.000008  "
      ]
     },
     "execution_count": 3,
     "metadata": {},
     "output_type": "execute_result"
    }
   ],
   "source": [
    "all_values = [] # Values for Attributes\n",
    "all_labels = [] # Values for Young's Modulus (Property to be estimated)\n",
    "\n",
    "for item in elements:\n",
    "    element_values = []\n",
    "    \n",
    "    # This section queries Mendeleev\n",
    "    element_object = mendel.element(item)\n",
    "    for i in querable_mendeleev:    \n",
    "        element_values.append(getattr(element_object,i))\n",
    "\n",
    "    # This section queries Pymatgen\n",
    "    element_object = pymat.Element(item)    \n",
    "    for i in querable_pymatgen:\n",
    "        element_values.append(getattr(element_object,i))\n",
    "        \n",
    "    all_values.append(element_values) # All lists are appended to another list, creating a list of lists\n",
    "    \n",
    "# Pandas Dataframe\n",
    "df = pd.DataFrame(all_values, columns=querable_values)\n",
    "\n",
    "\n",
    "index_Cs = df.index[df['atomic_number'] == 55]\n",
    "df.iloc[index_Cs, df.columns.get_loc(\"coefficient_of_linear_thermal_expansion\")] = 0.000097 \n",
    "\n",
    "index_Rb = df.index[df['atomic_number'] == 37]\n",
    "df.iloc[index_Rb, df.columns.get_loc(\"coefficient_of_linear_thermal_expansion\")] = 0.000090 \n",
    "\n",
    "index_Ru = df.index[df['atomic_number'] == 44]\n",
    "df.iloc[index_Ru, df.columns.get_loc(\"evaporation_heat\")] = 595 # kJ/mol \n",
    "\n",
    "index_Zr = df.index[df['atomic_number'] == 40]\n",
    "df.iloc[index_Zr, df.columns.get_loc(\"bulk_modulus\")] = 94 # GPa \n",
    "# Value from: https://materialsproject.org/materials/mp-131/\n",
    "\n",
    "# Value for the Bulk Modulus of Germanium\n",
    "index_Ge = df.index[df['atomic_number'] == 32]\n",
    "df.iloc[index_Ge, df.columns.get_loc(\"bulk_modulus\")] = 77.2 # GPa \n",
    "# Value from: https://www.crystran.co.uk/optical-materials/germanium-ge\n",
    "\n",
    "# Value for the Young's Modulus of Germanium\n",
    "index_Ge = df.index[df['atomic_number'] == 32]\n",
    "df.iloc[index_Ge, df.columns.get_loc(\"youngs_modulus\")] = 102.7 # GPa \n",
    "# Value from: https://www.crystran.co.uk/optical-materials/germanium-ge\n",
    "\n",
    "\n",
    "# The labels (values for Young's modulus) are stored separately for clarity (We drop the column later)\n",
    "\n",
    "df.to_csv(os.path.expanduser('~/mseml_data.csv'), index=False, compression=None) # this line saves the data we collected into a .csv file into your home directory\n",
    "\n",
    "all_labels = df['youngs_modulus'].tolist()\n",
    "df = df.drop(['youngs_modulus'], axis=1)\n",
    "\n",
    "df.head(n=10) # With this line you can see the first ten entries of our database"
   ]
  },
  {
   "cell_type": "code",
   "execution_count": 4,
   "metadata": {},
   "outputs": [
    {
     "name": "stdout",
     "output_type": "stream",
     "text": [
      "Shape of Values: (49, 16)\n",
      "Shape of Labels: (49,)\n",
      "[ 0.03635373 -0.4602946  -0.48361459 -0.42975929 -0.55419253 -0.53925649\n",
      "  0.11365477 -0.36227363 -0.03999321  0.14325452 -0.20822226 -0.45484424\n",
      " -0.1874737   0.56763589  0.31632766  0.02259419]\n",
      "[ 1.43084567  0.09033955 -1.04659463  0.12995488 -1.04158432 -1.04927398\n",
      " -0.41055658 -0.5533928   1.48190695  1.13849646 -0.20741199  0.10038856\n",
      " -0.75794692  1.53039692  0.55449179  0.55865246]\n",
      "[ 0  1  2  3  4  5  6  7  8  9 10 11 12 13 14 15 16 17 18 19 20 21 22 23\n",
      " 24 25 26 27 28 29 30 31 32 33 34 35 36 37 38 39 40 41 42 43 44 45 46 47\n",
      " 48]\n"
     ]
    }
   ],
   "source": [
    "\n",
    "all_values = [list(df.iloc[x]) for x in range(len(all_values))]\n",
    "\n",
    "all_values = np.array(all_values, dtype = float) \n",
    "print(\"Shape of Values:\", all_values.shape)\n",
    "all_labels = np.array(all_labels, dtype = float)\n",
    "print(\"Shape of Labels:\", all_labels.shape)\n",
    "\n",
    "# Uncomment the line below to shuffle the dataset (we do not do this here to ensure consistent results for every run)\n",
    "#order = np.argsort(np.random.random(all_labels.shape)) # This numpy argsort returns the indexes that would be used to shuffle a list\n",
    "order = np.arange(49)\n",
    "all_values = all_values[order]\n",
    "all_labels = all_labels[order]\n",
    "\n",
    "# Training Set\n",
    "train_labels = all_labels[:44]\n",
    "train_values = all_values[:44]\n",
    "\n",
    "# Testing Set\n",
    "test_labels = all_labels[-5:]\n",
    "test_values = all_values[-5:]\n",
    "\n",
    "labeled_elements = [elements[x] for x in order[-5:]] \n",
    "elements = [elements[x] for x in order]\n",
    "\n",
    "# NORMALIZATION\n",
    "\n",
    "mean = np.mean(train_values, axis = 0) # mean\n",
    "std = np.std(train_values, axis = 0) # standard deviation\n",
    "\n",
    "train_values = (train_values - mean) / std # input scaling\n",
    "test_values = (test_values - mean) / std # input scaling\n",
    "\n",
    "print(train_values[0]) # print a sample entry from the training set\n",
    "print(test_values[0]) # print a sample entry from the training set\n",
    "print(order)"
   ]
  },
  {
   "cell_type": "markdown",
   "metadata": {},
   "source": [
    "## Ques1 : For learning rate 0.001, epochs 20000 and other default setup, run the model for RMSProp, Adam and Gradient Descent and compare the loss vs. epochs."
   ]
  },
  {
   "cell_type": "code",
   "execution_count": 5,
   "metadata": {},
   "outputs": [],
   "source": [
    "from sklearn.metrics import mean_absolute_error"
   ]
  },
  {
   "cell_type": "code",
   "execution_count": 9,
   "metadata": {},
   "outputs": [
    {
     "name": "stdout",
     "output_type": "stream",
     "text": [
      "Model: \"sequential_1\"\n",
      "_________________________________________________________________\n",
      "Layer (type)                 Output Shape              Param #   \n",
      "=================================================================\n",
      "dense_3 (Dense)              (None, 16)                272       \n",
      "_________________________________________________________________\n",
      "dense_4 (Dense)              (None, 32)                544       \n",
      "_________________________________________________________________\n",
      "dense_5 (Dense)              (None, 1)                 33        \n",
      "=================================================================\n",
      "Total params: 849\n",
      "Trainable params: 849\n",
      "Non-trainable params: 0\n",
      "_________________________________________________________________\n"
     ]
    }
   ],
   "source": [
    "# For the learning rate of 0.001, epochs = 20000 with RMS prop optimiser\n",
    "kernel_init = initializers.RandomNormal(seed=0)\n",
    "bias_init = initializers.Zeros()\n",
    "\n",
    "model = Sequential()\n",
    "model.add(Dense(16, activation='relu', input_shape=(train_values.shape[1], ), kernel_initializer=kernel_init, bias_initializer=bias_init))\n",
    "model.add(Dense(32, activation='relu', kernel_initializer=kernel_init, bias_initializer=bias_init))\n",
    "model.add(Dense(1, kernel_initializer=kernel_init, bias_initializer=bias_init))\n",
    "\n",
    "\n",
    "optimizer = tf.keras.optimizers.RMSprop(learning_rate=0.001) # Root Mean Squared Propagation\n",
    "\n",
    "model.compile(loss='mae', optimizer=optimizer, metrics=['mae'])\n",
    "model.summary()"
   ]
  },
  {
   "cell_type": "code",
   "execution_count": 10,
   "metadata": {},
   "outputs": [
    {
     "name": "stdout",
     "output_type": "stream",
     "text": [
      "Current Epoch: 20000 Training Loss: 0.740987                                       \r"
     ]
    },
    {
     "data": {
      "image/png": "[encoded data removed]",
      "text/plain": [
       "<Figure size 432x288 with 1 Axes>"
      ]
     },
     "metadata": {
      "needs_background": "light"
     },
     "output_type": "display_data"
    }
   ],
   "source": [
    "# EPOCH REAL TIME COUNTER CLASS\n",
    "class PrintEpNum(keras.callbacks.Callback): # This is a function for the Epoch Counter\n",
    "    def on_epoch_end(self, epoch, logs):\n",
    "        sys.stdout.flush()\n",
    "        sys.stdout.write(\"Current Epoch: \" + str(epoch+1) + \" Training Loss: \" + \"%4f\" %logs.get('loss') + '                                       \\r') # Updates current Epoch Number\n",
    "\n",
    "EPOCHS = 20000 # Number of EPOCHS\n",
    "\n",
    "# HISTORY Object which contains how the model learned\n",
    "\n",
    "# Training Values (Properties), Training Labels (Known Young's Moduli) \n",
    "history = model.fit(train_values, train_labels, batch_size=train_values.shape[0], \n",
    "                    epochs=EPOCHS, verbose = False, shuffle=False, validation_split=0.1, callbacks=[PrintEpNum()])\n",
    "\n",
    "\n",
    "# PLOTTING HISTORY USING MATPLOTLIB\n",
    "\n",
    "plt.figure()\n",
    "plt.xlabel('Epoch')\n",
    "plt.ylabel('Mean Abs Error')\n",
    "plt.plot(history.epoch, np.array(history.history['loss']),label='Loss on training set') \n",
    "plt.plot(history.epoch, np.array(history.history['val_loss']),label = 'Validation loss')\n",
    "plt.legend()\n",
    "plt.show()"
   ]
  },
  {
   "cell_type": "code",
   "execution_count": 11,
   "metadata": {},
   "outputs": [
    {
     "name": "stdout",
     "output_type": "stream",
     "text": [
      "Testing Set Mean Absolute Error: 40.42 GPa\n"
     ]
    }
   ],
   "source": [
    "[loss, mae] = model.evaluate(test_values, test_labels, verbose=0)\n",
    "\n",
    "print(\"Testing Set Mean Absolute Error: {:2.2f} GPa\".format(mae))"
   ]
  },
  {
   "cell_type": "markdown",
   "metadata": {},
   "source": [
    "## Question 1: Part2"
   ]
  },
  {
   "cell_type": "code",
   "execution_count": 23,
   "metadata": {},
   "outputs": [
    {
     "name": "stdout",
     "output_type": "stream",
     "text": [
      "Model: \"sequential_6\"\n",
      "_________________________________________________________________\n",
      "Layer (type)                 Output Shape              Param #   \n",
      "=================================================================\n",
      "dense_18 (Dense)             (None, 16)                272       \n",
      "_________________________________________________________________\n",
      "dense_19 (Dense)             (None, 32)                544       \n",
      "_________________________________________________________________\n",
      "dense_20 (Dense)             (None, 1)                 33        \n",
      "=================================================================\n",
      "Total params: 849\n",
      "Trainable params: 849\n",
      "Non-trainable params: 0\n",
      "_________________________________________________________________\n"
     ]
    }
   ],
   "source": [
    "# For the learning rate of 0.001, epochs = 20000 with Adam optimiser\n",
    "kernel_init = initializers.RandomNormal(seed=0)\n",
    "bias_init = initializers.Zeros()\n",
    "\n",
    "model = Sequential()\n",
    "model.add(Dense(16, activation='relu', input_shape=(train_values.shape[1], ), kernel_initializer=kernel_init, bias_initializer=bias_init))\n",
    "model.add(Dense(32, activation='relu', kernel_initializer=kernel_init, bias_initializer=bias_init))\n",
    "#model.add(Dense(128, activation='relu', kernel_initializer=kernel_init, bias_initializer=bias_init))\n",
    "model.add(Dense(1, activation = 'relu',kernel_initializer=kernel_init, bias_initializer=bias_init))\n",
    "\n",
    "\n",
    "optimizer = tf.keras.optimizers.Adam(learning_rate=0.001) # Adam optimiser\n",
    "\n",
    "model.compile(loss='mae', optimizer=optimizer, metrics=['mae'])\n",
    "model.summary()"
   ]
  },
  {
   "cell_type": "code",
   "execution_count": 24,
   "metadata": {},
   "outputs": [
    {
     "name": "stdout",
     "output_type": "stream",
     "text": [
      "Current Epoch: 20000 Training Loss: 0.226522                                       \r"
     ]
    },
    {
     "data": {
      "image/png": "[encoded data removed]",
      "text/plain": [
       "<Figure size 432x288 with 1 Axes>"
      ]
     },
     "metadata": {
      "needs_background": "light"
     },
     "output_type": "display_data"
    }
   ],
   "source": [
    "class PrintEpNum(keras.callbacks.Callback): # This is a function for the Epoch Counter\n",
    "    def on_epoch_end(self, epoch, logs):\n",
    "        sys.stdout.flush()\n",
    "        sys.stdout.write(\"Current Epoch: \" + str(epoch+1) + \" Training Loss: \" + \"%4f\" %logs.get('loss') + '                                       \\r') # Updates current Epoch Number\n",
    "\n",
    "EPOCHS = 20000 \n",
    "\n",
    "\n",
    "history = model.fit(train_values, train_labels, batch_size=train_values.shape[0], \n",
    "                    epochs=EPOCHS, verbose = False, shuffle=False, validation_split=0.1, callbacks=[PrintEpNum()])\n",
    "\n",
    "\n",
    "plt.figure()\n",
    "plt.xlabel('Epoch')\n",
    "plt.ylabel('Mean Abs Error')\n",
    "plt.plot(history.epoch, np.array(history.history['loss']),label='Loss on training set') \n",
    "plt.plot(history.epoch, np.array(history.history['val_loss']),label = 'Validation loss')\n",
    "plt.legend()\n",
    "plt.show()\n"
   ]
  },
  {
   "cell_type": "markdown",
   "metadata": {},
   "source": [
    "## Question 1: Part3"
   ]
  },
  {
   "cell_type": "code",
   "execution_count": 6,
   "metadata": {},
   "outputs": [
    {
     "name": "stdout",
     "output_type": "stream",
     "text": [
      "Model: \"sequential\"\n",
      "_________________________________________________________________\n",
      "Layer (type)                 Output Shape              Param #   \n",
      "=================================================================\n",
      "dense (Dense)                (None, 16)                272       \n",
      "_________________________________________________________________\n",
      "dense_1 (Dense)              (None, 32)                544       \n",
      "_________________________________________________________________\n",
      "dense_2 (Dense)              (None, 1)                 33        \n",
      "=================================================================\n",
      "Total params: 849\n",
      "Trainable params: 849\n",
      "Non-trainable params: 0\n",
      "_________________________________________________________________\n"
     ]
    }
   ],
   "source": [
    "# For the learning rate of 0.001, epochs = 20000 with Gradient descent optimiser\n",
    "kernel_init = initializers.RandomNormal(seed=0)\n",
    "bias_init = initializers.Zeros()\n",
    "\n",
    "model = Sequential()\n",
    "model.add(Dense(16, activation='relu', input_shape=(train_values.shape[1], ), kernel_initializer=kernel_init, bias_initializer=bias_init))\n",
    "model.add(Dense(32, activation='relu', kernel_initializer=kernel_init, bias_initializer=bias_init))\n",
    "#model.add(Dense(128, activation='relu', kernel_initializer=kernel_init, bias_initializer=bias_init))\n",
    "model.add(Dense(1, activation = 'relu',kernel_initializer=kernel_init, bias_initializer=bias_init))\n",
    "\n",
    "\n",
    "optimizer = tf.keras.optimizers.SGD(learning_rate=0.001) #Gradient descennt optimiser\n",
    "\n",
    "model.compile(loss='mae', optimizer=optimizer, metrics=['mae'])\n",
    "model.summary()"
   ]
  },
  {
   "cell_type": "code",
   "execution_count": 7,
   "metadata": {},
   "outputs": [
    {
     "name": "stdout",
     "output_type": "stream",
     "text": [
      "Current Epoch: 20000 Training Loss: 4.093100                                        \r"
     ]
    },
    {
     "data": {
      "image/png": "[encoded data removed]",
      "text/plain": [
       "<Figure size 432x288 with 1 Axes>"
      ]
     },
     "metadata": {
      "needs_background": "light"
     },
     "output_type": "display_data"
    }
   ],
   "source": [
    "class PrintEpNum(keras.callbacks.Callback): # This is a function for the Epoch Counter\n",
    "    def on_epoch_end(self, epoch, logs):\n",
    "        sys.stdout.flush()\n",
    "        sys.stdout.write(\"Current Epoch: \" + str(epoch+1) + \" Training Loss: \" + \"%4f\" %logs.get('loss') + '                                       \\r') # Updates current Epoch Number\n",
    "\n",
    "EPOCHS = 20000 \n",
    "\n",
    "\n",
    "history = model.fit(train_values, train_labels, batch_size=train_values.shape[0], \n",
    "                    epochs=EPOCHS, verbose = False, shuffle=False, validation_split=0.1, callbacks=[PrintEpNum()])\n",
    "\n",
    "\n",
    "plt.figure()\n",
    "plt.xlabel('Epoch')\n",
    "plt.ylabel('Mean Abs Error')\n",
    "plt.plot(history.epoch, np.array(history.history['loss']),label='Loss on training set') \n",
    "plt.plot(history.epoch, np.array(history.history['val_loss']),label = 'Validation loss')\n",
    "plt.legend()\n",
    "plt.show()"
   ]
  },
  {
   "cell_type": "code",
   "execution_count": 35,
   "metadata": {},
   "outputs": [
    {
     "data": {
      "text/plain": [
       "'AdAM optimiser is the best optimiser in this case for the prediction purpose and gradient descent converges very slow and perform poor'"
      ]
     },
     "execution_count": 35,
     "metadata": {},
     "output_type": "execute_result"
    }
   ],
   "source": [
    "'''AdAM optimiser is the best optimiser in this case for the prediction purpose and gradient descent converges very slow and perform poor'''"
   ]
  },
  {
   "cell_type": "markdown",
   "metadata": {},
   "source": [
    "## Ques 2: For learning rate 0.01, epochs 20000 and other default setup, run the model for Adam Optimizer for 16 units, 32 units and 64 units in the first layer and compare the loss vs. epochs"
   ]
  },
  {
   "cell_type": "code",
   "execution_count": 19,
   "metadata": {},
   "outputs": [
    {
     "name": "stdout",
     "output_type": "stream",
     "text": [
      "Model: \"sequential_9\"\n",
      "_________________________________________________________________\n",
      "Layer (type)                 Output Shape              Param #   \n",
      "=================================================================\n",
      "dense_24 (Dense)             (None, 16)                272       \n",
      "_________________________________________________________________\n",
      "dense_25 (Dense)             (None, 32)                544       \n",
      "_________________________________________________________________\n",
      "dense_26 (Dense)             (None, 1)                 33        \n",
      "=================================================================\n",
      "Total params: 849\n",
      "Trainable params: 849\n",
      "Non-trainable params: 0\n",
      "_________________________________________________________________\n"
     ]
    }
   ],
   "source": [
    "# For the learning rate of 0.01, epochs = 20000 with Adam optimiser with 16 units\n",
    "kernel_init = initializers.RandomNormal(seed=0)\n",
    "bias_init = initializers.Zeros()\n",
    "\n",
    "model = Sequential()\n",
    "model.add(Dense(16, activation='relu', input_shape=(train_values.shape[1], ), kernel_initializer=kernel_init, bias_initializer=bias_init))\n",
    "model.add(Dense(32, activation='relu', kernel_initializer=kernel_init, bias_initializer=bias_init))\n",
    "#model.add(Dense(128, activation='relu', kernel_initializer=kernel_init, bias_initializer=bias_init))\n",
    "model.add(Dense(1, activation = 'relu',kernel_initializer=kernel_init, bias_initializer=bias_init))\n",
    "\n",
    "optimizer = tf.keras.optimizers.Adam(learning_rate=0.01) # Adam optimiser\n",
    "\n",
    "\n",
    "model.compile(loss='mae', optimizer=optimizer, metrics=['mae'])\n",
    "model.summary()"
   ]
  },
  {
   "cell_type": "code",
   "execution_count": 20,
   "metadata": {},
   "outputs": [
    {
     "name": "stdout",
     "output_type": "stream",
     "text": [
      "Current Epoch: 20000 Training Loss: 0.401309                                       \r"
     ]
    },
    {
     "data": {
      "image/png": "[encoded data removed]",
      "text/plain": [
       "<Figure size 432x288 with 1 Axes>"
      ]
     },
     "metadata": {
      "needs_background": "light"
     },
     "output_type": "display_data"
    }
   ],
   "source": [
    "class PrintEpNum(keras.callbacks.Callback): # This is a function for the Epoch Counter\n",
    "    def on_epoch_end(self, epoch, logs):\n",
    "        sys.stdout.flush()\n",
    "        sys.stdout.write(\"Current Epoch: \" + str(epoch+1) + \" Training Loss: \" + \"%4f\" %logs.get('loss') + '                                       \\r') # Updates current Epoch Number\n",
    "\n",
    "EPOCHS = 20000 \n",
    "\n",
    "\n",
    "history = model.fit(train_values, train_labels, batch_size=train_values.shape[0], \n",
    "                    epochs=EPOCHS, verbose = False, shuffle=False, validation_split=0.1, callbacks=[PrintEpNum()])\n",
    "\n",
    "\n",
    "plt.figure()\n",
    "plt.xlabel('Epoch')\n",
    "plt.ylabel('Mean Abs Error')\n",
    "plt.plot(history.epoch, np.array(history.history['loss']),label='Loss on training set') \n",
    "plt.plot(history.epoch, np.array(history.history['val_loss']),label = 'Validation loss')\n",
    "plt.legend()\n",
    "plt.show()"
   ]
  },
  {
   "cell_type": "markdown",
   "metadata": {},
   "source": [
    "## Question 2: part 2"
   ]
  },
  {
   "cell_type": "code",
   "execution_count": 21,
   "metadata": {},
   "outputs": [
    {
     "name": "stdout",
     "output_type": "stream",
     "text": [
      "Model: \"sequential_10\"\n",
      "_________________________________________________________________\n",
      "Layer (type)                 Output Shape              Param #   \n",
      "=================================================================\n",
      "dense_27 (Dense)             (None, 32)                544       \n",
      "_________________________________________________________________\n",
      "dense_28 (Dense)             (None, 32)                1056      \n",
      "_________________________________________________________________\n",
      "dense_29 (Dense)             (None, 1)                 33        \n",
      "=================================================================\n",
      "Total params: 1,633\n",
      "Trainable params: 1,633\n",
      "Non-trainable params: 0\n",
      "_________________________________________________________________\n"
     ]
    }
   ],
   "source": [
    "# For the learning rate of 0.01, epochs = 20000 with Adam optimiser with 32 units\n",
    "kernel_init = initializers.RandomNormal(seed=0)\n",
    "bias_init = initializers.Zeros()\n",
    "\n",
    "model = Sequential()\n",
    "# model contains 32 neurons in the initial layer and let see the results\n",
    "model.add(Dense(32, activation='relu', input_shape=(train_values.shape[1], ), kernel_initializer=kernel_init, bias_initializer=bias_init))\n",
    "model.add(Dense(32, activation='relu', kernel_initializer=kernel_init, bias_initializer=bias_init))\n",
    "model.add(Dense(1, activation = 'relu',kernel_initializer=kernel_init, bias_initializer=bias_init))\n",
    "\n",
    "optimizer = tf.keras.optimizers.Adam(learning_rate=0.01) # Adam optimiser\n",
    "\n",
    "\n",
    "model.compile(loss='mae', optimizer=optimizer, metrics=['mae'])\n",
    "model.summary()"
   ]
  },
  {
   "cell_type": "code",
   "execution_count": 22,
   "metadata": {},
   "outputs": [
    {
     "name": "stdout",
     "output_type": "stream",
     "text": [
      "Current Epoch: 20000 Training Loss: 1.297547                                       \r"
     ]
    },
    {
     "data": {
      "image/png": "[encoded data removed]",
      "text/plain": [
       "<Figure size 432x288 with 1 Axes>"
      ]
     },
     "metadata": {
      "needs_background": "light"
     },
     "output_type": "display_data"
    }
   ],
   "source": [
    "class PrintEpNum(keras.callbacks.Callback): # This is a function for the Epoch Counter\n",
    "    def on_epoch_end(self, epoch, logs):\n",
    "        sys.stdout.flush()\n",
    "        sys.stdout.write(\"Current Epoch: \" + str(epoch+1) + \" Training Loss: \" + \"%4f\" %logs.get('loss') + '                                       \\r') # Updates current Epoch Number\n",
    "\n",
    "EPOCHS = 20000 \n",
    "\n",
    "\n",
    "history = model.fit(train_values, train_labels, batch_size=train_values.shape[0], \n",
    "                    epochs=EPOCHS, verbose = False, shuffle=False, validation_split=0.1, callbacks=[PrintEpNum()])\n",
    "\n",
    "\n",
    "plt.figure()\n",
    "plt.xlabel('Epoch')\n",
    "plt.ylabel('Mean Abs Error')\n",
    "plt.plot(history.epoch, np.array(history.history['loss']),label='Loss on training set') \n",
    "plt.plot(history.epoch, np.array(history.history['val_loss']),label = 'Validation loss')\n",
    "plt.legend()\n",
    "plt.show()"
   ]
  },
  {
   "cell_type": "markdown",
   "metadata": {},
   "source": [
    "## Question 2: part 3\n"
   ]
  },
  {
   "cell_type": "code",
   "execution_count": 28,
   "metadata": {},
   "outputs": [
    {
     "name": "stdout",
     "output_type": "stream",
     "text": [
      "Model: \"sequential_13\"\n",
      "_________________________________________________________________\n",
      "Layer (type)                 Output Shape              Param #   \n",
      "=================================================================\n",
      "dense_36 (Dense)             (None, 64)                1088      \n",
      "_________________________________________________________________\n",
      "dense_37 (Dense)             (None, 32)                2080      \n",
      "_________________________________________________________________\n",
      "dense_38 (Dense)             (None, 1)                 33        \n",
      "=================================================================\n",
      "Total params: 3,201\n",
      "Trainable params: 3,201\n",
      "Non-trainable params: 0\n",
      "_________________________________________________________________\n"
     ]
    }
   ],
   "source": [
    "# For the learning rate of 0.01, epochs = 20000 with Adam optimiser with 16 units\n",
    "kernel_init = initializers.RandomNormal(seed=0)\n",
    "bias_init = initializers.Zeros()\n",
    "\n",
    "model = Sequential()\n",
    "model.add(Dense(64, activation='relu', input_shape=(train_values.shape[1], ), kernel_initializer=kernel_init, bias_initializer=bias_init))\n",
    "model.add(Dense(32, activation='relu', kernel_initializer=kernel_init, bias_initializer=bias_init))\n",
    "#model.add(Dense(128, activation='relu', kernel_initializer=kernel_init, bias_initializer=bias_init))\n",
    "model.add(Dense(1, activation = 'relu',kernel_initializer=kernel_init, bias_initializer=bias_init))\n",
    "\n",
    "optimizer = tf.keras.optimizers.Adam(learning_rate=0.01) # Adam optimiser\n",
    "\n",
    "\n",
    "model.compile(loss='mae', optimizer=optimizer, metrics=['mae'])\n",
    "model.summary()"
   ]
  },
  {
   "cell_type": "code",
   "execution_count": 29,
   "metadata": {},
   "outputs": [
    {
     "name": "stdout",
     "output_type": "stream",
     "text": [
      "Current Epoch: 20000 Training Loss: 0.583812                                       \r"
     ]
    },
    {
     "data": {
      "image/png": "[encoded data removed]",
      "text/plain": [
       "<Figure size 432x288 with 1 Axes>"
      ]
     },
     "metadata": {
      "needs_background": "light"
     },
     "output_type": "display_data"
    }
   ],
   "source": [
    "class PrintEpNum(keras.callbacks.Callback): # This is a function for the Epoch Counter\n",
    "    def on_epoch_end(self, epoch, logs):\n",
    "        sys.stdout.flush()\n",
    "        sys.stdout.write(\"Current Epoch: \" + str(epoch+1) + \" Training Loss: \" + \"%4f\" %logs.get('loss') + '                                       \\r') # Updates current Epoch Number\n",
    "\n",
    "EPOCHS = 20000 \n",
    "\n",
    "\n",
    "history = model.fit(train_values, train_labels, batch_size=train_values.shape[0], \n",
    "                    epochs=EPOCHS, verbose = False, shuffle=False, validation_split=0.1, callbacks=[PrintEpNum()])\n",
    "\n",
    "\n",
    "plt.figure()\n",
    "plt.xlabel('Epoch')\n",
    "plt.ylabel('Mean Abs Error')\n",
    "plt.plot(history.epoch, np.array(history.history['loss']),label='Loss on training set') \n",
    "plt.plot(history.epoch, np.array(history.history['val_loss']),label = 'Validation loss')\n",
    "plt.legend()\n",
    "plt.show()"
   ]
  },
  {
   "cell_type": "code",
   "execution_count": 36,
   "metadata": {},
   "outputs": [
    {
     "data": {
      "text/plain": [
       "'Increasing the number of units in first layer will lead to overfitting of the model where 16 units are the optimum units followed by 64 and finally 32 least optimum'"
      ]
     },
     "execution_count": 36,
     "metadata": {},
     "output_type": "execute_result"
    }
   ],
   "source": [
    "'''Increasing the number of units in first layer will lead to overfitting of the model where 16 units are the optimum units followed by 64 and finally 32 least optimum'''"
   ]
  },
  {
   "cell_type": "markdown",
   "metadata": {},
   "source": [
    "## Ques 3: For learning rate 0.01, epochs 20000 and other default setup, run the model for Adam Optimizer for ReLU, tanh and softmax activation functions in the hidden layer and compare the loss vs. epochs."
   ]
  },
  {
   "cell_type": "code",
   "execution_count": 19,
   "metadata": {},
   "outputs": [
    {
     "name": "stdout",
     "output_type": "stream",
     "text": [
      "Model: \"sequential_9\"\n",
      "_________________________________________________________________\n",
      "Layer (type)                 Output Shape              Param #   \n",
      "=================================================================\n",
      "dense_24 (Dense)             (None, 16)                272       \n",
      "_________________________________________________________________\n",
      "dense_25 (Dense)             (None, 32)                544       \n",
      "_________________________________________________________________\n",
      "dense_26 (Dense)             (None, 1)                 33        \n",
      "=================================================================\n",
      "Total params: 849\n",
      "Trainable params: 849\n",
      "Non-trainable params: 0\n",
      "_________________________________________________________________\n"
     ]
    }
   ],
   "source": [
    "# For the learning rate of 0.01, epochs = 20000 with Adam optimiser with RelU activation function\n",
    "kernel_init = initializers.RandomNormal(seed=0)\n",
    "bias_init = initializers.Zeros()\n",
    "\n",
    "model = Sequential()\n",
    "model.add(Dense(16, activation='relu', input_shape=(train_values.shape[1], ), kernel_initializer=kernel_init, bias_initializer=bias_init))\n",
    "model.add(Dense(32, activation='relu', kernel_initializer=kernel_init, bias_initializer=bias_init))\n",
    "#model.add(Dense(128, activation='relu', kernel_initializer=kernel_init, bias_initializer=bias_init))\n",
    "model.add(Dense(1, activation = 'relu',kernel_initializer=kernel_init, bias_initializer=bias_init))\n",
    "\n",
    "optimizer = tf.keras.optimizers.Adam(learning_rate=0.01) # Adam optimiser\n",
    "\n",
    "\n",
    "model.compile(loss='mae', optimizer=optimizer, metrics=['mae'])\n",
    "model.summary()"
   ]
  },
  {
   "cell_type": "code",
   "execution_count": 20,
   "metadata": {},
   "outputs": [
    {
     "name": "stdout",
     "output_type": "stream",
     "text": [
      "Current Epoch: 20000 Training Loss: 0.401309                                       \r"
     ]
    },
    {
     "data": {
      "image/png": "[encoded data removed]",
      "text/plain": [
       "<Figure size 432x288 with 1 Axes>"
      ]
     },
     "metadata": {
      "needs_background": "light"
     },
     "output_type": "display_data"
    }
   ],
   "source": [
    "class PrintEpNum(keras.callbacks.Callback): # This is a function for the Epoch Counter\n",
    "    def on_epoch_end(self, epoch, logs):\n",
    "        sys.stdout.flush()\n",
    "        sys.stdout.write(\"Current Epoch: \" + str(epoch+1) + \" Training Loss: \" + \"%4f\" %logs.get('loss') + '                                       \\r') # Updates current Epoch Number\n",
    "\n",
    "EPOCHS = 20000 \n",
    "\n",
    "\n",
    "history = model.fit(train_values, train_labels, batch_size=train_values.shape[0], \n",
    "                    epochs=EPOCHS, verbose = False, shuffle=False, validation_split=0.1, callbacks=[PrintEpNum()])\n",
    "\n",
    "\n",
    "plt.figure()\n",
    "plt.xlabel('Epoch')\n",
    "plt.ylabel('Mean Abs Error')\n",
    "plt.plot(history.epoch, np.array(history.history['loss']),label='Loss on training set') \n",
    "plt.plot(history.epoch, np.array(history.history['val_loss']),label = 'Validation loss')\n",
    "plt.legend()\n",
    "plt.show()"
   ]
  },
  {
   "cell_type": "markdown",
   "metadata": {},
   "source": [
    "## Question 3: part 2"
   ]
  },
  {
   "cell_type": "code",
   "execution_count": 30,
   "metadata": {},
   "outputs": [
    {
     "name": "stdout",
     "output_type": "stream",
     "text": [
      "Model: \"sequential_14\"\n",
      "_________________________________________________________________\n",
      "Layer (type)                 Output Shape              Param #   \n",
      "=================================================================\n",
      "dense_39 (Dense)             (None, 16)                272       \n",
      "_________________________________________________________________\n",
      "dense_40 (Dense)             (None, 32)                544       \n",
      "_________________________________________________________________\n",
      "dense_41 (Dense)             (None, 1)                 33        \n",
      "=================================================================\n",
      "Total params: 849\n",
      "Trainable params: 849\n",
      "Non-trainable params: 0\n",
      "_________________________________________________________________\n"
     ]
    }
   ],
   "source": [
    "# For the learning rate of 0.01, epochs = 20000 with Adam optimiser with tanh activation function.\n",
    "kernel_init = initializers.RandomNormal(seed=0)\n",
    "bias_init = initializers.Zeros()\n",
    "\n",
    "model = Sequential()\n",
    "model.add(Dense(16, activation='tanh', input_shape=(train_values.shape[1], ), kernel_initializer=kernel_init, bias_initializer=bias_init))\n",
    "model.add(Dense(32, activation='tanh', kernel_initializer=kernel_init, bias_initializer=bias_init))\n",
    "#model.add(Dense(128, activation='relu', kernel_initializer=kernel_init, bias_initializer=bias_init))\n",
    "model.add(Dense(1,kernel_initializer=kernel_init, bias_initializer=bias_init))\n",
    "\n",
    "optimizer = tf.keras.optimizers.Adam(learning_rate=0.01) # Adam optimiser\n",
    "\n",
    "\n",
    "model.compile(loss='mae', optimizer=optimizer, metrics=['mae'])\n",
    "model.summary()"
   ]
  },
  {
   "cell_type": "code",
   "execution_count": 31,
   "metadata": {},
   "outputs": [
    {
     "name": "stdout",
     "output_type": "stream",
     "text": [
      "Current Epoch: 20000 Training Loss: 0.126765                                       \r"
     ]
    },
    {
     "data": {
      "image/png": "[encoded data removed]",
      "text/plain": [
       "<Figure size 432x288 with 1 Axes>"
      ]
     },
     "metadata": {
      "needs_background": "light"
     },
     "output_type": "display_data"
    }
   ],
   "source": [
    "class PrintEpNum(keras.callbacks.Callback): # This is a function for the Epoch Counter\n",
    "    def on_epoch_end(self, epoch, logs):\n",
    "        sys.stdout.flush()\n",
    "        sys.stdout.write(\"Current Epoch: \" + str(epoch+1) + \" Training Loss: \" + \"%4f\" %logs.get('loss') + '                                       \\r') # Updates current Epoch Number\n",
    "\n",
    "EPOCHS = 20000 \n",
    "\n",
    "\n",
    "history = model.fit(train_values, train_labels, batch_size=train_values.shape[0], \n",
    "                    epochs=EPOCHS, verbose = False, shuffle=False, validation_split=0.1, callbacks=[PrintEpNum()])\n",
    "\n",
    "\n",
    "plt.figure()\n",
    "plt.xlabel('Epoch')\n",
    "plt.ylabel('Mean Abs Error')\n",
    "plt.plot(history.epoch, np.array(history.history['loss']),label='Loss on training set') \n",
    "plt.plot(history.epoch, np.array(history.history['val_loss']),label = 'Validation loss')\n",
    "plt.legend()\n",
    "plt.show()"
   ]
  },
  {
   "cell_type": "markdown",
   "metadata": {},
   "source": [
    "## Question 3: part 3"
   ]
  },
  {
   "cell_type": "code",
   "execution_count": 32,
   "metadata": {},
   "outputs": [
    {
     "name": "stdout",
     "output_type": "stream",
     "text": [
      "Model: \"sequential_15\"\n",
      "_________________________________________________________________\n",
      "Layer (type)                 Output Shape              Param #   \n",
      "=================================================================\n",
      "dense_42 (Dense)             (None, 16)                272       \n",
      "_________________________________________________________________\n",
      "dense_43 (Dense)             (None, 32)                544       \n",
      "_________________________________________________________________\n",
      "dense_44 (Dense)             (None, 1)                 33        \n",
      "=================================================================\n",
      "Total params: 849\n",
      "Trainable params: 849\n",
      "Non-trainable params: 0\n",
      "_________________________________________________________________\n"
     ]
    }
   ],
   "source": [
    "# For the learning rate of 0.01, epochs = 20000 with Adam optimiser with softmax activation function.\n",
    "kernel_init = initializers.RandomNormal(seed=0)\n",
    "bias_init = initializers.Zeros()\n",
    "\n",
    "model = Sequential()\n",
    "model.add(Dense(16, activation='softmax', input_shape=(train_values.shape[1], ), kernel_initializer=kernel_init, bias_initializer=bias_init))\n",
    "model.add(Dense(32, activation='softmax', kernel_initializer=kernel_init, bias_initializer=bias_init))\n",
    "#model.add(Dense(128, activation='relu', kernel_initializer=kernel_init, bias_initializer=bias_init))\n",
    "model.add(Dense(1,kernel_initializer=kernel_init, bias_initializer=bias_init))\n",
    "\n",
    "optimizer = tf.keras.optimizers.Adam(learning_rate=0.01) # Adam optimiser\n",
    "\n",
    "\n",
    "model.compile(loss='mae', optimizer=optimizer, metrics=['mae'])\n",
    "model.summary()"
   ]
  },
  {
   "cell_type": "code",
   "execution_count": 33,
   "metadata": {},
   "outputs": [
    {
     "name": "stdout",
     "output_type": "stream",
     "text": [
      "Current Epoch: 20000 Training Loss: 39.004131                                       \r"
     ]
    },
    {
     "data": {
      "image/png": "[encoded data removed]",
      "text/plain": [
       "<Figure size 432x288 with 1 Axes>"
      ]
     },
     "metadata": {
      "needs_background": "light"
     },
     "output_type": "display_data"
    }
   ],
   "source": [
    "class PrintEpNum(keras.callbacks.Callback): # This is a function for the Epoch Counter\n",
    "    def on_epoch_end(self, epoch, logs):\n",
    "        sys.stdout.flush()\n",
    "        sys.stdout.write(\"Current Epoch: \" + str(epoch+1) + \" Training Loss: \" + \"%4f\" %logs.get('loss') + '                                       \\r') # Updates current Epoch Number\n",
    "\n",
    "EPOCHS = 20000 \n",
    "\n",
    "\n",
    "history = model.fit(train_values, train_labels, batch_size=train_values.shape[0], \n",
    "                    epochs=EPOCHS, verbose = False, shuffle=False, validation_split=0.1, callbacks=[PrintEpNum()])\n",
    "\n",
    "\n",
    "plt.figure()\n",
    "plt.xlabel('Epoch')\n",
    "plt.ylabel('Mean Abs Error')\n",
    "plt.plot(history.epoch, np.array(history.history['loss']),label='Loss on training set') \n",
    "plt.plot(history.epoch, np.array(history.history['val_loss']),label = 'Validation loss')\n",
    "plt.legend()\n",
    "plt.show()"
   ]
  },
  {
   "cell_type": "code",
   "execution_count": 37,
   "metadata": {},
   "outputs": [
    {
     "data": {
      "text/plain": [
       "'ReLu activation function works best for the optimization problem, we see that errors are set to increase in tanh function whereas we see a large variation in training and validation in softmax function\\nbest is relu worst is softmax'"
      ]
     },
     "execution_count": 37,
     "metadata": {},
     "output_type": "execute_result"
    }
   ],
   "source": [
    "'''ReLu activation function works best for the optimization problem, we see that errors are set to increase in tanh function whereas we see a large variation in training and validation in softmax function\n",
    "best is relu worst is softmax'''"
   ]
  },
  {
   "cell_type": "markdown",
   "metadata": {},
   "source": [
    "#### SAVING A MODEL\n",
    "\n",
    "Compiled and trained models in Keras can be saved and distributed in .h5 files using the `model.save()` method. Running the cell below will save the current model we trained, both weights and architecture to your home directory."
   ]
  },
  {
   "cell_type": "code",
   "execution_count": 14,
   "metadata": {},
   "outputs": [],
   "source": [
    "model.save(os.path.expanduser('~/model.h5'))"
   ]
  },
  {
   "cell_type": "code",
   "execution_count": null,
   "metadata": {},
   "outputs": [],
   "source": []
  }
 ],
 "metadata": {
  "kernelspec": {
   "display_name": "Python 3",
   "language": "python",
   "name": "python3"
  },
  "language_info": {
   "codemirror_mode": {
    "name": "ipython",
    "version": 3
   },
   "file_extension": ".py",
   "mimetype": "text/x-python",
   "name": "python",
   "nbconvert_exporter": "python",
   "pygments_lexer": "ipython3",
   "version": "3.8.3"
  }
 },
 "nbformat": 4,
 "nbformat_minor": 2
}
