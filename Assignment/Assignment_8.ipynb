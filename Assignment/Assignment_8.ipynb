{
 "cells": [
  {
   "cell_type": "markdown",
   "metadata": {},
   "source": [
    "**Q 1.** Using the Jupyter Notebook of Tutorial 18, develop a linear model between ”Atomic Mass” and ”Youngs\n",
    "Modulus”\n",
    "\n",
    "**Q 2.** Using the Jupyter Notebook of Tutorial 18 develop a linear model between ”CTE” and ”Youngs Modulus”\n",
    "\n",
    "**Q 3.** Find how to develop a multilinear regression model and apply such that ”Atomic Mass”, ”CTE”, ”Melting\n",
    "Temperature”, ”Lattice Constant” and ”Specific Heat” are the ’X’ vectors and ”Youngs Modulus” is the\n",
    "Y vector. For this problem, show training, test prediction, and combined prediction separately.\n",
    "\n",
    "Your Jupyter Notebook must show various decorated plots as appropriate for clearly understanding the\n",
    "problem setup, methodology and model outcome.\n"
   ]
  },
  {
   "cell_type": "code",
   "execution_count": 95,
   "metadata": {},
   "outputs": [],
   "source": [
    "import numpy as np\n",
    "import pymatgen.core as pymat # note that import pymatgen will work but will not find any classes.\n",
    "import mendeleev as mendel\n",
    "from sklearn import datasets, linear_model\n",
    "from sklearn.metrics import mean_squared_error, r2_score\n",
    "from random import shuffle\n",
    "import matplotlib.pyplot as plt"
   ]
  },
  {
   "cell_type": "code",
   "execution_count": 96,
   "metadata": {},
   "outputs": [],
   "source": [
    "fcc_elements = [\"Ag\", \"Al\", \"Au\", \"Cu\", \"Ir\", \"Ni\", \"Pb\", \"Pd\", \"Pt\", \"Rh\", \"Th\", \"Yb\"]\n",
    "bcc_elements = [\"Ba\", \"Cr\", \"Eu\", \"Fe\", \"Li\", \"Mn\", \"Mo\", \"Na\", \"Nb\", \"Ta\", \"V\", \"W\" ]\n",
    "hcp_elements = [\"Be\", \"Ca\", \"Cd\", \"Co\", \"Dy\", \"Er\", \"Gd\", \"Hf\", \"Ho\", \"Lu\", \"Mg\", \"Re\", \n",
    "                \"Ru\", \"Sc\", \"Tb\", \"Ti\", \"Tl\", \"Tm\", \"Y\", \"Zn\", \"Zr\"]\n",
    "others = [\"Sb\", \"Sm\", \"Bi\", \"Ce\", \"Sn\", \"Si\"]\n",
    "# Others (Solids): \"Sb\", \"Sm\", Bi\" and \"As\" are Rhombohedral; \"C\" , \"Ce\" and \"Sn\" are Allotropic; \n",
    "# \"Si\" and \"Ge\" are Face-centered diamond-cubic;\n",
    "\n",
    "elements = fcc_elements + bcc_elements + hcp_elements + others\n",
    "\n",
    "shuffle(elements) \n",
    "\n",
    "data_atomic_mass = []  #1\n",
    "data_youngs_modulus = [] #2\n",
    "data_CTE = [] #3\n",
    "\n",
    "data_lattice_constant = [] #4\n",
    "data_melting_point = []  #5\n",
    "data_specific_heat = [] #6\n",
    "\n",
    "\n",
    "for item in elements:\n",
    "    \n",
    "    data_youngs_modulus.append(pymat.Element(item).youngs_modulus)\n",
    "    data_lattice_constant.append(mendel.element(item).lattice_constant)\n",
    "    data_melting_point.append(mendel.element(item).melting_point)\n",
    "    data_specific_heat.append(mendel.element(item).specific_heat)\n",
    "    data_atomic_mass.append(pymat.Element(item).atomic_mass)\n",
    "    data_CTE.append(pymat.Element(item).coefficient_of_linear_thermal_expansion)"
   ]
  },
  {
   "cell_type": "markdown",
   "metadata": {},
   "source": [
    "## For the linear regression between the young's modulus and atomic mass"
   ]
  },
  {
   "cell_type": "code",
   "execution_count": 94,
   "metadata": {},
   "outputs": [
    {
     "name": "stdout",
     "output_type": "stream",
     "text": [
      "Youngs Modulus\n",
      "[69.0, 279.0, 79.0, 68.0, 8.0, 78.0, 528.0, 65.0, 24.0, 4.9, 34.0, 55.0, 74.0, 45.0, 168.0, 130.0, 186.0, 105.0, 18.0, 50.0, 55.0, 83.0, 50.0, 47.0, 329.0, 121.0, 287.0, 32.0, 50.0, 200.0, 463.0, 70.0, 56.0, 70.0, 13.0, 64.0, 209.0, 198.0, 74.0, 10.0, 211.0, 16.0, 447.0, 411.0, 108.0, 116.0, 61.0, 275.0, 20.0, 128.0, 78.0]\n",
      "\n",
      "\n",
      "Atomic Mass\n",
      "[174.967, 51.9961, 232.03806, 91.224, 204.3833, 178.49, 192.217, 164.93032, 173.04, 6.941, 140.116, 157.25, 44.955912, 24.305, 195.084, 63.546, 180.94788, 92.90638, 151.964, 150.36, 121.76, 107.8682, 112.411, 28.0855, 95.94, 106.42, 9.012182, 208.9804, 118.71, 58.6934, 186.207, 167.259, 158.92535, 26.9815386, 137.327, 88.90585, 58.933195, 54.938045, 168.93421, 22.98976928, 55.845, 207.2, 101.07, 183.84, 65.409, 47.867, 162.5, 102.9055, 40.078, 50.9415, 196.966569]\n"
     ]
    }
   ],
   "source": [
    "\n",
    "print('Youngs Modulus')\n",
    "print(data_youngs_modulus)\n",
    "print('\\n')\n",
    "\n",
    "print('Atomic Mass')\n",
    "print(data_atomic_mass)"
   ]
  },
  {
   "cell_type": "code",
   "execution_count": 52,
   "metadata": {},
   "outputs": [],
   "source": [
    "# We will divide the test and train data for x = atomic mass and y = Young's modulus\n",
    "young_train = data_youngs_modulus[:45]    #dividing the data based on 90%train size\n",
    "young_test = data_youngs_modulus[-6:]     #and 10% test size\n",
    "# y = young's modulus\n",
    "young_train = np.array(young_train).reshape(-1,1)\n",
    "young_test = np.array(young_test).reshape(-1,1)  #creating array columnwise\n",
    "\n",
    "\n",
    "mass_train = data_atomic_mass[:45]\n",
    "mass_test = data_atomic_mass[-6:]\n",
    "# x = atomic mass\n",
    "\n",
    "mass_train = np.array(mass_train).reshape(-1,1)\n",
    "mass_test = np.array(mass_test).reshape(-1,1)"
   ]
  },
  {
   "cell_type": "code",
   "execution_count": 83,
   "metadata": {},
   "outputs": [],
   "source": [
    "def regression(x_train, x_test, y_train, y_test):\n",
    "    \n",
    "    # Define the model and train it\n",
    "    model = linear_model.LinearRegression()\n",
    "    # fit (or train !) the model using the training data.\n",
    "    model.fit(x_train, y_train)\n",
    "    \n",
    "    #Join train + test data \n",
    "    full_x = np.concatenate((x_train, x_test), axis=0)\n",
    "    full_y = np.concatenate((y_train, y_test), axis=0)\n",
    "    \n",
    "    # Use the model to predict the entire set of data\n",
    "    predictions = model.predict(full_x) # Make it for all values\n",
    "    \n",
    "    # Print model and mean squared error and variance score\n",
    "    print(\"Linear Equation: %.4e X + (%.4e)\"%(model.coef_, model.intercept_))\n",
    "    print(\"Mean squared error: %.4e\" % (mean_squared_error(full_y, predictions)))\n",
    "    print('Variance score: %.4f' % r2_score(full_y, predictions))    \n",
    "    \n",
    "    return predictions"
   ]
  },
  {
   "cell_type": "code",
   "execution_count": 84,
   "metadata": {},
   "outputs": [
    {
     "data": {
      "text/html": [
       "        <script type=\"text/javascript\">\n",
       "        window.PlotlyConfig = {MathJaxConfig: 'local'};\n",
       "        if (window.MathJax) {MathJax.Hub.Config({SVG: {font: \"STIX-Web\"}});}\n",
       "        if (typeof require !== 'undefined') {\n",
       "        require.undef(\"plotly\");\n",
       "        requirejs.config({\n",
       "            paths: {\n",
       "                'plotly': ['https://cdn.plot.ly/plotly-latest.min']\n",
       "            }\n",
       "        });\n",
       "        require(['plotly'], function(Plotly) {\n",
       "            window._Plotly = Plotly;\n",
       "        });\n",
       "        }\n",
       "        </script>\n",
       "        "
      ]
     },
     "metadata": {},
     "output_type": "display_data"
    }
   ],
   "source": [
    "import plotly \n",
    "import plotly.graph_objs as go \n",
    "from plotly.offline import iplot \n",
    "\n",
    "plotly.offline.init_notebook_mode(connected=True)\n",
    "\n",
    "def plot(x_train, x_test, y_train, y_test, x_label, y_label, predictions):\n",
    "    \n",
    "    \n",
    "    x_train = x_train.reshape(1,-1).tolist()[0]\n",
    "    x_test = x_test.reshape(1,-1).tolist()[0]\n",
    "    y_train = y_train.reshape(1,-1).tolist()[0]\n",
    "    y_test = y_test.reshape(1,-1).tolist()[0]    \n",
    "    predictions = predictions.reshape(1,-1).tolist()[0]\n",
    "    full_x_list = x_train + x_test\n",
    "\n",
    "    \n",
    "    layout0= go.Layout(hovermode= 'closest', width = 800, height=600, showlegend=True, \n",
    "    xaxis= dict(title=go.layout.xaxis.Title(text=x_label, font=dict(size=24)), zeroline= False, gridwidth= 1, tickfont=dict(size=18)), \n",
    "    yaxis= dict(title=go.layout.yaxis.Title(text=y_label, font=dict(size=24)), zeroline= False, gridwidth= 1, tickfont=dict(size=18)), \n",
    "    legend=dict(font=dict(size=24))) # Adding a legend\n",
    "    \n",
    "\n",
    "    training = go.Scatter(x = x_train, y = y_train, mode = 'markers', \n",
    "                          marker= dict(size= 10, color= 'green'), name= \"Training Data\") \n",
    "    \n",
    "    actual = go.Scatter(x = x_test, y = y_test, mode = 'markers', \n",
    "                        marker= dict(size= 10, color= 'red'), name= \"Testing Data\") \n",
    "\n",
    "    prediction = go.Scatter(x = full_x_list, y = predictions, mode = 'lines', \n",
    "                            line = dict(color = \"blue\", width = 1.5),name= \"Model\") \n",
    "    \n",
    "\n",
    "    data = [training, actual, prediction]\n",
    "    fig= go.Figure(data, layout=layout0)\n",
    "    iplot(fig)"
   ]
  },
  {
   "cell_type": "code",
   "execution_count": 85,
   "metadata": {},
   "outputs": [],
   "source": [
    "# We will divide the test and train data for x = atomic mass and y = Young's modulus\n",
    "young_train = data_youngs_modulus[:45]    #dividing the data based on 90%train size\n",
    "young_test = data_youngs_modulus[-6:]     #and 10% test size\n",
    "# y = young's modulus\n",
    "young_train = np.array(young_train).reshape(-1,1)\n",
    "young_test = np.array(young_test).reshape(-1,1)  #creating array columnwise\n",
    "\n",
    "\n",
    "mass_train = data_atomic_mass[:45]\n",
    "mass_test = data_atomic_mass[-6:]\n",
    "# x = atomic mass\n",
    "\n",
    "mass_train = np.array(mass_train).reshape(-1,1)\n",
    "mass_test = np.array(mass_test).reshape(-1,1)"
   ]
  },
  {
   "cell_type": "code",
   "execution_count": 86,
   "metadata": {},
   "outputs": [
    {
     "name": "stdout",
     "output_type": "stream",
     "text": [
      "Linear Equation: 8.1959e-02 X + (1.1557e+02)\n",
      "Mean squared error: 1.5787e+04\n",
      "Variance score: -0.0007\n"
     ]
    },
    {
     "data": {
      "application/vnd.plotly.v1+json": {
       "config": {
        "linkText": "Export to plot.ly",
        "plotlyServerURL": "https://plot.ly",
        "showLink": false
       },
       "data": [
        {
         "marker": {
          "color": "green",
          "size": 10
         },
         "mode": "markers",
         "name": "Training Data",
         "type": "scatter",
         "x": [
          157.25,
          183.84,
          207.2,
          24.305,
          232.03806,
          140.116,
          167.259,
          174.967,
          204.3833,
          137.327,
          55.845,
          208.9804,
          106.42,
          54.938045,
          51.9961,
          180.94788,
          168.93421,
          150.36,
          65.409,
          28.0855,
          121.76,
          162.5,
          164.93032,
          88.90585,
          63.546,
          151.964,
          195.084,
          186.207,
          47.867,
          26.9815386,
          92.90638,
          112.411,
          22.98976928,
          101.07,
          107.8682,
          91.224,
          40.078,
          173.04,
          58.6934,
          58.933195,
          196.966569,
          118.71,
          192.217,
          50.9415,
          95.94
         ],
         "y": [
          55,
          411,
          16,
          45,
          79,
          34,
          70,
          69,
          8,
          13,
          211,
          32,
          121,
          198,
          279,
          186,
          74,
          50,
          108,
          47,
          55,
          61,
          65,
          64,
          130,
          18,
          168,
          463,
          116,
          70,
          105,
          50,
          10,
          447,
          83,
          68,
          20,
          24,
          200,
          209,
          78,
          50,
          528,
          128,
          329
         ]
        },
        {
         "marker": {
          "color": "red",
          "size": 10
         },
         "mode": "markers",
         "name": "Testing Data",
         "type": "scatter",
         "x": [
          102.9055,
          9.012182,
          44.955912,
          178.49,
          6.941,
          158.92535
         ],
         "y": [
          275,
          287,
          74,
          78,
          4.9,
          56
         ]
        },
        {
         "line": {
          "color": "blue",
          "width": 1.5
         },
         "mode": "lines",
         "name": "Model",
         "type": "scatter",
         "x": [
          157.25,
          183.84,
          207.2,
          24.305,
          232.03806,
          140.116,
          167.259,
          174.967,
          204.3833,
          137.327,
          55.845,
          208.9804,
          106.42,
          54.938045,
          51.9961,
          180.94788,
          168.93421,
          150.36,
          65.409,
          28.0855,
          121.76,
          162.5,
          164.93032,
          88.90585,
          63.546,
          151.964,
          195.084,
          186.207,
          47.867,
          26.9815386,
          92.90638,
          112.411,
          22.98976928,
          101.07,
          107.8682,
          91.224,
          40.078,
          173.04,
          58.6934,
          58.933195,
          196.966569,
          118.71,
          192.217,
          50.9415,
          95.94,
          102.9055,
          9.012182,
          44.955912,
          178.49,
          6.941,
          158.92535
         ],
         "y": [
          128.45308473374592,
          130.63236828652575,
          132.54692502939662,
          117.55707676367024,
          134.582621743987,
          127.04880325975836,
          129.27341000940493,
          129.90514816754057,
          132.31607177692896,
          126.82022026507228,
          120.14205620160463,
          132.69284441402877,
          124.28712072517887,
          120.06772329018638,
          119.82660511223666,
          130.3953337040261,
          129.41070815158065,
          127.88838884511664,
          120.92590982698206,
          117.86692187353425,
          125.54436817533465,
          128.8833682483038,
          129.0825542732753,
          122.85168262679909,
          120.77322064838754,
          128.01985070365964,
          131.5539126365617,
          130.82636468251783,
          119.488189177006,
          117.77644256093839,
          123.17956112365513,
          124.77813568436292,
          117.44928207859289,
          123.84864133415323,
          124.40581340818511,
          123.04167533713667,
          118.84981235893147,
          129.74721362800668,
          120.37550754691256,
          120.39516084888845,
          131.70820566622223,
          125.2943939430677,
          131.31893685823076,
          119.74017139900756,
          123.42819287135667,
          123.99907664671912,
          116.30369629194948,
          119.24960000065795,
          130.1938888955001,
          116.1339447738068,
          128.5903943501487
         ]
        }
       ],
       "layout": {
        "height": 600,
        "hovermode": "closest",
        "legend": {
         "font": {
          "size": 24
         }
        },
        "showlegend": true,
        "template": {
         "data": {
          "bar": [
           {
            "error_x": {
             "color": "#2a3f5f"
            },
            "error_y": {
             "color": "#2a3f5f"
            },
            "marker": {
             "line": {
              "color": "#E5ECF6",
              "width": 0.5
             }
            },
            "type": "bar"
           }
          ],
          "barpolar": [
           {
            "marker": {
             "line": {
              "color": "#E5ECF6",
              "width": 0.5
             }
            },
            "type": "barpolar"
           }
          ],
          "carpet": [
           {
            "aaxis": {
             "endlinecolor": "#2a3f5f",
             "gridcolor": "white",
             "linecolor": "white",
             "minorgridcolor": "white",
             "startlinecolor": "#2a3f5f"
            },
            "baxis": {
             "endlinecolor": "#2a3f5f",
             "gridcolor": "white",
             "linecolor": "white",
             "minorgridcolor": "white",
             "startlinecolor": "#2a3f5f"
            },
            "type": "carpet"
           }
          ],
          "choropleth": [
           {
            "colorbar": {
             "outlinewidth": 0,
             "ticks": ""
            },
            "type": "choropleth"
           }
          ],
          "contour": [
           {
            "colorbar": {
             "outlinewidth": 0,
             "ticks": ""
            },
            "colorscale": [
             [
              0,
              "#0d0887"
             ],
             [
              0.1111111111111111,
              "#46039f"
             ],
             [
              0.2222222222222222,
              "#7201a8"
             ],
             [
              0.3333333333333333,
              "#9c179e"
             ],
             [
              0.4444444444444444,
              "#bd3786"
             ],
             [
              0.5555555555555556,
              "#d8576b"
             ],
             [
              0.6666666666666666,
              "#ed7953"
             ],
             [
              0.7777777777777778,
              "#fb9f3a"
             ],
             [
              0.8888888888888888,
              "#fdca26"
             ],
             [
              1,
              "#f0f921"
             ]
            ],
            "type": "contour"
           }
          ],
          "contourcarpet": [
           {
            "colorbar": {
             "outlinewidth": 0,
             "ticks": ""
            },
            "type": "contourcarpet"
           }
          ],
          "heatmap": [
           {
            "colorbar": {
             "outlinewidth": 0,
             "ticks": ""
            },
            "colorscale": [
             [
              0,
              "#0d0887"
             ],
             [
              0.1111111111111111,
              "#46039f"
             ],
             [
              0.2222222222222222,
              "#7201a8"
             ],
             [
              0.3333333333333333,
              "#9c179e"
             ],
             [
              0.4444444444444444,
              "#bd3786"
             ],
             [
              0.5555555555555556,
              "#d8576b"
             ],
             [
              0.6666666666666666,
              "#ed7953"
             ],
             [
              0.7777777777777778,
              "#fb9f3a"
             ],
             [
              0.8888888888888888,
              "#fdca26"
             ],
             [
              1,
              "#f0f921"
             ]
            ],
            "type": "heatmap"
           }
          ],
          "heatmapgl": [
           {
            "colorbar": {
             "outlinewidth": 0,
             "ticks": ""
            },
            "colorscale": [
             [
              0,
              "#0d0887"
             ],
             [
              0.1111111111111111,
              "#46039f"
             ],
             [
              0.2222222222222222,
              "#7201a8"
             ],
             [
              0.3333333333333333,
              "#9c179e"
             ],
             [
              0.4444444444444444,
              "#bd3786"
             ],
             [
              0.5555555555555556,
              "#d8576b"
             ],
             [
              0.6666666666666666,
              "#ed7953"
             ],
             [
              0.7777777777777778,
              "#fb9f3a"
             ],
             [
              0.8888888888888888,
              "#fdca26"
             ],
             [
              1,
              "#f0f921"
             ]
            ],
            "type": "heatmapgl"
           }
          ],
          "histogram": [
           {
            "marker": {
             "colorbar": {
              "outlinewidth": 0,
              "ticks": ""
             }
            },
            "type": "histogram"
           }
          ],
          "histogram2d": [
           {
            "colorbar": {
             "outlinewidth": 0,
             "ticks": ""
            },
            "colorscale": [
             [
              0,
              "#0d0887"
             ],
             [
              0.1111111111111111,
              "#46039f"
             ],
             [
              0.2222222222222222,
              "#7201a8"
             ],
             [
              0.3333333333333333,
              "#9c179e"
             ],
             [
              0.4444444444444444,
              "#bd3786"
             ],
             [
              0.5555555555555556,
              "#d8576b"
             ],
             [
              0.6666666666666666,
              "#ed7953"
             ],
             [
              0.7777777777777778,
              "#fb9f3a"
             ],
             [
              0.8888888888888888,
              "#fdca26"
             ],
             [
              1,
              "#f0f921"
             ]
            ],
            "type": "histogram2d"
           }
          ],
          "histogram2dcontour": [
           {
            "colorbar": {
             "outlinewidth": 0,
             "ticks": ""
            },
            "colorscale": [
             [
              0,
              "#0d0887"
             ],
             [
              0.1111111111111111,
              "#46039f"
             ],
             [
              0.2222222222222222,
              "#7201a8"
             ],
             [
              0.3333333333333333,
              "#9c179e"
             ],
             [
              0.4444444444444444,
              "#bd3786"
             ],
             [
              0.5555555555555556,
              "#d8576b"
             ],
             [
              0.6666666666666666,
              "#ed7953"
             ],
             [
              0.7777777777777778,
              "#fb9f3a"
             ],
             [
              0.8888888888888888,
              "#fdca26"
             ],
             [
              1,
              "#f0f921"
             ]
            ],
            "type": "histogram2dcontour"
           }
          ],
          "mesh3d": [
           {
            "colorbar": {
             "outlinewidth": 0,
             "ticks": ""
            },
            "type": "mesh3d"
           }
          ],
          "parcoords": [
           {
            "line": {
             "colorbar": {
              "outlinewidth": 0,
              "ticks": ""
             }
            },
            "type": "parcoords"
           }
          ],
          "pie": [
           {
            "automargin": true,
            "type": "pie"
           }
          ],
          "scatter": [
           {
            "marker": {
             "colorbar": {
              "outlinewidth": 0,
              "ticks": ""
             }
            },
            "type": "scatter"
           }
          ],
          "scatter3d": [
           {
            "line": {
             "colorbar": {
              "outlinewidth": 0,
              "ticks": ""
             }
            },
            "marker": {
             "colorbar": {
              "outlinewidth": 0,
              "ticks": ""
             }
            },
            "type": "scatter3d"
           }
          ],
          "scattercarpet": [
           {
            "marker": {
             "colorbar": {
              "outlinewidth": 0,
              "ticks": ""
             }
            },
            "type": "scattercarpet"
           }
          ],
          "scattergeo": [
           {
            "marker": {
             "colorbar": {
              "outlinewidth": 0,
              "ticks": ""
             }
            },
            "type": "scattergeo"
           }
          ],
          "scattergl": [
           {
            "marker": {
             "colorbar": {
              "outlinewidth": 0,
              "ticks": ""
             }
            },
            "type": "scattergl"
           }
          ],
          "scattermapbox": [
           {
            "marker": {
             "colorbar": {
              "outlinewidth": 0,
              "ticks": ""
             }
            },
            "type": "scattermapbox"
           }
          ],
          "scatterpolar": [
           {
            "marker": {
             "colorbar": {
              "outlinewidth": 0,
              "ticks": ""
             }
            },
            "type": "scatterpolar"
           }
          ],
          "scatterpolargl": [
           {
            "marker": {
             "colorbar": {
              "outlinewidth": 0,
              "ticks": ""
             }
            },
            "type": "scatterpolargl"
           }
          ],
          "scatterternary": [
           {
            "marker": {
             "colorbar": {
              "outlinewidth": 0,
              "ticks": ""
             }
            },
            "type": "scatterternary"
           }
          ],
          "surface": [
           {
            "colorbar": {
             "outlinewidth": 0,
             "ticks": ""
            },
            "colorscale": [
             [
              0,
              "#0d0887"
             ],
             [
              0.1111111111111111,
              "#46039f"
             ],
             [
              0.2222222222222222,
              "#7201a8"
             ],
             [
              0.3333333333333333,
              "#9c179e"
             ],
             [
              0.4444444444444444,
              "#bd3786"
             ],
             [
              0.5555555555555556,
              "#d8576b"
             ],
             [
              0.6666666666666666,
              "#ed7953"
             ],
             [
              0.7777777777777778,
              "#fb9f3a"
             ],
             [
              0.8888888888888888,
              "#fdca26"
             ],
             [
              1,
              "#f0f921"
             ]
            ],
            "type": "surface"
           }
          ],
          "table": [
           {
            "cells": {
             "fill": {
              "color": "#EBF0F8"
             },
             "line": {
              "color": "white"
             }
            },
            "header": {
             "fill": {
              "color": "#C8D4E3"
             },
             "line": {
              "color": "white"
             }
            },
            "type": "table"
           }
          ]
         },
         "layout": {
          "annotationdefaults": {
           "arrowcolor": "#2a3f5f",
           "arrowhead": 0,
           "arrowwidth": 1
          },
          "autotypenumbers": "strict",
          "coloraxis": {
           "colorbar": {
            "outlinewidth": 0,
            "ticks": ""
           }
          },
          "colorscale": {
           "diverging": [
            [
             0,
             "#8e0152"
            ],
            [
             0.1,
             "#c51b7d"
            ],
            [
             0.2,
             "#de77ae"
            ],
            [
             0.3,
             "#f1b6da"
            ],
            [
             0.4,
             "#fde0ef"
            ],
            [
             0.5,
             "#f7f7f7"
            ],
            [
             0.6,
             "#e6f5d0"
            ],
            [
             0.7,
             "#b8e186"
            ],
            [
             0.8,
             "#7fbc41"
            ],
            [
             0.9,
             "#4d9221"
            ],
            [
             1,
             "#276419"
            ]
           ],
           "sequential": [
            [
             0,
             "#0d0887"
            ],
            [
             0.1111111111111111,
             "#46039f"
            ],
            [
             0.2222222222222222,
             "#7201a8"
            ],
            [
             0.3333333333333333,
             "#9c179e"
            ],
            [
             0.4444444444444444,
             "#bd3786"
            ],
            [
             0.5555555555555556,
             "#d8576b"
            ],
            [
             0.6666666666666666,
             "#ed7953"
            ],
            [
             0.7777777777777778,
             "#fb9f3a"
            ],
            [
             0.8888888888888888,
             "#fdca26"
            ],
            [
             1,
             "#f0f921"
            ]
           ],
           "sequentialminus": [
            [
             0,
             "#0d0887"
            ],
            [
             0.1111111111111111,
             "#46039f"
            ],
            [
             0.2222222222222222,
             "#7201a8"
            ],
            [
             0.3333333333333333,
             "#9c179e"
            ],
            [
             0.4444444444444444,
             "#bd3786"
            ],
            [
             0.5555555555555556,
             "#d8576b"
            ],
            [
             0.6666666666666666,
             "#ed7953"
            ],
            [
             0.7777777777777778,
             "#fb9f3a"
            ],
            [
             0.8888888888888888,
             "#fdca26"
            ],
            [
             1,
             "#f0f921"
            ]
           ]
          },
          "colorway": [
           "#636efa",
           "#EF553B",
           "#00cc96",
           "#ab63fa",
           "#FFA15A",
           "#19d3f3",
           "#FF6692",
           "#B6E880",
           "#FF97FF",
           "#FECB52"
          ],
          "font": {
           "color": "#2a3f5f"
          },
          "geo": {
           "bgcolor": "white",
           "lakecolor": "white",
           "landcolor": "#E5ECF6",
           "showlakes": true,
           "showland": true,
           "subunitcolor": "white"
          },
          "hoverlabel": {
           "align": "left"
          },
          "hovermode": "closest",
          "mapbox": {
           "style": "light"
          },
          "paper_bgcolor": "white",
          "plot_bgcolor": "#E5ECF6",
          "polar": {
           "angularaxis": {
            "gridcolor": "white",
            "linecolor": "white",
            "ticks": ""
           },
           "bgcolor": "#E5ECF6",
           "radialaxis": {
            "gridcolor": "white",
            "linecolor": "white",
            "ticks": ""
           }
          },
          "scene": {
           "xaxis": {
            "backgroundcolor": "#E5ECF6",
            "gridcolor": "white",
            "gridwidth": 2,
            "linecolor": "white",
            "showbackground": true,
            "ticks": "",
            "zerolinecolor": "white"
           },
           "yaxis": {
            "backgroundcolor": "#E5ECF6",
            "gridcolor": "white",
            "gridwidth": 2,
            "linecolor": "white",
            "showbackground": true,
            "ticks": "",
            "zerolinecolor": "white"
           },
           "zaxis": {
            "backgroundcolor": "#E5ECF6",
            "gridcolor": "white",
            "gridwidth": 2,
            "linecolor": "white",
            "showbackground": true,
            "ticks": "",
            "zerolinecolor": "white"
           }
          },
          "shapedefaults": {
           "line": {
            "color": "#2a3f5f"
           }
          },
          "ternary": {
           "aaxis": {
            "gridcolor": "white",
            "linecolor": "white",
            "ticks": ""
           },
           "baxis": {
            "gridcolor": "white",
            "linecolor": "white",
            "ticks": ""
           },
           "bgcolor": "#E5ECF6",
           "caxis": {
            "gridcolor": "white",
            "linecolor": "white",
            "ticks": ""
           }
          },
          "title": {
           "x": 0.05
          },
          "xaxis": {
           "automargin": true,
           "gridcolor": "white",
           "linecolor": "white",
           "ticks": "",
           "title": {
            "standoff": 15
           },
           "zerolinecolor": "white",
           "zerolinewidth": 2
          },
          "yaxis": {
           "automargin": true,
           "gridcolor": "white",
           "linecolor": "white",
           "ticks": "",
           "title": {
            "standoff": 15
           },
           "zerolinecolor": "white",
           "zerolinewidth": 2
          }
         }
        },
        "width": 800,
        "xaxis": {
         "gridwidth": 1,
         "tickfont": {
          "size": 18
         },
         "title": {
          "font": {
           "size": 24
          },
          "text": "Atomic Mass"
         },
         "zeroline": false
        },
        "yaxis": {
         "gridwidth": 1,
         "tickfont": {
          "size": 18
         },
         "title": {
          "font": {
           "size": 24
          },
          "text": "Young's Modulus (GPa)"
         },
         "zeroline": false
        }
       }
      },
      "text/html": [
       "<div>                            <div id=\"36c24572-03fc-4e34-b666-93d84fd1d1f8\" class=\"plotly-graph-div\" style=\"height:600px; width:800px;\"></div>            <script type=\"text/javascript\">                require([\"plotly\"], function(Plotly) {                    window.PLOTLYENV=window.PLOTLYENV || {};                                    if (document.getElementById(\"36c24572-03fc-4e34-b666-93d84fd1d1f8\")) {                    Plotly.newPlot(                        \"36c24572-03fc-4e34-b666-93d84fd1d1f8\",                        [{\"marker\": {\"color\": \"green\", \"size\": 10}, \"mode\": \"markers\", \"name\": \"Training Data\", \"type\": \"scatter\", \"x\": [157.25, 183.84, 207.2, 24.305, 232.03806, 140.116, 167.259, 174.967, 204.3833, 137.327, 55.845, 208.9804, 106.42, 54.938045, 51.9961, 180.94788, 168.93421, 150.36, 65.409, 28.0855, 121.76, 162.5, 164.93032, 88.90585, 63.546, 151.964, 195.084, 186.207, 47.867, 26.9815386, 92.90638, 112.411, 22.98976928, 101.07, 107.8682, 91.224, 40.078, 173.04, 58.6934, 58.933195, 196.966569, 118.71, 192.217, 50.9415, 95.94], \"y\": [55.0, 411.0, 16.0, 45.0, 79.0, 34.0, 70.0, 69.0, 8.0, 13.0, 211.0, 32.0, 121.0, 198.0, 279.0, 186.0, 74.0, 50.0, 108.0, 47.0, 55.0, 61.0, 65.0, 64.0, 130.0, 18.0, 168.0, 463.0, 116.0, 70.0, 105.0, 50.0, 10.0, 447.0, 83.0, 68.0, 20.0, 24.0, 200.0, 209.0, 78.0, 50.0, 528.0, 128.0, 329.0]}, {\"marker\": {\"color\": \"red\", \"size\": 10}, \"mode\": \"markers\", \"name\": \"Testing Data\", \"type\": \"scatter\", \"x\": [102.9055, 9.012182, 44.955912, 178.49, 6.941, 158.92535], \"y\": [275.0, 287.0, 74.0, 78.0, 4.9, 56.0]}, {\"line\": {\"color\": \"blue\", \"width\": 1.5}, \"mode\": \"lines\", \"name\": \"Model\", \"type\": \"scatter\", \"x\": [157.25, 183.84, 207.2, 24.305, 232.03806, 140.116, 167.259, 174.967, 204.3833, 137.327, 55.845, 208.9804, 106.42, 54.938045, 51.9961, 180.94788, 168.93421, 150.36, 65.409, 28.0855, 121.76, 162.5, 164.93032, 88.90585, 63.546, 151.964, 195.084, 186.207, 47.867, 26.9815386, 92.90638, 112.411, 22.98976928, 101.07, 107.8682, 91.224, 40.078, 173.04, 58.6934, 58.933195, 196.966569, 118.71, 192.217, 50.9415, 95.94, 102.9055, 9.012182, 44.955912, 178.49, 6.941, 158.92535], \"y\": [128.45308473374592, 130.63236828652575, 132.54692502939662, 117.55707676367024, 134.582621743987, 127.04880325975836, 129.27341000940493, 129.90514816754057, 132.31607177692896, 126.82022026507228, 120.14205620160463, 132.69284441402877, 124.28712072517887, 120.06772329018638, 119.82660511223666, 130.3953337040261, 129.41070815158065, 127.88838884511664, 120.92590982698206, 117.86692187353425, 125.54436817533465, 128.8833682483038, 129.0825542732753, 122.85168262679909, 120.77322064838754, 128.01985070365964, 131.5539126365617, 130.82636468251783, 119.488189177006, 117.77644256093839, 123.17956112365513, 124.77813568436292, 117.44928207859289, 123.84864133415323, 124.40581340818511, 123.04167533713667, 118.84981235893147, 129.74721362800668, 120.37550754691256, 120.39516084888845, 131.70820566622223, 125.2943939430677, 131.31893685823076, 119.74017139900756, 123.42819287135667, 123.99907664671912, 116.30369629194948, 119.24960000065795, 130.1938888955001, 116.1339447738068, 128.5903943501487]}],                        {\"height\": 600, \"hovermode\": \"closest\", \"legend\": {\"font\": {\"size\": 24}}, \"showlegend\": true, \"template\": {\"data\": {\"bar\": [{\"error_x\": {\"color\": \"#2a3f5f\"}, \"error_y\": {\"color\": \"#2a3f5f\"}, \"marker\": {\"line\": {\"color\": \"#E5ECF6\", \"width\": 0.5}}, \"type\": \"bar\"}], \"barpolar\": [{\"marker\": {\"line\": {\"color\": \"#E5ECF6\", \"width\": 0.5}}, \"type\": \"barpolar\"}], \"carpet\": [{\"aaxis\": {\"endlinecolor\": \"#2a3f5f\", \"gridcolor\": \"white\", \"linecolor\": \"white\", \"minorgridcolor\": \"white\", \"startlinecolor\": \"#2a3f5f\"}, \"baxis\": {\"endlinecolor\": \"#2a3f5f\", \"gridcolor\": \"white\", \"linecolor\": \"white\", \"minorgridcolor\": \"white\", \"startlinecolor\": \"#2a3f5f\"}, \"type\": \"carpet\"}], \"choropleth\": [{\"colorbar\": {\"outlinewidth\": 0, \"ticks\": \"\"}, \"type\": \"choropleth\"}], \"contour\": [{\"colorbar\": {\"outlinewidth\": 0, \"ticks\": \"\"}, \"colorscale\": [[0.0, \"#0d0887\"], [0.1111111111111111, \"#46039f\"], [0.2222222222222222, \"#7201a8\"], [0.3333333333333333, \"#9c179e\"], [0.4444444444444444, \"#bd3786\"], [0.5555555555555556, \"#d8576b\"], [0.6666666666666666, \"#ed7953\"], [0.7777777777777778, \"#fb9f3a\"], [0.8888888888888888, \"#fdca26\"], [1.0, \"#f0f921\"]], \"type\": \"contour\"}], \"contourcarpet\": [{\"colorbar\": {\"outlinewidth\": 0, \"ticks\": \"\"}, \"type\": \"contourcarpet\"}], \"heatmap\": [{\"colorbar\": {\"outlinewidth\": 0, \"ticks\": \"\"}, \"colorscale\": [[0.0, \"#0d0887\"], [0.1111111111111111, \"#46039f\"], [0.2222222222222222, \"#7201a8\"], [0.3333333333333333, \"#9c179e\"], [0.4444444444444444, \"#bd3786\"], [0.5555555555555556, \"#d8576b\"], [0.6666666666666666, \"#ed7953\"], [0.7777777777777778, \"#fb9f3a\"], [0.8888888888888888, \"#fdca26\"], [1.0, \"#f0f921\"]], \"type\": \"heatmap\"}], \"heatmapgl\": [{\"colorbar\": {\"outlinewidth\": 0, \"ticks\": \"\"}, \"colorscale\": [[0.0, \"#0d0887\"], [0.1111111111111111, \"#46039f\"], [0.2222222222222222, \"#7201a8\"], [0.3333333333333333, \"#9c179e\"], [0.4444444444444444, \"#bd3786\"], [0.5555555555555556, \"#d8576b\"], [0.6666666666666666, \"#ed7953\"], [0.7777777777777778, \"#fb9f3a\"], [0.8888888888888888, \"#fdca26\"], [1.0, \"#f0f921\"]], \"type\": \"heatmapgl\"}], \"histogram\": [{\"marker\": {\"colorbar\": {\"outlinewidth\": 0, \"ticks\": \"\"}}, \"type\": \"histogram\"}], \"histogram2d\": [{\"colorbar\": {\"outlinewidth\": 0, \"ticks\": \"\"}, \"colorscale\": [[0.0, \"#0d0887\"], [0.1111111111111111, \"#46039f\"], [0.2222222222222222, \"#7201a8\"], [0.3333333333333333, \"#9c179e\"], [0.4444444444444444, \"#bd3786\"], [0.5555555555555556, \"#d8576b\"], [0.6666666666666666, \"#ed7953\"], [0.7777777777777778, \"#fb9f3a\"], [0.8888888888888888, \"#fdca26\"], [1.0, \"#f0f921\"]], \"type\": \"histogram2d\"}], \"histogram2dcontour\": [{\"colorbar\": {\"outlinewidth\": 0, \"ticks\": \"\"}, \"colorscale\": [[0.0, \"#0d0887\"], [0.1111111111111111, \"#46039f\"], [0.2222222222222222, \"#7201a8\"], [0.3333333333333333, \"#9c179e\"], [0.4444444444444444, \"#bd3786\"], [0.5555555555555556, \"#d8576b\"], [0.6666666666666666, \"#ed7953\"], [0.7777777777777778, \"#fb9f3a\"], [0.8888888888888888, \"#fdca26\"], [1.0, \"#f0f921\"]], \"type\": \"histogram2dcontour\"}], \"mesh3d\": [{\"colorbar\": {\"outlinewidth\": 0, \"ticks\": \"\"}, \"type\": \"mesh3d\"}], \"parcoords\": [{\"line\": {\"colorbar\": {\"outlinewidth\": 0, \"ticks\": \"\"}}, \"type\": \"parcoords\"}], \"pie\": [{\"automargin\": true, \"type\": \"pie\"}], \"scatter\": [{\"marker\": {\"colorbar\": {\"outlinewidth\": 0, \"ticks\": \"\"}}, \"type\": \"scatter\"}], \"scatter3d\": [{\"line\": {\"colorbar\": {\"outlinewidth\": 0, \"ticks\": \"\"}}, \"marker\": {\"colorbar\": {\"outlinewidth\": 0, \"ticks\": \"\"}}, \"type\": \"scatter3d\"}], \"scattercarpet\": [{\"marker\": {\"colorbar\": {\"outlinewidth\": 0, \"ticks\": \"\"}}, \"type\": \"scattercarpet\"}], \"scattergeo\": [{\"marker\": {\"colorbar\": {\"outlinewidth\": 0, \"ticks\": \"\"}}, \"type\": \"scattergeo\"}], \"scattergl\": [{\"marker\": {\"colorbar\": {\"outlinewidth\": 0, \"ticks\": \"\"}}, \"type\": \"scattergl\"}], \"scattermapbox\": [{\"marker\": {\"colorbar\": {\"outlinewidth\": 0, \"ticks\": \"\"}}, \"type\": \"scattermapbox\"}], \"scatterpolar\": [{\"marker\": {\"colorbar\": {\"outlinewidth\": 0, \"ticks\": \"\"}}, \"type\": \"scatterpolar\"}], \"scatterpolargl\": [{\"marker\": {\"colorbar\": {\"outlinewidth\": 0, \"ticks\": \"\"}}, \"type\": \"scatterpolargl\"}], \"scatterternary\": [{\"marker\": {\"colorbar\": {\"outlinewidth\": 0, \"ticks\": \"\"}}, \"type\": \"scatterternary\"}], \"surface\": [{\"colorbar\": {\"outlinewidth\": 0, \"ticks\": \"\"}, \"colorscale\": [[0.0, \"#0d0887\"], [0.1111111111111111, \"#46039f\"], [0.2222222222222222, \"#7201a8\"], [0.3333333333333333, \"#9c179e\"], [0.4444444444444444, \"#bd3786\"], [0.5555555555555556, \"#d8576b\"], [0.6666666666666666, \"#ed7953\"], [0.7777777777777778, \"#fb9f3a\"], [0.8888888888888888, \"#fdca26\"], [1.0, \"#f0f921\"]], \"type\": \"surface\"}], \"table\": [{\"cells\": {\"fill\": {\"color\": \"#EBF0F8\"}, \"line\": {\"color\": \"white\"}}, \"header\": {\"fill\": {\"color\": \"#C8D4E3\"}, \"line\": {\"color\": \"white\"}}, \"type\": \"table\"}]}, \"layout\": {\"annotationdefaults\": {\"arrowcolor\": \"#2a3f5f\", \"arrowhead\": 0, \"arrowwidth\": 1}, \"autotypenumbers\": \"strict\", \"coloraxis\": {\"colorbar\": {\"outlinewidth\": 0, \"ticks\": \"\"}}, \"colorscale\": {\"diverging\": [[0, \"#8e0152\"], [0.1, \"#c51b7d\"], [0.2, \"#de77ae\"], [0.3, \"#f1b6da\"], [0.4, \"#fde0ef\"], [0.5, \"#f7f7f7\"], [0.6, \"#e6f5d0\"], [0.7, \"#b8e186\"], [0.8, \"#7fbc41\"], [0.9, \"#4d9221\"], [1, \"#276419\"]], \"sequential\": [[0.0, \"#0d0887\"], [0.1111111111111111, \"#46039f\"], [0.2222222222222222, \"#7201a8\"], [0.3333333333333333, \"#9c179e\"], [0.4444444444444444, \"#bd3786\"], [0.5555555555555556, \"#d8576b\"], [0.6666666666666666, \"#ed7953\"], [0.7777777777777778, \"#fb9f3a\"], [0.8888888888888888, \"#fdca26\"], [1.0, \"#f0f921\"]], \"sequentialminus\": [[0.0, \"#0d0887\"], [0.1111111111111111, \"#46039f\"], [0.2222222222222222, \"#7201a8\"], [0.3333333333333333, \"#9c179e\"], [0.4444444444444444, \"#bd3786\"], [0.5555555555555556, \"#d8576b\"], [0.6666666666666666, \"#ed7953\"], [0.7777777777777778, \"#fb9f3a\"], [0.8888888888888888, \"#fdca26\"], [1.0, \"#f0f921\"]]}, \"colorway\": [\"#636efa\", \"#EF553B\", \"#00cc96\", \"#ab63fa\", \"#FFA15A\", \"#19d3f3\", \"#FF6692\", \"#B6E880\", \"#FF97FF\", \"#FECB52\"], \"font\": {\"color\": \"#2a3f5f\"}, \"geo\": {\"bgcolor\": \"white\", \"lakecolor\": \"white\", \"landcolor\": \"#E5ECF6\", \"showlakes\": true, \"showland\": true, \"subunitcolor\": \"white\"}, \"hoverlabel\": {\"align\": \"left\"}, \"hovermode\": \"closest\", \"mapbox\": {\"style\": \"light\"}, \"paper_bgcolor\": \"white\", \"plot_bgcolor\": \"#E5ECF6\", \"polar\": {\"angularaxis\": {\"gridcolor\": \"white\", \"linecolor\": \"white\", \"ticks\": \"\"}, \"bgcolor\": \"#E5ECF6\", \"radialaxis\": {\"gridcolor\": \"white\", \"linecolor\": \"white\", \"ticks\": \"\"}}, \"scene\": {\"xaxis\": {\"backgroundcolor\": \"#E5ECF6\", \"gridcolor\": \"white\", \"gridwidth\": 2, \"linecolor\": \"white\", \"showbackground\": true, \"ticks\": \"\", \"zerolinecolor\": \"white\"}, \"yaxis\": {\"backgroundcolor\": \"#E5ECF6\", \"gridcolor\": \"white\", \"gridwidth\": 2, \"linecolor\": \"white\", \"showbackground\": true, \"ticks\": \"\", \"zerolinecolor\": \"white\"}, \"zaxis\": {\"backgroundcolor\": \"#E5ECF6\", \"gridcolor\": \"white\", \"gridwidth\": 2, \"linecolor\": \"white\", \"showbackground\": true, \"ticks\": \"\", \"zerolinecolor\": \"white\"}}, \"shapedefaults\": {\"line\": {\"color\": \"#2a3f5f\"}}, \"ternary\": {\"aaxis\": {\"gridcolor\": \"white\", \"linecolor\": \"white\", \"ticks\": \"\"}, \"baxis\": {\"gridcolor\": \"white\", \"linecolor\": \"white\", \"ticks\": \"\"}, \"bgcolor\": \"#E5ECF6\", \"caxis\": {\"gridcolor\": \"white\", \"linecolor\": \"white\", \"ticks\": \"\"}}, \"title\": {\"x\": 0.05}, \"xaxis\": {\"automargin\": true, \"gridcolor\": \"white\", \"linecolor\": \"white\", \"ticks\": \"\", \"title\": {\"standoff\": 15}, \"zerolinecolor\": \"white\", \"zerolinewidth\": 2}, \"yaxis\": {\"automargin\": true, \"gridcolor\": \"white\", \"linecolor\": \"white\", \"ticks\": \"\", \"title\": {\"standoff\": 15}, \"zerolinecolor\": \"white\", \"zerolinewidth\": 2}}}, \"width\": 800, \"xaxis\": {\"gridwidth\": 1, \"tickfont\": {\"size\": 18}, \"title\": {\"font\": {\"size\": 24}, \"text\": \"Atomic Mass\"}, \"zeroline\": false}, \"yaxis\": {\"gridwidth\": 1, \"tickfont\": {\"size\": 18}, \"title\": {\"font\": {\"size\": 24}, \"text\": \"Young's Modulus (GPa)\"}, \"zeroline\": false}},                        {\"responsive\": true}                    ).then(function(){\n",
       "                            \n",
       "var gd = document.getElementById('36c24572-03fc-4e34-b666-93d84fd1d1f8');\n",
       "var x = new MutationObserver(function (mutations, observer) {{\n",
       "        var display = window.getComputedStyle(gd).display;\n",
       "        if (!display || display === 'none') {{\n",
       "            console.log([gd, 'removed!']);\n",
       "            Plotly.purge(gd);\n",
       "            observer.disconnect();\n",
       "        }}\n",
       "}});\n",
       "\n",
       "// Listen for the removal of the full notebook cells\n",
       "var notebookContainer = gd.closest('#notebook-container');\n",
       "if (notebookContainer) {{\n",
       "    x.observe(notebookContainer, {childList: true});\n",
       "}}\n",
       "\n",
       "// Listen for the clearing of the current output cell\n",
       "var outputEl = gd.closest('.output');\n",
       "if (outputEl) {{\n",
       "    x.observe(outputEl, {childList: true});\n",
       "}}\n",
       "\n",
       "                        })                };                });            </script>        </div>"
      ]
     },
     "metadata": {},
     "output_type": "display_data"
    }
   ],
   "source": [
    "predictions = regression(mass_train, mass_test, young_train, young_test) \n",
    "\n",
    "plot(mass_train, mass_test, young_train, young_test, \"Atomic Mass\", \"Young's Modulus (GPa)\", predictions) \n",
    "# A very low R2 score here the score is - ve which signifys that the variables are highly uncorrelated and dont have linear relationship"
   ]
  },
  {
   "cell_type": "markdown",
   "metadata": {},
   "source": [
    "# Linear model between CTE and young's modulus\n",
    "$$ y = \\beta{_0} + \\beta{_1}x$$"
   ]
  },
  {
   "cell_type": "code",
   "execution_count": 87,
   "metadata": {},
   "outputs": [
    {
     "name": "stdout",
     "output_type": "stream",
     "text": [
      "CTE\n",
      "[9.4e-06, 4.5e-06, 2.89e-05, 8.2e-06, 1.1e-05, 6.3e-06, 1.22e-05, 9.9e-06, 2.99e-05, 2.06e-05, 1.18e-05, 1.34e-05, 1.18e-05, 2.17e-05, 4.9e-06, 6.3e-06, 1.33e-05, 1.27e-05, 3.02e-05, 2.6e-06, 1.1e-05, 9.9e-06, 1.12e-05, 1.06e-05, 1.65e-05, 3.5e-05, 8.8e-06, 6.2e-06, 8.6e-06, 2.31e-05, 7.3e-06, 3.08e-05, 7.1e-05, 6.4e-06, 1.89e-05, 5.7e-06, 2.23e-05, 2.63e-05, 1.34e-05, 1.3e-05, 1.42e-05, 2.2e-05, 6.4e-06, 8.4e-06, 4.8e-06, 8.2e-06, 1.13e-05, 1.02e-05, 5.9e-06, 4.6e-05, 1.03e-05]\n"
     ]
    }
   ],
   "source": [
    "## Now for the linear model between CTE and young's modulus\n",
    "print('CTE')\n",
    "print(data_CTE)"
   ]
  },
  {
   "cell_type": "code",
   "execution_count": 88,
   "metadata": {},
   "outputs": [],
   "source": [
    "# x = CTE data \n",
    "coefTE_train = data_CTE[:40]    #78 % train size of data\n",
    "coefTE_test = data_CTE[-11:]     #22 % of the test size \n",
    "\n",
    "coefTE_train = np.array(coefTE_train).reshape(-1,1)\n",
    "coefTE_test = np.array(coefTE_test).reshape(-1,1)\n",
    "\n",
    "# y = young's modulus\n",
    "young_train = data_youngs_modulus[:40]    #dividing the data based on 78%train size\n",
    "young_test = data_youngs_modulus[-11:]     #and 22% test size\n",
    "# y = young's modulus\n",
    "young_train = np.array(young_train).reshape(-1,1)\n",
    "young_test = np.array(young_test).reshape(-1,1)  #creating array columnwise"
   ]
  },
  {
   "cell_type": "code",
   "execution_count": 89,
   "metadata": {},
   "outputs": [
    {
     "name": "stdout",
     "output_type": "stream",
     "text": [
      "Linear Equation: -3.6852e+06 X + (1.7094e+02)\n",
      "Mean squared error: 1.3160e+04\n",
      "Variance score: 0.1659\n"
     ]
    },
    {
     "data": {
      "application/vnd.plotly.v1+json": {
       "config": {
        "linkText": "Export to plot.ly",
        "plotlyServerURL": "https://plot.ly",
        "showLink": false
       },
       "data": [
        {
         "marker": {
          "color": "green",
          "size": 10
         },
         "mode": "markers",
         "name": "Training Data",
         "type": "scatter",
         "x": [
          9.4e-06,
          4.5e-06,
          2.89e-05,
          8.2e-06,
          1.1e-05,
          6.3e-06,
          1.22e-05,
          9.9e-06,
          2.99e-05,
          2.06e-05,
          1.18e-05,
          1.34e-05,
          1.18e-05,
          2.17e-05,
          4.9e-06,
          6.3e-06,
          1.33e-05,
          1.27e-05,
          3.02e-05,
          2.6e-06,
          1.1e-05,
          9.9e-06,
          1.12e-05,
          1.06e-05,
          1.65e-05,
          3.5e-05,
          8.8e-06,
          6.2e-06,
          8.6e-06,
          2.31e-05,
          7.3e-06,
          3.08e-05,
          7.1e-05,
          6.4e-06,
          1.89e-05,
          5.7e-06,
          2.23e-05,
          2.63e-05,
          1.34e-05,
          1.3e-05
         ],
         "y": [
          55,
          411,
          16,
          45,
          79,
          34,
          70,
          69,
          8,
          13,
          211,
          32,
          121,
          198,
          279,
          186,
          74,
          50,
          108,
          47,
          55,
          61,
          65,
          64,
          130,
          18,
          168,
          463,
          116,
          70,
          105,
          50,
          10,
          447,
          83,
          68,
          20,
          24,
          200,
          209
         ]
        },
        {
         "marker": {
          "color": "red",
          "size": 10
         },
         "mode": "markers",
         "name": "Testing Data",
         "type": "scatter",
         "x": [
          1.42e-05,
          2.2e-05,
          6.4e-06,
          8.4e-06,
          4.8e-06,
          8.2e-06,
          1.13e-05,
          1.02e-05,
          5.9e-06,
          4.6e-05,
          1.03e-05
         ],
         "y": [
          78,
          50,
          528,
          128,
          329,
          275,
          287,
          74,
          78,
          4.9,
          56
         ]
        },
        {
         "line": {
          "color": "blue",
          "width": 1.5
         },
         "mode": "lines",
         "name": "Model",
         "type": "scatter",
         "x": [
          9.4e-06,
          4.5e-06,
          2.89e-05,
          8.2e-06,
          1.1e-05,
          6.3e-06,
          1.22e-05,
          9.9e-06,
          2.99e-05,
          2.06e-05,
          1.18e-05,
          1.34e-05,
          1.18e-05,
          2.17e-05,
          4.9e-06,
          6.3e-06,
          1.33e-05,
          1.27e-05,
          3.02e-05,
          2.6e-06,
          1.1e-05,
          9.9e-06,
          1.12e-05,
          1.06e-05,
          1.65e-05,
          3.5e-05,
          8.8e-06,
          6.2e-06,
          8.6e-06,
          2.31e-05,
          7.3e-06,
          3.08e-05,
          7.1e-05,
          6.4e-06,
          1.89e-05,
          5.7e-06,
          2.23e-05,
          2.63e-05,
          1.34e-05,
          1.3e-05,
          1.42e-05,
          2.2e-05,
          6.4e-06,
          8.4e-06,
          4.8e-06,
          8.2e-06,
          1.13e-05,
          1.02e-05,
          5.9e-06,
          4.6e-05,
          1.03e-05
         ],
         "y": [
          136.2954056096622,
          154.35269527109563,
          64.43476307946784,
          140.71759899613568,
          130.39914776103086,
          147.7194051913854,
          125.97695437455735,
          134.4528250319649,
          60.749601924073275,
          95.02160066924289,
          127.45101883671519,
          121.55476098808387,
          127.45101883671519,
          90.96792339830884,
          152.8786308089378,
          147.7194051913854,
          121.92327710362332,
          124.13437379686007,
          59.6440535774549,
          161.35450146634534,
          130.39914776103086,
          134.4528250319649,
          129.66211552995196,
          131.8732122231887,
          110.13076140636065,
          41.9552800315609,
          138.50650230289892,
          148.08792130692484,
          139.24353453397785,
          85.80869778075643,
          144.0342440359908,
          57.43295688421813,
          -90.71052156264406,
          147.35088907584594,
          101.28637463341367,
          149.93050188462215,
          88.75682670507209,
          74.01618208349376,
          121.55476098808387,
          123.0288254502417,
          118.6066320637682,
          89.86237505169046,
          147.35088907584594,
          139.98056676505678,
          153.24714692447728,
          140.71759899613568,
          129.29359941441248,
          133.34727668534651,
          149.19346965354322,
          1.4185073222205062,
          132.97876056980706
         ]
        }
       ],
       "layout": {
        "height": 600,
        "hovermode": "closest",
        "legend": {
         "font": {
          "size": 24
         }
        },
        "showlegend": true,
        "template": {
         "data": {
          "bar": [
           {
            "error_x": {
             "color": "#2a3f5f"
            },
            "error_y": {
             "color": "#2a3f5f"
            },
            "marker": {
             "line": {
              "color": "#E5ECF6",
              "width": 0.5
             }
            },
            "type": "bar"
           }
          ],
          "barpolar": [
           {
            "marker": {
             "line": {
              "color": "#E5ECF6",
              "width": 0.5
             }
            },
            "type": "barpolar"
           }
          ],
          "carpet": [
           {
            "aaxis": {
             "endlinecolor": "#2a3f5f",
             "gridcolor": "white",
             "linecolor": "white",
             "minorgridcolor": "white",
             "startlinecolor": "#2a3f5f"
            },
            "baxis": {
             "endlinecolor": "#2a3f5f",
             "gridcolor": "white",
             "linecolor": "white",
             "minorgridcolor": "white",
             "startlinecolor": "#2a3f5f"
            },
            "type": "carpet"
           }
          ],
          "choropleth": [
           {
            "colorbar": {
             "outlinewidth": 0,
             "ticks": ""
            },
            "type": "choropleth"
           }
          ],
          "contour": [
           {
            "colorbar": {
             "outlinewidth": 0,
             "ticks": ""
            },
            "colorscale": [
             [
              0,
              "#0d0887"
             ],
             [
              0.1111111111111111,
              "#46039f"
             ],
             [
              0.2222222222222222,
              "#7201a8"
             ],
             [
              0.3333333333333333,
              "#9c179e"
             ],
             [
              0.4444444444444444,
              "#bd3786"
             ],
             [
              0.5555555555555556,
              "#d8576b"
             ],
             [
              0.6666666666666666,
              "#ed7953"
             ],
             [
              0.7777777777777778,
              "#fb9f3a"
             ],
             [
              0.8888888888888888,
              "#fdca26"
             ],
             [
              1,
              "#f0f921"
             ]
            ],
            "type": "contour"
           }
          ],
          "contourcarpet": [
           {
            "colorbar": {
             "outlinewidth": 0,
             "ticks": ""
            },
            "type": "contourcarpet"
           }
          ],
          "heatmap": [
           {
            "colorbar": {
             "outlinewidth": 0,
             "ticks": ""
            },
            "colorscale": [
             [
              0,
              "#0d0887"
             ],
             [
              0.1111111111111111,
              "#46039f"
             ],
             [
              0.2222222222222222,
              "#7201a8"
             ],
             [
              0.3333333333333333,
              "#9c179e"
             ],
             [
              0.4444444444444444,
              "#bd3786"
             ],
             [
              0.5555555555555556,
              "#d8576b"
             ],
             [
              0.6666666666666666,
              "#ed7953"
             ],
             [
              0.7777777777777778,
              "#fb9f3a"
             ],
             [
              0.8888888888888888,
              "#fdca26"
             ],
             [
              1,
              "#f0f921"
             ]
            ],
            "type": "heatmap"
           }
          ],
          "heatmapgl": [
           {
            "colorbar": {
             "outlinewidth": 0,
             "ticks": ""
            },
            "colorscale": [
             [
              0,
              "#0d0887"
             ],
             [
              0.1111111111111111,
              "#46039f"
             ],
             [
              0.2222222222222222,
              "#7201a8"
             ],
             [
              0.3333333333333333,
              "#9c179e"
             ],
             [
              0.4444444444444444,
              "#bd3786"
             ],
             [
              0.5555555555555556,
              "#d8576b"
             ],
             [
              0.6666666666666666,
              "#ed7953"
             ],
             [
              0.7777777777777778,
              "#fb9f3a"
             ],
             [
              0.8888888888888888,
              "#fdca26"
             ],
             [
              1,
              "#f0f921"
             ]
            ],
            "type": "heatmapgl"
           }
          ],
          "histogram": [
           {
            "marker": {
             "colorbar": {
              "outlinewidth": 0,
              "ticks": ""
             }
            },
            "type": "histogram"
           }
          ],
          "histogram2d": [
           {
            "colorbar": {
             "outlinewidth": 0,
             "ticks": ""
            },
            "colorscale": [
             [
              0,
              "#0d0887"
             ],
             [
              0.1111111111111111,
              "#46039f"
             ],
             [
              0.2222222222222222,
              "#7201a8"
             ],
             [
              0.3333333333333333,
              "#9c179e"
             ],
             [
              0.4444444444444444,
              "#bd3786"
             ],
             [
              0.5555555555555556,
              "#d8576b"
             ],
             [
              0.6666666666666666,
              "#ed7953"
             ],
             [
              0.7777777777777778,
              "#fb9f3a"
             ],
             [
              0.8888888888888888,
              "#fdca26"
             ],
             [
              1,
              "#f0f921"
             ]
            ],
            "type": "histogram2d"
           }
          ],
          "histogram2dcontour": [
           {
            "colorbar": {
             "outlinewidth": 0,
             "ticks": ""
            },
            "colorscale": [
             [
              0,
              "#0d0887"
             ],
             [
              0.1111111111111111,
              "#46039f"
             ],
             [
              0.2222222222222222,
              "#7201a8"
             ],
             [
              0.3333333333333333,
              "#9c179e"
             ],
             [
              0.4444444444444444,
              "#bd3786"
             ],
             [
              0.5555555555555556,
              "#d8576b"
             ],
             [
              0.6666666666666666,
              "#ed7953"
             ],
             [
              0.7777777777777778,
              "#fb9f3a"
             ],
             [
              0.8888888888888888,
              "#fdca26"
             ],
             [
              1,
              "#f0f921"
             ]
            ],
            "type": "histogram2dcontour"
           }
          ],
          "mesh3d": [
           {
            "colorbar": {
             "outlinewidth": 0,
             "ticks": ""
            },
            "type": "mesh3d"
           }
          ],
          "parcoords": [
           {
            "line": {
             "colorbar": {
              "outlinewidth": 0,
              "ticks": ""
             }
            },
            "type": "parcoords"
           }
          ],
          "pie": [
           {
            "automargin": true,
            "type": "pie"
           }
          ],
          "scatter": [
           {
            "marker": {
             "colorbar": {
              "outlinewidth": 0,
              "ticks": ""
             }
            },
            "type": "scatter"
           }
          ],
          "scatter3d": [
           {
            "line": {
             "colorbar": {
              "outlinewidth": 0,
              "ticks": ""
             }
            },
            "marker": {
             "colorbar": {
              "outlinewidth": 0,
              "ticks": ""
             }
            },
            "type": "scatter3d"
           }
          ],
          "scattercarpet": [
           {
            "marker": {
             "colorbar": {
              "outlinewidth": 0,
              "ticks": ""
             }
            },
            "type": "scattercarpet"
           }
          ],
          "scattergeo": [
           {
            "marker": {
             "colorbar": {
              "outlinewidth": 0,
              "ticks": ""
             }
            },
            "type": "scattergeo"
           }
          ],
          "scattergl": [
           {
            "marker": {
             "colorbar": {
              "outlinewidth": 0,
              "ticks": ""
             }
            },
            "type": "scattergl"
           }
          ],
          "scattermapbox": [
           {
            "marker": {
             "colorbar": {
              "outlinewidth": 0,
              "ticks": ""
             }
            },
            "type": "scattermapbox"
           }
          ],
          "scatterpolar": [
           {
            "marker": {
             "colorbar": {
              "outlinewidth": 0,
              "ticks": ""
             }
            },
            "type": "scatterpolar"
           }
          ],
          "scatterpolargl": [
           {
            "marker": {
             "colorbar": {
              "outlinewidth": 0,
              "ticks": ""
             }
            },
            "type": "scatterpolargl"
           }
          ],
          "scatterternary": [
           {
            "marker": {
             "colorbar": {
              "outlinewidth": 0,
              "ticks": ""
             }
            },
            "type": "scatterternary"
           }
          ],
          "surface": [
           {
            "colorbar": {
             "outlinewidth": 0,
             "ticks": ""
            },
            "colorscale": [
             [
              0,
              "#0d0887"
             ],
             [
              0.1111111111111111,
              "#46039f"
             ],
             [
              0.2222222222222222,
              "#7201a8"
             ],
             [
              0.3333333333333333,
              "#9c179e"
             ],
             [
              0.4444444444444444,
              "#bd3786"
             ],
             [
              0.5555555555555556,
              "#d8576b"
             ],
             [
              0.6666666666666666,
              "#ed7953"
             ],
             [
              0.7777777777777778,
              "#fb9f3a"
             ],
             [
              0.8888888888888888,
              "#fdca26"
             ],
             [
              1,
              "#f0f921"
             ]
            ],
            "type": "surface"
           }
          ],
          "table": [
           {
            "cells": {
             "fill": {
              "color": "#EBF0F8"
             },
             "line": {
              "color": "white"
             }
            },
            "header": {
             "fill": {
              "color": "#C8D4E3"
             },
             "line": {
              "color": "white"
             }
            },
            "type": "table"
           }
          ]
         },
         "layout": {
          "annotationdefaults": {
           "arrowcolor": "#2a3f5f",
           "arrowhead": 0,
           "arrowwidth": 1
          },
          "autotypenumbers": "strict",
          "coloraxis": {
           "colorbar": {
            "outlinewidth": 0,
            "ticks": ""
           }
          },
          "colorscale": {
           "diverging": [
            [
             0,
             "#8e0152"
            ],
            [
             0.1,
             "#c51b7d"
            ],
            [
             0.2,
             "#de77ae"
            ],
            [
             0.3,
             "#f1b6da"
            ],
            [
             0.4,
             "#fde0ef"
            ],
            [
             0.5,
             "#f7f7f7"
            ],
            [
             0.6,
             "#e6f5d0"
            ],
            [
             0.7,
             "#b8e186"
            ],
            [
             0.8,
             "#7fbc41"
            ],
            [
             0.9,
             "#4d9221"
            ],
            [
             1,
             "#276419"
            ]
           ],
           "sequential": [
            [
             0,
             "#0d0887"
            ],
            [
             0.1111111111111111,
             "#46039f"
            ],
            [
             0.2222222222222222,
             "#7201a8"
            ],
            [
             0.3333333333333333,
             "#9c179e"
            ],
            [
             0.4444444444444444,
             "#bd3786"
            ],
            [
             0.5555555555555556,
             "#d8576b"
            ],
            [
             0.6666666666666666,
             "#ed7953"
            ],
            [
             0.7777777777777778,
             "#fb9f3a"
            ],
            [
             0.8888888888888888,
             "#fdca26"
            ],
            [
             1,
             "#f0f921"
            ]
           ],
           "sequentialminus": [
            [
             0,
             "#0d0887"
            ],
            [
             0.1111111111111111,
             "#46039f"
            ],
            [
             0.2222222222222222,
             "#7201a8"
            ],
            [
             0.3333333333333333,
             "#9c179e"
            ],
            [
             0.4444444444444444,
             "#bd3786"
            ],
            [
             0.5555555555555556,
             "#d8576b"
            ],
            [
             0.6666666666666666,
             "#ed7953"
            ],
            [
             0.7777777777777778,
             "#fb9f3a"
            ],
            [
             0.8888888888888888,
             "#fdca26"
            ],
            [
             1,
             "#f0f921"
            ]
           ]
          },
          "colorway": [
           "#636efa",
           "#EF553B",
           "#00cc96",
           "#ab63fa",
           "#FFA15A",
           "#19d3f3",
           "#FF6692",
           "#B6E880",
           "#FF97FF",
           "#FECB52"
          ],
          "font": {
           "color": "#2a3f5f"
          },
          "geo": {
           "bgcolor": "white",
           "lakecolor": "white",
           "landcolor": "#E5ECF6",
           "showlakes": true,
           "showland": true,
           "subunitcolor": "white"
          },
          "hoverlabel": {
           "align": "left"
          },
          "hovermode": "closest",
          "mapbox": {
           "style": "light"
          },
          "paper_bgcolor": "white",
          "plot_bgcolor": "#E5ECF6",
          "polar": {
           "angularaxis": {
            "gridcolor": "white",
            "linecolor": "white",
            "ticks": ""
           },
           "bgcolor": "#E5ECF6",
           "radialaxis": {
            "gridcolor": "white",
            "linecolor": "white",
            "ticks": ""
           }
          },
          "scene": {
           "xaxis": {
            "backgroundcolor": "#E5ECF6",
            "gridcolor": "white",
            "gridwidth": 2,
            "linecolor": "white",
            "showbackground": true,
            "ticks": "",
            "zerolinecolor": "white"
           },
           "yaxis": {
            "backgroundcolor": "#E5ECF6",
            "gridcolor": "white",
            "gridwidth": 2,
            "linecolor": "white",
            "showbackground": true,
            "ticks": "",
            "zerolinecolor": "white"
           },
           "zaxis": {
            "backgroundcolor": "#E5ECF6",
            "gridcolor": "white",
            "gridwidth": 2,
            "linecolor": "white",
            "showbackground": true,
            "ticks": "",
            "zerolinecolor": "white"
           }
          },
          "shapedefaults": {
           "line": {
            "color": "#2a3f5f"
           }
          },
          "ternary": {
           "aaxis": {
            "gridcolor": "white",
            "linecolor": "white",
            "ticks": ""
           },
           "baxis": {
            "gridcolor": "white",
            "linecolor": "white",
            "ticks": ""
           },
           "bgcolor": "#E5ECF6",
           "caxis": {
            "gridcolor": "white",
            "linecolor": "white",
            "ticks": ""
           }
          },
          "title": {
           "x": 0.05
          },
          "xaxis": {
           "automargin": true,
           "gridcolor": "white",
           "linecolor": "white",
           "ticks": "",
           "title": {
            "standoff": 15
           },
           "zerolinecolor": "white",
           "zerolinewidth": 2
          },
          "yaxis": {
           "automargin": true,
           "gridcolor": "white",
           "linecolor": "white",
           "ticks": "",
           "title": {
            "standoff": 15
           },
           "zerolinecolor": "white",
           "zerolinewidth": 2
          }
         }
        },
        "width": 800,
        "xaxis": {
         "gridwidth": 1,
         "tickfont": {
          "size": 18
         },
         "title": {
          "font": {
           "size": 24
          },
          "text": "Coefficient of linear Thermal expansion"
         },
         "zeroline": false
        },
        "yaxis": {
         "gridwidth": 1,
         "tickfont": {
          "size": 18
         },
         "title": {
          "font": {
           "size": 24
          },
          "text": "Young's Modulus (GPa)"
         },
         "zeroline": false
        }
       }
      },
      "text/html": [
       "<div>                            <div id=\"c4fe3cf2-36b0-47c7-b4e6-3a0de45642a7\" class=\"plotly-graph-div\" style=\"height:600px; width:800px;\"></div>            <script type=\"text/javascript\">                require([\"plotly\"], function(Plotly) {                    window.PLOTLYENV=window.PLOTLYENV || {};                                    if (document.getElementById(\"c4fe3cf2-36b0-47c7-b4e6-3a0de45642a7\")) {                    Plotly.newPlot(                        \"c4fe3cf2-36b0-47c7-b4e6-3a0de45642a7\",                        [{\"marker\": {\"color\": \"green\", \"size\": 10}, \"mode\": \"markers\", \"name\": \"Training Data\", \"type\": \"scatter\", \"x\": [9.4e-06, 4.5e-06, 2.89e-05, 8.2e-06, 1.1e-05, 6.3e-06, 1.22e-05, 9.9e-06, 2.99e-05, 2.06e-05, 1.18e-05, 1.34e-05, 1.18e-05, 2.17e-05, 4.9e-06, 6.3e-06, 1.33e-05, 1.27e-05, 3.02e-05, 2.6e-06, 1.1e-05, 9.9e-06, 1.12e-05, 1.06e-05, 1.65e-05, 3.5e-05, 8.8e-06, 6.2e-06, 8.6e-06, 2.31e-05, 7.3e-06, 3.08e-05, 7.1e-05, 6.4e-06, 1.89e-05, 5.7e-06, 2.23e-05, 2.63e-05, 1.34e-05, 1.3e-05], \"y\": [55.0, 411.0, 16.0, 45.0, 79.0, 34.0, 70.0, 69.0, 8.0, 13.0, 211.0, 32.0, 121.0, 198.0, 279.0, 186.0, 74.0, 50.0, 108.0, 47.0, 55.0, 61.0, 65.0, 64.0, 130.0, 18.0, 168.0, 463.0, 116.0, 70.0, 105.0, 50.0, 10.0, 447.0, 83.0, 68.0, 20.0, 24.0, 200.0, 209.0]}, {\"marker\": {\"color\": \"red\", \"size\": 10}, \"mode\": \"markers\", \"name\": \"Testing Data\", \"type\": \"scatter\", \"x\": [1.42e-05, 2.2e-05, 6.4e-06, 8.4e-06, 4.8e-06, 8.2e-06, 1.13e-05, 1.02e-05, 5.9e-06, 4.6e-05, 1.03e-05], \"y\": [78.0, 50.0, 528.0, 128.0, 329.0, 275.0, 287.0, 74.0, 78.0, 4.9, 56.0]}, {\"line\": {\"color\": \"blue\", \"width\": 1.5}, \"mode\": \"lines\", \"name\": \"Model\", \"type\": \"scatter\", \"x\": [9.4e-06, 4.5e-06, 2.89e-05, 8.2e-06, 1.1e-05, 6.3e-06, 1.22e-05, 9.9e-06, 2.99e-05, 2.06e-05, 1.18e-05, 1.34e-05, 1.18e-05, 2.17e-05, 4.9e-06, 6.3e-06, 1.33e-05, 1.27e-05, 3.02e-05, 2.6e-06, 1.1e-05, 9.9e-06, 1.12e-05, 1.06e-05, 1.65e-05, 3.5e-05, 8.8e-06, 6.2e-06, 8.6e-06, 2.31e-05, 7.3e-06, 3.08e-05, 7.1e-05, 6.4e-06, 1.89e-05, 5.7e-06, 2.23e-05, 2.63e-05, 1.34e-05, 1.3e-05, 1.42e-05, 2.2e-05, 6.4e-06, 8.4e-06, 4.8e-06, 8.2e-06, 1.13e-05, 1.02e-05, 5.9e-06, 4.6e-05, 1.03e-05], \"y\": [136.2954056096622, 154.35269527109563, 64.43476307946784, 140.71759899613568, 130.39914776103086, 147.7194051913854, 125.97695437455735, 134.4528250319649, 60.749601924073275, 95.02160066924289, 127.45101883671519, 121.55476098808387, 127.45101883671519, 90.96792339830884, 152.8786308089378, 147.7194051913854, 121.92327710362332, 124.13437379686007, 59.6440535774549, 161.35450146634534, 130.39914776103086, 134.4528250319649, 129.66211552995196, 131.8732122231887, 110.13076140636065, 41.9552800315609, 138.50650230289892, 148.08792130692484, 139.24353453397785, 85.80869778075643, 144.0342440359908, 57.43295688421813, -90.71052156264406, 147.35088907584594, 101.28637463341367, 149.93050188462215, 88.75682670507209, 74.01618208349376, 121.55476098808387, 123.0288254502417, 118.6066320637682, 89.86237505169046, 147.35088907584594, 139.98056676505678, 153.24714692447728, 140.71759899613568, 129.29359941441248, 133.34727668534651, 149.19346965354322, 1.4185073222205062, 132.97876056980706]}],                        {\"height\": 600, \"hovermode\": \"closest\", \"legend\": {\"font\": {\"size\": 24}}, \"showlegend\": true, \"template\": {\"data\": {\"bar\": [{\"error_x\": {\"color\": \"#2a3f5f\"}, \"error_y\": {\"color\": \"#2a3f5f\"}, \"marker\": {\"line\": {\"color\": \"#E5ECF6\", \"width\": 0.5}}, \"type\": \"bar\"}], \"barpolar\": [{\"marker\": {\"line\": {\"color\": \"#E5ECF6\", \"width\": 0.5}}, \"type\": \"barpolar\"}], \"carpet\": [{\"aaxis\": {\"endlinecolor\": \"#2a3f5f\", \"gridcolor\": \"white\", \"linecolor\": \"white\", \"minorgridcolor\": \"white\", \"startlinecolor\": \"#2a3f5f\"}, \"baxis\": {\"endlinecolor\": \"#2a3f5f\", \"gridcolor\": \"white\", \"linecolor\": \"white\", \"minorgridcolor\": \"white\", \"startlinecolor\": \"#2a3f5f\"}, \"type\": \"carpet\"}], \"choropleth\": [{\"colorbar\": {\"outlinewidth\": 0, \"ticks\": \"\"}, \"type\": \"choropleth\"}], \"contour\": [{\"colorbar\": {\"outlinewidth\": 0, \"ticks\": \"\"}, \"colorscale\": [[0.0, \"#0d0887\"], [0.1111111111111111, \"#46039f\"], [0.2222222222222222, \"#7201a8\"], [0.3333333333333333, \"#9c179e\"], [0.4444444444444444, \"#bd3786\"], [0.5555555555555556, \"#d8576b\"], [0.6666666666666666, \"#ed7953\"], [0.7777777777777778, \"#fb9f3a\"], [0.8888888888888888, \"#fdca26\"], [1.0, \"#f0f921\"]], \"type\": \"contour\"}], \"contourcarpet\": [{\"colorbar\": {\"outlinewidth\": 0, \"ticks\": \"\"}, \"type\": \"contourcarpet\"}], \"heatmap\": [{\"colorbar\": {\"outlinewidth\": 0, \"ticks\": \"\"}, \"colorscale\": [[0.0, \"#0d0887\"], [0.1111111111111111, \"#46039f\"], [0.2222222222222222, \"#7201a8\"], [0.3333333333333333, \"#9c179e\"], [0.4444444444444444, \"#bd3786\"], [0.5555555555555556, \"#d8576b\"], [0.6666666666666666, \"#ed7953\"], [0.7777777777777778, \"#fb9f3a\"], [0.8888888888888888, \"#fdca26\"], [1.0, \"#f0f921\"]], \"type\": \"heatmap\"}], \"heatmapgl\": [{\"colorbar\": {\"outlinewidth\": 0, \"ticks\": \"\"}, \"colorscale\": [[0.0, \"#0d0887\"], [0.1111111111111111, \"#46039f\"], [0.2222222222222222, \"#7201a8\"], [0.3333333333333333, \"#9c179e\"], [0.4444444444444444, \"#bd3786\"], [0.5555555555555556, \"#d8576b\"], [0.6666666666666666, \"#ed7953\"], [0.7777777777777778, \"#fb9f3a\"], [0.8888888888888888, \"#fdca26\"], [1.0, \"#f0f921\"]], \"type\": \"heatmapgl\"}], \"histogram\": [{\"marker\": {\"colorbar\": {\"outlinewidth\": 0, \"ticks\": \"\"}}, \"type\": \"histogram\"}], \"histogram2d\": [{\"colorbar\": {\"outlinewidth\": 0, \"ticks\": \"\"}, \"colorscale\": [[0.0, \"#0d0887\"], [0.1111111111111111, \"#46039f\"], [0.2222222222222222, \"#7201a8\"], [0.3333333333333333, \"#9c179e\"], [0.4444444444444444, \"#bd3786\"], [0.5555555555555556, \"#d8576b\"], [0.6666666666666666, \"#ed7953\"], [0.7777777777777778, \"#fb9f3a\"], [0.8888888888888888, \"#fdca26\"], [1.0, \"#f0f921\"]], \"type\": \"histogram2d\"}], \"histogram2dcontour\": [{\"colorbar\": {\"outlinewidth\": 0, \"ticks\": \"\"}, \"colorscale\": [[0.0, \"#0d0887\"], [0.1111111111111111, \"#46039f\"], [0.2222222222222222, \"#7201a8\"], [0.3333333333333333, \"#9c179e\"], [0.4444444444444444, \"#bd3786\"], [0.5555555555555556, \"#d8576b\"], [0.6666666666666666, \"#ed7953\"], [0.7777777777777778, \"#fb9f3a\"], [0.8888888888888888, \"#fdca26\"], [1.0, \"#f0f921\"]], \"type\": \"histogram2dcontour\"}], \"mesh3d\": [{\"colorbar\": {\"outlinewidth\": 0, \"ticks\": \"\"}, \"type\": \"mesh3d\"}], \"parcoords\": [{\"line\": {\"colorbar\": {\"outlinewidth\": 0, \"ticks\": \"\"}}, \"type\": \"parcoords\"}], \"pie\": [{\"automargin\": true, \"type\": \"pie\"}], \"scatter\": [{\"marker\": {\"colorbar\": {\"outlinewidth\": 0, \"ticks\": \"\"}}, \"type\": \"scatter\"}], \"scatter3d\": [{\"line\": {\"colorbar\": {\"outlinewidth\": 0, \"ticks\": \"\"}}, \"marker\": {\"colorbar\": {\"outlinewidth\": 0, \"ticks\": \"\"}}, \"type\": \"scatter3d\"}], \"scattercarpet\": [{\"marker\": {\"colorbar\": {\"outlinewidth\": 0, \"ticks\": \"\"}}, \"type\": \"scattercarpet\"}], \"scattergeo\": [{\"marker\": {\"colorbar\": {\"outlinewidth\": 0, \"ticks\": \"\"}}, \"type\": \"scattergeo\"}], \"scattergl\": [{\"marker\": {\"colorbar\": {\"outlinewidth\": 0, \"ticks\": \"\"}}, \"type\": \"scattergl\"}], \"scattermapbox\": [{\"marker\": {\"colorbar\": {\"outlinewidth\": 0, \"ticks\": \"\"}}, \"type\": \"scattermapbox\"}], \"scatterpolar\": [{\"marker\": {\"colorbar\": {\"outlinewidth\": 0, \"ticks\": \"\"}}, \"type\": \"scatterpolar\"}], \"scatterpolargl\": [{\"marker\": {\"colorbar\": {\"outlinewidth\": 0, \"ticks\": \"\"}}, \"type\": \"scatterpolargl\"}], \"scatterternary\": [{\"marker\": {\"colorbar\": {\"outlinewidth\": 0, \"ticks\": \"\"}}, \"type\": \"scatterternary\"}], \"surface\": [{\"colorbar\": {\"outlinewidth\": 0, \"ticks\": \"\"}, \"colorscale\": [[0.0, \"#0d0887\"], [0.1111111111111111, \"#46039f\"], [0.2222222222222222, \"#7201a8\"], [0.3333333333333333, \"#9c179e\"], [0.4444444444444444, \"#bd3786\"], [0.5555555555555556, \"#d8576b\"], [0.6666666666666666, \"#ed7953\"], [0.7777777777777778, \"#fb9f3a\"], [0.8888888888888888, \"#fdca26\"], [1.0, \"#f0f921\"]], \"type\": \"surface\"}], \"table\": [{\"cells\": {\"fill\": {\"color\": \"#EBF0F8\"}, \"line\": {\"color\": \"white\"}}, \"header\": {\"fill\": {\"color\": \"#C8D4E3\"}, \"line\": {\"color\": \"white\"}}, \"type\": \"table\"}]}, \"layout\": {\"annotationdefaults\": {\"arrowcolor\": \"#2a3f5f\", \"arrowhead\": 0, \"arrowwidth\": 1}, \"autotypenumbers\": \"strict\", \"coloraxis\": {\"colorbar\": {\"outlinewidth\": 0, \"ticks\": \"\"}}, \"colorscale\": {\"diverging\": [[0, \"#8e0152\"], [0.1, \"#c51b7d\"], [0.2, \"#de77ae\"], [0.3, \"#f1b6da\"], [0.4, \"#fde0ef\"], [0.5, \"#f7f7f7\"], [0.6, \"#e6f5d0\"], [0.7, \"#b8e186\"], [0.8, \"#7fbc41\"], [0.9, \"#4d9221\"], [1, \"#276419\"]], \"sequential\": [[0.0, \"#0d0887\"], [0.1111111111111111, \"#46039f\"], [0.2222222222222222, \"#7201a8\"], [0.3333333333333333, \"#9c179e\"], [0.4444444444444444, \"#bd3786\"], [0.5555555555555556, \"#d8576b\"], [0.6666666666666666, \"#ed7953\"], [0.7777777777777778, \"#fb9f3a\"], [0.8888888888888888, \"#fdca26\"], [1.0, \"#f0f921\"]], \"sequentialminus\": [[0.0, \"#0d0887\"], [0.1111111111111111, \"#46039f\"], [0.2222222222222222, \"#7201a8\"], [0.3333333333333333, \"#9c179e\"], [0.4444444444444444, \"#bd3786\"], [0.5555555555555556, \"#d8576b\"], [0.6666666666666666, \"#ed7953\"], [0.7777777777777778, \"#fb9f3a\"], [0.8888888888888888, \"#fdca26\"], [1.0, \"#f0f921\"]]}, \"colorway\": [\"#636efa\", \"#EF553B\", \"#00cc96\", \"#ab63fa\", \"#FFA15A\", \"#19d3f3\", \"#FF6692\", \"#B6E880\", \"#FF97FF\", \"#FECB52\"], \"font\": {\"color\": \"#2a3f5f\"}, \"geo\": {\"bgcolor\": \"white\", \"lakecolor\": \"white\", \"landcolor\": \"#E5ECF6\", \"showlakes\": true, \"showland\": true, \"subunitcolor\": \"white\"}, \"hoverlabel\": {\"align\": \"left\"}, \"hovermode\": \"closest\", \"mapbox\": {\"style\": \"light\"}, \"paper_bgcolor\": \"white\", \"plot_bgcolor\": \"#E5ECF6\", \"polar\": {\"angularaxis\": {\"gridcolor\": \"white\", \"linecolor\": \"white\", \"ticks\": \"\"}, \"bgcolor\": \"#E5ECF6\", \"radialaxis\": {\"gridcolor\": \"white\", \"linecolor\": \"white\", \"ticks\": \"\"}}, \"scene\": {\"xaxis\": {\"backgroundcolor\": \"#E5ECF6\", \"gridcolor\": \"white\", \"gridwidth\": 2, \"linecolor\": \"white\", \"showbackground\": true, \"ticks\": \"\", \"zerolinecolor\": \"white\"}, \"yaxis\": {\"backgroundcolor\": \"#E5ECF6\", \"gridcolor\": \"white\", \"gridwidth\": 2, \"linecolor\": \"white\", \"showbackground\": true, \"ticks\": \"\", \"zerolinecolor\": \"white\"}, \"zaxis\": {\"backgroundcolor\": \"#E5ECF6\", \"gridcolor\": \"white\", \"gridwidth\": 2, \"linecolor\": \"white\", \"showbackground\": true, \"ticks\": \"\", \"zerolinecolor\": \"white\"}}, \"shapedefaults\": {\"line\": {\"color\": \"#2a3f5f\"}}, \"ternary\": {\"aaxis\": {\"gridcolor\": \"white\", \"linecolor\": \"white\", \"ticks\": \"\"}, \"baxis\": {\"gridcolor\": \"white\", \"linecolor\": \"white\", \"ticks\": \"\"}, \"bgcolor\": \"#E5ECF6\", \"caxis\": {\"gridcolor\": \"white\", \"linecolor\": \"white\", \"ticks\": \"\"}}, \"title\": {\"x\": 0.05}, \"xaxis\": {\"automargin\": true, \"gridcolor\": \"white\", \"linecolor\": \"white\", \"ticks\": \"\", \"title\": {\"standoff\": 15}, \"zerolinecolor\": \"white\", \"zerolinewidth\": 2}, \"yaxis\": {\"automargin\": true, \"gridcolor\": \"white\", \"linecolor\": \"white\", \"ticks\": \"\", \"title\": {\"standoff\": 15}, \"zerolinecolor\": \"white\", \"zerolinewidth\": 2}}}, \"width\": 800, \"xaxis\": {\"gridwidth\": 1, \"tickfont\": {\"size\": 18}, \"title\": {\"font\": {\"size\": 24}, \"text\": \"Coefficient of linear Thermal expansion\"}, \"zeroline\": false}, \"yaxis\": {\"gridwidth\": 1, \"tickfont\": {\"size\": 18}, \"title\": {\"font\": {\"size\": 24}, \"text\": \"Young's Modulus (GPa)\"}, \"zeroline\": false}},                        {\"responsive\": true}                    ).then(function(){\n",
       "                            \n",
       "var gd = document.getElementById('c4fe3cf2-36b0-47c7-b4e6-3a0de45642a7');\n",
       "var x = new MutationObserver(function (mutations, observer) {{\n",
       "        var display = window.getComputedStyle(gd).display;\n",
       "        if (!display || display === 'none') {{\n",
       "            console.log([gd, 'removed!']);\n",
       "            Plotly.purge(gd);\n",
       "            observer.disconnect();\n",
       "        }}\n",
       "}});\n",
       "\n",
       "// Listen for the removal of the full notebook cells\n",
       "var notebookContainer = gd.closest('#notebook-container');\n",
       "if (notebookContainer) {{\n",
       "    x.observe(notebookContainer, {childList: true});\n",
       "}}\n",
       "\n",
       "// Listen for the clearing of the current output cell\n",
       "var outputEl = gd.closest('.output');\n",
       "if (outputEl) {{\n",
       "    x.observe(outputEl, {childList: true});\n",
       "}}\n",
       "\n",
       "                        })                };                });            </script>        </div>"
      ]
     },
     "metadata": {},
     "output_type": "display_data"
    }
   ],
   "source": [
    "predictions = regression(coefTE_train, coefTE_test, young_train, young_test) \n",
    "\n",
    "plot(coefTE_train, coefTE_test, young_train, young_test, \"Coefficient of linear Thermal expansion\", \"Young's Modulus (GPa)\", predictions) \n",
    "# A low R2 score signify a low goodness of fit for the data and non linear relatiosnhip between the variables"
   ]
  },
  {
   "cell_type": "markdown",
   "metadata": {},
   "source": [
    "## Now for the multi linear regression \n",
    "Creating and pandas dataframe and then applying linear regression to the dataframe such that:\n",
    "\n",
    "$$y = \\beta_0 + \\beta_1{x_1} +\\beta_2{x_2}+\\beta_3{x_3}+\\beta_4{x_4}+\\beta_5{x_5}$$"
   ]
  },
  {
   "cell_type": "code",
   "execution_count": 101,
   "metadata": {},
   "outputs": [],
   "source": [
    "#creating a dataframe\n",
    "import pandas as pd\n",
    "# inputing all variables of x and y\n",
    "df = pd.DataFrame([data_youngs_modulus,data_specific_heat,data_melting_point,data_atomic_mass,data_CTE,data_lattice_constant])"
   ]
  },
  {
   "cell_type": "code",
   "execution_count": 117,
   "metadata": {},
   "outputs": [],
   "source": [
    "df1 = df.T\n",
    "columns =('Youngs_modulus','Specific_heat','Melting_point','atomic_mass','CTE','lattice_constant')\n",
    "# transposing the dataframe"
   ]
  },
  {
   "cell_type": "code",
   "execution_count": 118,
   "metadata": {},
   "outputs": [
    {
     "data": {
      "text/html": [
       "<div>\n",
       "<style scoped>\n",
       "    .dataframe tbody tr th:only-of-type {\n",
       "        vertical-align: middle;\n",
       "    }\n",
       "\n",
       "    .dataframe tbody tr th {\n",
       "        vertical-align: top;\n",
       "    }\n",
       "\n",
       "    .dataframe thead th {\n",
       "        text-align: right;\n",
       "    }\n",
       "</style>\n",
       "<table border=\"1\" class=\"dataframe\">\n",
       "  <thead>\n",
       "    <tr style=\"text-align: right;\">\n",
       "      <th></th>\n",
       "      <th>Youngs_modulus</th>\n",
       "      <th>Specific_heat</th>\n",
       "      <th>Melting_point</th>\n",
       "      <th>atomic_mass</th>\n",
       "      <th>CTE</th>\n",
       "      <th>lattice_constant</th>\n",
       "    </tr>\n",
       "  </thead>\n",
       "  <tbody>\n",
       "    <tr>\n",
       "      <th>0</th>\n",
       "      <td>68.0</td>\n",
       "      <td>0.281</td>\n",
       "      <td>2125.0</td>\n",
       "      <td>91.22400</td>\n",
       "      <td>0.000006</td>\n",
       "      <td>3.23</td>\n",
       "    </tr>\n",
       "    <tr>\n",
       "      <th>1</th>\n",
       "      <td>50.0</td>\n",
       "      <td>0.180</td>\n",
       "      <td>1350.0</td>\n",
       "      <td>150.36000</td>\n",
       "      <td>0.000013</td>\n",
       "      <td>9.00</td>\n",
       "    </tr>\n",
       "    <tr>\n",
       "      <th>2</th>\n",
       "      <td>105.0</td>\n",
       "      <td>0.268</td>\n",
       "      <td>2741.0</td>\n",
       "      <td>92.90638</td>\n",
       "      <td>0.000007</td>\n",
       "      <td>3.30</td>\n",
       "    </tr>\n",
       "    <tr>\n",
       "      <th>3</th>\n",
       "      <td>47.0</td>\n",
       "      <td>0.703</td>\n",
       "      <td>1683.0</td>\n",
       "      <td>28.08550</td>\n",
       "      <td>0.000003</td>\n",
       "      <td>5.43</td>\n",
       "    </tr>\n",
       "    <tr>\n",
       "      <th>4</th>\n",
       "      <td>55.0</td>\n",
       "      <td>0.230</td>\n",
       "      <td>1586.0</td>\n",
       "      <td>157.25000</td>\n",
       "      <td>0.000009</td>\n",
       "      <td>3.64</td>\n",
       "    </tr>\n",
       "  </tbody>\n",
       "</table>\n",
       "</div>"
      ],
      "text/plain": [
       "   Youngs_modulus  Specific_heat  Melting_point  atomic_mass       CTE  \\\n",
       "0            68.0          0.281         2125.0     91.22400  0.000006   \n",
       "1            50.0          0.180         1350.0    150.36000  0.000013   \n",
       "2           105.0          0.268         2741.0     92.90638  0.000007   \n",
       "3            47.0          0.703         1683.0     28.08550  0.000003   \n",
       "4            55.0          0.230         1586.0    157.25000  0.000009   \n",
       "\n",
       "   lattice_constant  \n",
       "0              3.23  \n",
       "1              9.00  \n",
       "2              3.30  \n",
       "3              5.43  \n",
       "4              3.64  "
      ]
     },
     "execution_count": 118,
     "metadata": {},
     "output_type": "execute_result"
    }
   ],
   "source": [
    "df1.columns = columns\n",
    "# adding column name to the dataframe\n",
    "df1.head()"
   ]
  },
  {
   "cell_type": "code",
   "execution_count": 133,
   "metadata": {},
   "outputs": [],
   "source": [
    "X = df1.iloc[:,1:] #choosing X values\n",
    "y = df1.iloc[:,0]   # choosing y_values\n"
   ]
  },
  {
   "cell_type": "code",
   "execution_count": 136,
   "metadata": {},
   "outputs": [],
   "source": [
    "from sklearn.model_selection import train_test_split\n",
    "X_train,X_test,y_train,y_test = train_test_split(X,y,test_size = 0.1,random_state =42)\n",
    "#test and train split with 45 variables in train and 6 in test "
   ]
  },
  {
   "cell_type": "code",
   "execution_count": 138,
   "metadata": {},
   "outputs": [
    {
     "data": {
      "text/plain": [
       "LinearRegression()"
      ]
     },
     "execution_count": 138,
     "metadata": {},
     "output_type": "execute_result"
    }
   ],
   "source": [
    "# model1 to avoid confusion between previous model\n",
    "model1 = linear_model.LinearRegression()\n",
    "model1.fit(X_train,y_train)"
   ]
  },
  {
   "cell_type": "code",
   "execution_count": 140,
   "metadata": {},
   "outputs": [],
   "source": [
    "# predicted train set\n",
    "predict_train = model1.predict(X_train)\n",
    "predict_test = model1.predict(X_test)  #predicted test set\n",
    "\n",
    "full_x = np.concatenate((X_train, X_test), axis=0)   #concatenated train and test values of x\n",
    "full_y = np.concatenate((y_train, y_test), axis=0)    # concatenated train and test values of y\n",
    "prediction = model1.predict(full_x)           #overall prediction\n",
    " "
   ]
  },
  {
   "cell_type": "code",
   "execution_count": 142,
   "metadata": {},
   "outputs": [
    {
     "name": "stdout",
     "output_type": "stream",
     "text": [
      "Train predictions are \n",
      " [ 14.8872117  -18.42374249 140.61516012 163.01798383  63.16777675\n",
      " 161.69004416 -34.73478126 127.8391217   40.29975986 103.22138547\n",
      " 272.2576221  -14.97129854 -12.21263459 140.138454   113.85401625\n",
      " 121.320216    48.82198662  31.09522005 108.49307979 146.18614613\n",
      " 114.36478289 183.97533678  80.30304415 130.60504393 145.29826678\n",
      " 193.83227    201.7949397   40.62748946  61.9550802  219.8234251\n",
      " 256.69499744 147.57613028 237.22699359  60.0649248  204.26938448\n",
      "  42.72102655 146.6607385  293.51321063  70.45093899  64.53190157\n",
      "  35.43765027 340.35999799 196.208563   107.03274139  46.0083939 ]\n",
      "\n",
      "\n",
      "Test predictions are \n",
      " [ 82.17389073 176.3408813  150.15049689 130.01471422 158.07339914\n",
      " 315.4095882 ]\n",
      "\n",
      "\n"
     ]
    }
   ],
   "source": [
    "# for the trained predictions\n",
    "print('Train predictions are \\n', predict_train)\n",
    "print('\\n')\n",
    "print('Test predictions are \\n', predict_test)\n",
    "print('\\n')"
   ]
  },
  {
   "cell_type": "code",
   "execution_count": 143,
   "metadata": {},
   "outputs": [
    {
     "name": "stdout",
     "output_type": "stream",
     "text": [
      "Combined prediction are \n",
      " [ 14.8872117  -18.42374249 140.61516012 163.01798383  63.16777675\n",
      " 161.69004416 -34.73478126 127.8391217   40.29975986 103.22138547\n",
      " 272.2576221  -14.97129854 -12.21263459 140.138454   113.85401625\n",
      " 121.320216    48.82198662  31.09522005 108.49307979 146.18614613\n",
      " 114.36478289 183.97533678  80.30304415 130.60504393 145.29826678\n",
      " 193.83227    201.7949397   40.62748946  61.9550802  219.8234251\n",
      " 256.69499744 147.57613028 237.22699359  60.0649248  204.26938448\n",
      "  42.72102655 146.6607385  293.51321063  70.45093899  64.53190157\n",
      "  35.43765027 340.35999799 196.208563   107.03274139  46.0083939\n",
      "  82.17389073 176.3408813  150.15049689 130.01471422 158.07339914\n",
      " 315.4095882 ]\n"
     ]
    }
   ],
   "source": [
    "#Overall prediction of data \n",
    "print('Combined prediction are \\n', prediction)"
   ]
  },
  {
   "cell_type": "code",
   "execution_count": 153,
   "metadata": {},
   "outputs": [
    {
     "name": "stdout",
     "output_type": "stream",
     "text": [
      "Actual values of y: \n",
      " [ 50.   16.   47.   74.   45.  211.   32.   70.  108.   55.  329.    8.\n",
      "  50.   69.   61.   65.    4.9  55.   56.  121.  198.   68.   83.   79.\n",
      " 168.  275.  128.   34.   50.  528.  105.   64.  447.   18.   78.   13.\n",
      " 287.  186.   70.   78.   10.  411.  279.  130.   24.   20.  116.  200.\n",
      "  74.  209.  463. ]\n"
     ]
    }
   ],
   "source": [
    "print('Actual values of y: \\n',full_y)"
   ]
  },
  {
   "cell_type": "code",
   "execution_count": 148,
   "metadata": {},
   "outputs": [
    {
     "name": "stdout",
     "output_type": "stream",
     "text": [
      "[ 4.02160561e-01  1.17540695e-01 -2.78542463e-01  6.35807324e+05\n",
      " -3.26938710e+00]\n"
     ]
    }
   ],
   "source": [
    "print(model1.coef_) #coefficient of x"
   ]
  },
  {
   "cell_type": "code",
   "execution_count": 150,
   "metadata": {},
   "outputs": [
    {
     "name": "stdout",
     "output_type": "stream",
     "text": [
      "-33.56587192878037\n"
     ]
    }
   ],
   "source": [
    "print(model1.intercept_) #intercept beta0"
   ]
  },
  {
   "cell_type": "code",
   "execution_count": 154,
   "metadata": {},
   "outputs": [
    {
     "name": "stdout",
     "output_type": "stream",
     "text": [
      "Mean squared error: 7.1956e+03\n",
      "Variance score: 0.5439\n"
     ]
    }
   ],
   "source": [
    "print(\"Mean squared error: %.4e\" % (mean_squared_error(full_y, prediction)))  #MSE\n",
    "print('Variance score: %.4f' % r2_score(full_y, prediction))   \n",
    "# only 54 % accuracy or goodness of fit to the data"
   ]
  },
  {
   "cell_type": "code",
   "execution_count": null,
   "metadata": {},
   "outputs": [],
   "source": []
  }
 ],
 "metadata": {
  "kernelspec": {
   "display_name": "Python 3",
   "language": "python",
   "name": "python3"
  },
  "language_info": {
   "codemirror_mode": {
    "name": "ipython",
    "version": 3
   },
   "file_extension": ".py",
   "mimetype": "text/x-python",
   "name": "python",
   "nbconvert_exporter": "python",
   "pygments_lexer": "ipython3",
   "version": "3.8.3"
  }
 },
 "nbformat": 4,
 "nbformat_minor": 2
}
