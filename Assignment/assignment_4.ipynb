{
 "cells": [
  {
   "cell_type": "markdown",
   "metadata": {},
   "source": [
    "**Q 1. Make sure that you are using the data that you created for Assignment 3. This table must have 7 columns.**\n",
    "\n",
    "• Develop a Linear Regression based model where electronegativity is X and thermal conductivity is\n",
    "Y .\n",
    "\n",
    "• Develop a MultiLinear Regression based model where electronegativity is X1 and density is X2 and\n",
    "thermal conductivity is Y .\n",
    "\n",
    "• Develop a Gradient Descent based model where electronegativity is X1 and density is X2 and thermal\n",
    "conductivity is Y .\n",
    "\n",
    "Your Jupyter Notebook must show various decorated plots as appropriate for clearly understanding the\n",
    "problem setup, methodology and model outcome.\n"
   ]
  },
  {
   "cell_type": "code",
   "execution_count": 2,
   "metadata": {},
   "outputs": [],
   "source": [
    "import numpy as np\n",
    "import pandas as pd\n",
    "import matplotlib.pyplot as plt\n",
    "from sklearn.linear_model import LinearRegression"
   ]
  },
  {
   "cell_type": "code",
   "execution_count": 3,
   "metadata": {},
   "outputs": [
    {
     "data": {
      "text/html": [
       "<div>\n",
       "<style scoped>\n",
       "    .dataframe tbody tr th:only-of-type {\n",
       "        vertical-align: middle;\n",
       "    }\n",
       "\n",
       "    .dataframe tbody tr th {\n",
       "        vertical-align: top;\n",
       "    }\n",
       "\n",
       "    .dataframe thead th {\n",
       "        text-align: right;\n",
       "    }\n",
       "</style>\n",
       "<table border=\"1\" class=\"dataframe\">\n",
       "  <thead>\n",
       "    <tr style=\"text-align: right;\">\n",
       "      <th></th>\n",
       "      <th>Elements</th>\n",
       "      <th>Atomic Number</th>\n",
       "      <th>Electronegativity</th>\n",
       "      <th>Atomic Radius</th>\n",
       "      <th>Thermal Conductivity</th>\n",
       "      <th>Density</th>\n",
       "      <th>Crystal System</th>\n",
       "    </tr>\n",
       "  </thead>\n",
       "  <tbody>\n",
       "    <tr>\n",
       "      <th>0</th>\n",
       "      <td>H</td>\n",
       "      <td>1</td>\n",
       "      <td>2.20</td>\n",
       "      <td>0.25</td>\n",
       "      <td>0.1805</td>\n",
       "      <td>0.09</td>\n",
       "      <td>HEX</td>\n",
       "    </tr>\n",
       "    <tr>\n",
       "      <th>1</th>\n",
       "      <td>He</td>\n",
       "      <td>2</td>\n",
       "      <td>0.00</td>\n",
       "      <td>1.20</td>\n",
       "      <td>0.1513</td>\n",
       "      <td>0.18</td>\n",
       "      <td>HCP</td>\n",
       "    </tr>\n",
       "    <tr>\n",
       "      <th>2</th>\n",
       "      <td>Li</td>\n",
       "      <td>3</td>\n",
       "      <td>0.98</td>\n",
       "      <td>1.45</td>\n",
       "      <td>85.0000</td>\n",
       "      <td>530.00</td>\n",
       "      <td>BCC</td>\n",
       "    </tr>\n",
       "    <tr>\n",
       "      <th>3</th>\n",
       "      <td>Be</td>\n",
       "      <td>4</td>\n",
       "      <td>1.57</td>\n",
       "      <td>1.05</td>\n",
       "      <td>190.0000</td>\n",
       "      <td>1850.00</td>\n",
       "      <td>HCP</td>\n",
       "    </tr>\n",
       "    <tr>\n",
       "      <th>4</th>\n",
       "      <td>B</td>\n",
       "      <td>5</td>\n",
       "      <td>2.04</td>\n",
       "      <td>0.85</td>\n",
       "      <td>27.0000</td>\n",
       "      <td>2340.00</td>\n",
       "      <td>RHO</td>\n",
       "    </tr>\n",
       "  </tbody>\n",
       "</table>\n",
       "</div>"
      ],
      "text/plain": [
       "  Elements  Atomic Number  Electronegativity  Atomic Radius  \\\n",
       "0        H              1               2.20           0.25   \n",
       "1       He              2               0.00           1.20   \n",
       "2       Li              3               0.98           1.45   \n",
       "3       Be              4               1.57           1.05   \n",
       "4        B              5               2.04           0.85   \n",
       "\n",
       "   Thermal Conductivity  Density Crystal System  \n",
       "0                0.1805     0.09            HEX  \n",
       "1                0.1513     0.18            HCP  \n",
       "2               85.0000   530.00            BCC  \n",
       "3              190.0000  1850.00            HCP  \n",
       "4               27.0000  2340.00            RHO  "
      ]
     },
     "execution_count": 3,
     "metadata": {},
     "output_type": "execute_result"
    }
   ],
   "source": [
    "df = pd.read_csv('assignment3.txt')\n",
    "df.head()"
   ]
  },
  {
   "cell_type": "markdown",
   "metadata": {},
   "source": [
    "# Linear Regression \n",
    "# $y = \\beta_{0} + \\beta_{1}x$"
   ]
  },
  {
   "cell_type": "code",
   "execution_count": null,
   "metadata": {},
   "outputs": [],
   "source": []
  },
  {
   "cell_type": "code",
   "execution_count": 16,
   "metadata": {},
   "outputs": [],
   "source": [
    "# For the Linear regression between X = electronegativity and Y = Thermal Conductivity\n",
    "X = np.array(df['Electronegativity']).reshape(-1,1)\n",
    "Y = np.array(df['Thermal Conductivity'])\n",
    "X = (X-np.mean(X))/np.std(X)\n",
    "Y = (Y-np.mean(Y))/np.std(Y)\n"
   ]
  },
  {
   "cell_type": "code",
   "execution_count": 17,
   "metadata": {},
   "outputs": [
    {
     "data": {
      "text/plain": [
       "LinearRegression()"
      ]
     },
     "execution_count": 17,
     "metadata": {},
     "output_type": "execute_result"
    }
   ],
   "source": [
    "model = LinearRegression()\n",
    "model.fit(X,Y)"
   ]
  },
  {
   "cell_type": "code",
   "execution_count": 18,
   "metadata": {},
   "outputs": [
    {
     "data": {
      "text/plain": [
       "0.009617755489654822"
      ]
     },
     "execution_count": 18,
     "metadata": {},
     "output_type": "execute_result"
    }
   ],
   "source": [
    "r_sq = model.score(X,Y)\n",
    "r_sq"
   ]
  },
  {
   "cell_type": "code",
   "execution_count": 19,
   "metadata": {},
   "outputs": [
    {
     "name": "stdout",
     "output_type": "stream",
     "text": [
      "Intercept of model:  2.991880961302557e-17\n"
     ]
    }
   ],
   "source": [
    "print('Intercept of model: ',model.intercept_)"
   ]
  },
  {
   "cell_type": "code",
   "execution_count": 20,
   "metadata": {},
   "outputs": [
    {
     "name": "stdout",
     "output_type": "stream",
     "text": [
      "Coefficient of linear regression:  [0.09807016]\n"
     ]
    }
   ],
   "source": [
    "print(\"Coefficient of linear regression: \",model.coef_)"
   ]
  },
  {
   "cell_type": "code",
   "execution_count": 21,
   "metadata": {},
   "outputs": [
    {
     "data": {
      "text/plain": [
       "array([ 0.07155754, -0.23014765, -0.0957517 , -0.01483985,  0.04961535,\n",
       "        0.11955609,  0.18675407,  0.24160956,  0.31566447, -0.23014765,\n",
       "       -0.10260864, -0.05049592, -0.0093543 ,  0.03041593,  0.07018615,\n",
       "        0.12367026,  0.20321072, -0.23014765, -0.11769389, -0.09300892,\n",
       "       -0.04363898, -0.01895401, -0.00661153, -0.00249737, -0.01758263,\n",
       "        0.02081621,  0.02767315,  0.03178731,  0.03041593, -0.00386876,\n",
       "        0.01807344,  0.04550118,  0.06881477,  0.11955609,  0.17578297,\n",
       "        0.18126852, -0.11769389, -0.09986586, -0.06283841, -0.04775315,\n",
       "       -0.01072569,  0.06607199,  0.03041593,  0.07155754,  0.08252864,\n",
       "        0.07155754,  0.03453009,  0.00161679,  0.01395928,  0.03864425,\n",
       "        0.05098673,  0.05784367,  0.13464135,  0.12641303, -0.12180806,\n",
       "       -0.10809418, -0.07929505, -0.07655228, -0.07518089, -0.0738095 ,\n",
       "       -0.07518089, -0.06969534, -0.06558118, -0.06558118, -0.06283841,\n",
       "       -0.06146702, -0.06009563, -0.06009563, -0.05872424, -0.07929505,\n",
       "       -0.05598147, -0.05186731, -0.02443956,  0.09349974,  0.03041593,\n",
       "        0.07155754,  0.07155754,  0.08252864,  0.11818471,  0.0441298 ,\n",
       "       -0.00798292,  0.08938558,  0.04687257,  0.0441298 ,  0.07155754,\n",
       "       -0.23014765, -0.10809418, -0.07929505, -0.05186731, -0.02443956,\n",
       "       -0.04089621, -0.04363898, -0.05461008, -0.05186731, -0.05186731])"
      ]
     },
     "execution_count": 21,
     "metadata": {},
     "output_type": "execute_result"
    }
   ],
   "source": [
    "y_predict = model.predict(X)\n",
    "y_predict"
   ]
  },
  {
   "cell_type": "code",
   "execution_count": 22,
   "metadata": {},
   "outputs": [
    {
     "name": "stdout",
     "output_type": "stream",
     "text": [
      "Predicted Value: \n",
      "[[ 0.07155754]\n",
      " [-0.23014765]\n",
      " [-0.0957517 ]\n",
      " [-0.01483985]\n",
      " [ 0.04961535]\n",
      " [ 0.11955609]\n",
      " [ 0.18675407]\n",
      " [ 0.24160956]\n",
      " [ 0.31566447]\n",
      " [-0.23014765]\n",
      " [-0.10260864]\n",
      " [-0.05049592]\n",
      " [-0.0093543 ]\n",
      " [ 0.03041593]\n",
      " [ 0.07018615]\n",
      " [ 0.12367026]\n",
      " [ 0.20321072]\n",
      " [-0.23014765]\n",
      " [-0.11769389]\n",
      " [-0.09300892]\n",
      " [-0.04363898]\n",
      " [-0.01895401]\n",
      " [-0.00661153]\n",
      " [-0.00249737]\n",
      " [-0.01758263]\n",
      " [ 0.02081621]\n",
      " [ 0.02767315]\n",
      " [ 0.03178731]\n",
      " [ 0.03041593]\n",
      " [-0.00386876]\n",
      " [ 0.01807344]\n",
      " [ 0.04550118]\n",
      " [ 0.06881477]\n",
      " [ 0.11955609]\n",
      " [ 0.17578297]\n",
      " [ 0.18126852]\n",
      " [-0.11769389]\n",
      " [-0.09986586]\n",
      " [-0.06283841]\n",
      " [-0.04775315]\n",
      " [-0.01072569]\n",
      " [ 0.06607199]\n",
      " [ 0.03041593]\n",
      " [ 0.07155754]\n",
      " [ 0.08252864]\n",
      " [ 0.07155754]\n",
      " [ 0.03453009]\n",
      " [ 0.00161679]\n",
      " [ 0.01395928]\n",
      " [ 0.03864425]\n",
      " [ 0.05098673]\n",
      " [ 0.05784367]\n",
      " [ 0.13464135]\n",
      " [ 0.12641303]\n",
      " [-0.12180806]\n",
      " [-0.10809418]\n",
      " [-0.07929505]\n",
      " [-0.07655228]\n",
      " [-0.07518089]\n",
      " [-0.0738095 ]\n",
      " [-0.07518089]\n",
      " [-0.06969534]\n",
      " [-0.06558118]\n",
      " [-0.06558118]\n",
      " [-0.06283841]\n",
      " [-0.06146702]\n",
      " [-0.06009563]\n",
      " [-0.06009563]\n",
      " [-0.05872424]\n",
      " [-0.07929505]\n",
      " [-0.05598147]\n",
      " [-0.05186731]\n",
      " [-0.02443956]\n",
      " [ 0.09349974]\n",
      " [ 0.03041593]\n",
      " [ 0.07155754]\n",
      " [ 0.07155754]\n",
      " [ 0.08252864]\n",
      " [ 0.11818471]\n",
      " [ 0.0441298 ]\n",
      " [-0.00798292]\n",
      " [ 0.08938558]\n",
      " [ 0.04687257]\n",
      " [ 0.0441298 ]\n",
      " [ 0.07155754]\n",
      " [-0.23014765]\n",
      " [-0.10809418]\n",
      " [-0.07929505]\n",
      " [-0.05186731]\n",
      " [-0.02443956]\n",
      " [-0.04089621]\n",
      " [-0.04363898]\n",
      " [-0.05461008]\n",
      " [-0.05186731]\n",
      " [-0.05186731]]\n"
     ]
    }
   ],
   "source": [
    "#applying $y = \\beta_{0} + \\beta_{1}$\n",
    "y_pred = model.intercept_ + model.coef_*X\n",
    "print('Predicted Value: ',y_pred,sep='\\n')"
   ]
  },
  {
   "cell_type": "code",
   "execution_count": 23,
   "metadata": {},
   "outputs": [
    {
     "data": {
      "image/png": "[encoded data removed]",
      "text/plain": [
       "<Figure size 576x432 with 1 Axes>"
      ]
     },
     "metadata": {
      "needs_background": "light"
     },
     "output_type": "display_data"
    }
   ],
   "source": [
    "plt.subplots(1,1,figsize = (8,6))\n",
    "plt.plot(X,y_predict, color = 'red')\n",
    "plt.scatter(X,Y)\n",
    "plt.xlabel('Electronegtaivity')\n",
    "plt.ylabel('Thermal Conductivity')\n",
    "plt.title('linear Regression', fontsize = 15)\n",
    "#plt.vlines(X,Y,y_predict,label = 'MSE lines')\n",
    "plt.show()"
   ]
  },
  {
   "cell_type": "markdown",
   "metadata": {},
   "source": [
    "# Multi linear regression\n",
    "\n",
    "# $y =\\beta_{0}+\\beta_{1}x_{1} +\\beta_{2}x_{2}$"
   ]
  },
  {
   "cell_type": "code",
   "execution_count": 65,
   "metadata": {},
   "outputs": [],
   "source": [
    "x = np.array(df.iloc[:,[2,5]])\n",
    "y = np.array(df['Thermal Conductivity'])\n"
   ]
  },
  {
   "cell_type": "code",
   "execution_count": 66,
   "metadata": {},
   "outputs": [],
   "source": [
    "#Standardizing the data of the x values \n",
    "x = (x-np.mean(x))/np.std(x)\n"
   ]
  },
  {
   "cell_type": "code",
   "execution_count": 67,
   "metadata": {},
   "outputs": [],
   "source": [
    "model1 = LinearRegression().fit(x,y)"
   ]
  },
  {
   "cell_type": "code",
   "execution_count": 68,
   "metadata": {},
   "outputs": [
    {
     "data": {
      "text/plain": [
       "LinearRegression()"
      ]
     },
     "execution_count": 68,
     "metadata": {},
     "output_type": "execute_result"
    }
   ],
   "source": [
    "model1.fit(x,y)"
   ]
  },
  {
   "cell_type": "code",
   "execution_count": 69,
   "metadata": {},
   "outputs": [
    {
     "name": "stdout",
     "output_type": "stream",
     "text": [
      "0.0396249822319662\n"
     ]
    }
   ],
   "source": [
    "r_square = model1.score(x,y)\n",
    "print(r_square)"
   ]
  },
  {
   "cell_type": "code",
   "execution_count": 70,
   "metadata": {},
   "outputs": [
    {
     "name": "stdout",
     "output_type": "stream",
     "text": [
      "Intercept:  35907.584479745325\n"
     ]
    }
   ],
   "source": [
    "print('Intercept: ',model1.intercept_)"
   ]
  },
  {
   "cell_type": "code",
   "execution_count": 71,
   "metadata": {},
   "outputs": [
    {
     "name": "stdout",
     "output_type": "stream",
     "text": [
      "Coefficients:  [5.32250710e+04 1.32677538e+01]\n"
     ]
    }
   ],
   "source": [
    "print('Coefficients: ', model1.coef_)"
   ]
  },
  {
   "cell_type": "code",
   "execution_count": 72,
   "metadata": {},
   "outputs": [
    {
     "data": {
      "text/plain": [
       "array([44.70381739, 23.81575765, 34.37451007, 43.10053703, 48.72276218,\n",
       "       53.37569984, 52.6820852 , 56.480379  , 61.60813953, 23.81746174,\n",
       "       34.94116726, 40.37157531, 45.49210123, 47.36984049, 48.91622817,\n",
       "       53.2108485 , 53.82608446, 23.81954452, 33.63640596, 36.97853636,\n",
       "       43.804805  , 49.1823808 , 53.75277229, 56.5937531 , 56.11737073,\n",
       "       59.81726884, 62.72980319, 63.01464328, 63.0617044 , 56.35679859,\n",
       "       54.98845339, 55.49097707, 58.05178966, 59.36369617, 59.3039597 ,\n",
       "       52.30821542, 35.45883962, 38.84693189, 45.97841079, 51.85109025,\n",
       "       59.29025275, 68.51248263, 69.0733687 , 73.9808829 , 74.83512833,\n",
       "       73.15250396, 66.99141182, 60.33411676, 58.01712907, 59.72616957,\n",
       "       59.08960772, 58.52295053, 60.73946138, 48.51543626, 35.74203081,\n",
       "       40.76238854, 48.81526937, 50.47257688, 50.56752357, 51.23050154,\n",
       "       51.82192596, 52.72240808, 47.61095107, 53.90663101, 54.8775674 ,\n",
       "       55.72988912, 56.41653506, 57.05557024, 57.74221617, 50.59036709,\n",
       "       59.16284399, 67.66046956, 77.46450532, 92.02027285, 91.65261179,\n",
       "       98.19321589, 97.7198565 , 96.23097293, 93.65830944, 74.87476943,\n",
       "       67.2432402 , 72.80105701, 66.07083434, 64.81588231, 59.73276514,\n",
       "       23.83836056, 45.28297075, 58.09311349, 63.89726237, 74.50600911,\n",
       "       81.76877802, 84.53738084, 82.92576038, 68.51251646, 68.11016098])"
      ]
     },
     "execution_count": 72,
     "metadata": {},
     "output_type": "execute_result"
    }
   ],
   "source": [
    "y_p = model1.intercept_ + model1.coef_[0]*x[:,0] + model1.coef_[1]*x[:,1]\n",
    "y_p"
   ]
  },
  {
   "cell_type": "code",
   "execution_count": 73,
   "metadata": {},
   "outputs": [
    {
     "name": "stdout",
     "output_type": "stream",
     "text": [
      "[44.70381739 23.81575765 34.37451007 43.10053703 48.72276218 53.37569984\n",
      " 52.6820852  56.480379   61.60813953 23.81746174 34.94116726 40.37157531\n",
      " 45.49210123 47.36984049 48.91622817 53.2108485  53.82608446 23.81954452\n",
      " 33.63640596 36.97853636 43.804805   49.1823808  53.75277229 56.5937531\n",
      " 56.11737073 59.81726884 62.72980319 63.01464328 63.0617044  56.35679859\n",
      " 54.98845339 55.49097707 58.05178966 59.36369617 59.3039597  52.30821542\n",
      " 35.45883962 38.84693189 45.97841079 51.85109025 59.29025275 68.51248263\n",
      " 69.0733687  73.9808829  74.83512833 73.15250396 66.99141182 60.33411676\n",
      " 58.01712907 59.72616957 59.08960772 58.52295053 60.73946138 48.51543626\n",
      " 35.74203081 40.76238854 48.81526937 50.47257688 50.56752357 51.23050154\n",
      " 51.82192596 52.72240808 47.61095107 53.90663101 54.8775674  55.72988912\n",
      " 56.41653506 57.05557024 57.74221617 50.59036709 59.16284399 67.66046956\n",
      " 77.46450532 92.02027285 91.65261179 98.19321589 97.7198565  96.23097293\n",
      " 93.65830944 74.87476943 67.2432402  72.80105701 66.07083434 64.81588231\n",
      " 59.73276514 23.83836056 45.28297075 58.09311349 63.89726237 74.50600911\n",
      " 81.76877802 84.53738084 82.92576038 68.51251646 68.11016098]\n"
     ]
    }
   ],
   "source": [
    "Y_predict = model1.predict(x)\n",
    "print(Y_predict)"
   ]
  },
  {
   "cell_type": "code",
   "execution_count": 74,
   "metadata": {},
   "outputs": [
    {
     "data": {
      "image/png": "[encoded data removed]",
      "text/plain": [
       "<Figure size 576x432 with 1 Axes>"
      ]
     },
     "metadata": {
      "needs_background": "light"
     },
     "output_type": "display_data"
    }
   ],
   "source": [
    "plt.subplots(1,1,figsize = (8,6))\n",
    "plt.plot(x[:,1],Y_predict, color = 'red')\n",
    "plt.scatter(x[:,1],y)\n",
    "plt.xlabel('Electronegtaivity')\n",
    "plt.ylabel('Thermal Conductivity')\n",
    "plt.title('linear Regression', fontsize = 15)\n",
    "#plt.vlines(X,Y,y_predict,label = 'MSE lines')\n",
    "plt.show()"
   ]
  },
  {
   "cell_type": "markdown",
   "metadata": {},
   "source": [
    "# Gradient Descent for the variable X and Y"
   ]
  },
  {
   "cell_type": "markdown",
   "metadata": {},
   "source": [
    "We assume that\n",
    "\n",
    "$y = \\beta_{0}*x{0} + \\beta_{1}*x1 +\\beta_{2}*x2$    \n",
    "\n",
    "where x{0} = 1"
   ]
  },
  {
   "cell_type": "code",
   "execution_count": 34,
   "metadata": {},
   "outputs": [],
   "source": [
    "x = np.array(df.iloc[:,[2,5]])\n",
    "y = np.array(df['Thermal Conductivity'])\n"
   ]
  },
  {
   "cell_type": "code",
   "execution_count": 35,
   "metadata": {},
   "outputs": [],
   "source": [
    "#Standardizing the data of the x values \n",
    "x = (x-np.mean(x))/np.std(x)\n",
    "y = (y-np.mean(y))/np.std(y)"
   ]
  },
  {
   "cell_type": "code",
   "execution_count": 36,
   "metadata": {},
   "outputs": [],
   "source": [
    "def cost_function(x,y,theta):\n",
    "    m = len(y)\n",
    "    cost = (1/2*m)*np.sum(np.square(x.dot(theta)-y))\n",
    "    return cost"
   ]
  },
  {
   "cell_type": "code",
   "execution_count": 37,
   "metadata": {},
   "outputs": [],
   "source": [
    "#theta is the coefficient and alpha is the learning rate\n",
    "def gradient_descent(x,y,theta,alpha,iteration):\n",
    "    p_cost = [0]*iteration\n",
    "    m = len(y)\n",
    "    for i in range(iteration):\n",
    "        #Hypothesis value\n",
    "        h = x.dot(theta)\n",
    "        #difference between predict and actual\n",
    "        loss = h-y\n",
    "        #Gradiant of loss function\n",
    "        gradient = x.T.dot(loss)/m\n",
    "        theta = theta - gradient*alpha \n",
    "        #New cost \n",
    "        cost = cost_function(x,y,theta)\n",
    "        p_cost[i] = cost\n",
    "    return theta, p_cost"
   ]
  },
  {
   "cell_type": "code",
   "execution_count": 38,
   "metadata": {},
   "outputs": [],
   "source": [
    "x = np.c_[np.ones(len(x),dtype='int64'),x]\n",
    "y = y[:]"
   ]
  },
  {
   "cell_type": "code",
   "execution_count": 60,
   "metadata": {},
   "outputs": [
    {
     "name": "stdout",
     "output_type": "stream",
     "text": [
      "Intercept:   -0.080 \n",
      "Theta1:      0.054 \n",
      "Theta2:      0.172\n"
     ]
    }
   ],
   "source": [
    "theta = np.zeros(x.shape[1])\n",
    "alpha = 0.001\n",
    "iteration = 10000\n",
    "new_theta, cost_history = gradient_descent(x,y,theta,alpha,iteration)\n",
    "print('Intercept:   {:0.3f} \\nTheta1:      {:0.3f} \\nTheta2:      {:0.3f}'.format(new_theta[0],new_theta[1],new_theta[2]))"
   ]
  },
  {
   "cell_type": "code",
   "execution_count": 61,
   "metadata": {},
   "outputs": [
    {
     "data": {
      "text/plain": [
       "Text(0.5, 1.0, 'Gradient descent for the x and Y data')"
      ]
     },
     "execution_count": 61,
     "metadata": {},
     "output_type": "execute_result"
    },
    {
     "data": {
      "image/png": "[encoded data removed]",
      "text/plain": [
       "<Figure size 432x288 with 1 Axes>"
      ]
     },
     "metadata": {
      "needs_background": "light"
     },
     "output_type": "display_data"
    }
   ],
   "source": [
    "plt.plot(range(iteration),cost_history,'b.')\n",
    "plt.xlabel('Number of iterations')\n",
    "plt.ylabel('Loss Function')\n",
    "plt.title('Gradient descent for the x and Y data')"
   ]
  },
  {
   "cell_type": "code",
   "execution_count": 62,
   "metadata": {},
   "outputs": [
    {
     "name": "stdout",
     "output_type": "stream",
     "text": [
      "Loss function for optimum learning: 4366.155490608954\n",
      "Differnece in loss function:  0.31842951613725745\n"
     ]
    }
   ],
   "source": [
    "print('Loss function for optimum learning:' ,cost_history[-1])\n",
    "print('Differnece in loss function: ',cost_history[0]-cost_history[1])"
   ]
  },
  {
   "cell_type": "markdown",
   "metadata": {},
   "source": [
    "# There we can see that the loss function is large that shows that our data is highly biased \n"
   ]
  }
 ],
 "metadata": {
  "kernelspec": {
   "display_name": "Python 3",
   "language": "python",
   "name": "python3"
  },
  "language_info": {
   "codemirror_mode": {
    "name": "ipython",
    "version": 3
   },
   "file_extension": ".py",
   "mimetype": "text/x-python",
   "name": "python",
   "nbconvert_exporter": "python",
   "pygments_lexer": "ipython3",
   "version": "3.8.3"
  }
 },
 "nbformat": 4,
 "nbformat_minor": 4
}
