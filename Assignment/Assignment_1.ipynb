{
 "cells": [
  {
   "cell_type": "markdown",
   "metadata": {},
   "source": [
    "# Assignment 1"
   ]
  },
  {
   "cell_type": "markdown",
   "metadata": {},
   "source": [
    "<b>Q 1. Perform PCA for the following dataset. This dataset shows 10 measurements performed for measuring\n",
    "length, width and thickness of a Si wafer.\n"
   ]
  },
  {
   "cell_type": "code",
   "execution_count": 51,
   "metadata": {},
   "outputs": [],
   "source": [
    "import numpy as np"
   ]
  },
  {
   "cell_type": "code",
   "execution_count": 52,
   "metadata": {},
   "outputs": [],
   "source": [
    "## the dataset is of length , width and thickness we have to analyse the priciple component length in this system\n",
    "X = np.array([[7,4,3],\n",
    "[4,1,8],\n",
    "[6,3,5],\n",
    "[8,6,1],\n",
    "[8,5,7],\n",
    "[7,2,9],\n",
    "[5,3,3],\n",
    "[9 ,5, 8],\n",
    "[7 ,4 ,5],\n",
    "[8 ,2, 2]])\n"
   ]
  },
  {
   "cell_type": "code",
   "execution_count": 53,
   "metadata": {},
   "outputs": [
    {
     "name": "stdout",
     "output_type": "stream",
     "text": [
      "[[ 2.32222222  1.61111111 -0.43333333]\n",
      " [ 1.61111111  2.5        -1.27777778]\n",
      " [-0.43333333 -1.27777778  7.87777778]]\n"
     ]
    }
   ],
   "source": [
    "# here in this data of m = no. of measurement types and n = no. of data trials\n",
    "##Transpose of matrix is needed to calculate the covariance matrix of 3 by 3 and satisfying the above m*n type.\n",
    "c = X- np.mean(X,axis = 0)\n",
    "[m,n] = X.shape\n",
    "covariance = np.matmul(c.T,c)/(m-1)\n",
    "print(covariance)\n"
   ]
  },
  {
   "cell_type": "code",
   "execution_count": 54,
   "metadata": {},
   "outputs": [],
   "source": [
    "U,D,V = np.linalg.svd(covariance)\n",
    "## 2nd and 3rd components are the most important factor "
   ]
  },
  {
   "cell_type": "code",
   "execution_count": 55,
   "metadata": {},
   "outputs": [
    {
     "data": {
      "text/plain": [
       "array([[-0.1375708 ,  0.69903712, -0.70172743],\n",
       "       [-0.25045969,  0.66088917,  0.70745703],\n",
       "       [ 0.95830278,  0.27307986,  0.08416157]])"
      ]
     },
     "execution_count": 55,
     "metadata": {},
     "output_type": "execute_result"
    }
   ],
   "source": [
    "U\n",
    "## Eigen vectors of the 3 by 3 covariance matrix"
   ]
  },
  {
   "cell_type": "code",
   "execution_count": 56,
   "metadata": {},
   "outputs": [
    {
     "data": {
      "text/plain": [
       "array([8.27394258, 3.67612927, 0.74992815])"
      ]
     },
     "execution_count": 56,
     "metadata": {},
     "output_type": "execute_result"
    }
   ],
   "source": [
    "D\n",
    "## eigen values of the covariance matrix represent the weights of the particular component."
   ]
  },
  {
   "cell_type": "code",
   "execution_count": 57,
   "metadata": {},
   "outputs": [
    {
     "name": "stdout",
     "output_type": "stream",
     "text": [
      "Expained variance ratio of significance: [0.65149154 0.289459   0.05904946]\n"
     ]
    }
   ],
   "source": [
    "sum = D[0]+D[1]+D[2]\n",
    "ratio = []\n",
    "for i in D:\n",
    "    ratio.append(i/sum)\n",
    "print(\"Expained variance ratio of significance:\",np.sort(ratio)[::-1])\n",
    "## length corresponds to 65.2% of the data and width correspond to 29% of the data where thickness is not significant."
   ]
  },
  {
   "cell_type": "code",
   "execution_count": 58,
   "metadata": {},
   "outputs": [
    {
     "name": "stdout",
     "output_type": "stream",
     "text": [
      "[[-2.15142276 -0.17311941  0.10681648]\n",
      " [ 3.80418259 -2.88749898  0.5104355 ]\n",
      " [ 0.15321328 -0.98688598  0.26941001]\n",
      " [-4.7065185   1.30153634  0.65167999]\n",
      " [ 1.29375788  2.27912632  0.44919235]\n",
      " [ 4.0993133   0.1435814  -0.80312818]\n",
      " [-1.62582148 -2.23208282  0.80281431]\n",
      " [ 2.11448986  3.2512433  -0.16837351]\n",
      " [-0.2348172   0.37304031  0.27513962]\n",
      " [-2.74637697 -1.06894049 -2.09398657]]\n"
     ]
    }
   ],
   "source": [
    "# Final transformation matrix is similar to the transformation derived from the \n",
    "final = np.matmul(U.T,c.T)\n",
    "print(final.T)"
   ]
  },
  {
   "cell_type": "code",
   "execution_count": 59,
   "metadata": {},
   "outputs": [
    {
     "data": {
      "text/plain": [
       "PCA(n_components=3)"
      ]
     },
     "execution_count": 59,
     "metadata": {},
     "output_type": "execute_result"
    }
   ],
   "source": [
    "# from sklearn library we impored PCA and compared with the features calculated above \n",
    "from sklearn.decomposition import PCA\n",
    "pca = PCA(3)\n",
    "pca.fit(X)\n"
   ]
  },
  {
   "cell_type": "code",
   "execution_count": 60,
   "metadata": {},
   "outputs": [
    {
     "name": "stdout",
     "output_type": "stream",
     "text": [
      "[[ 0.1375708   0.25045969 -0.95830278]\n",
      " [ 0.69903712  0.66088917  0.27307986]\n",
      " [ 0.70172743 -0.70745703 -0.08416157]]\n",
      "[8.27394258 3.67612927 0.74992815]\n"
     ]
    },
    {
     "data": {
      "text/plain": [
       "'Hence we can say that the feature vector and eigen values match with the maths'"
      ]
     },
     "execution_count": 60,
     "metadata": {},
     "output_type": "execute_result"
    }
   ],
   "source": [
    "print(pca.components_)\n",
    "#Feature vector corresponding to the \n",
    "\n",
    "print(pca.explained_variance_)\n",
    "\n",
    "## In pca.components_, we see the feature vector in rows and explained variance will give the eigen values.\n",
    "'''Hence we can say that the feature vector and eigen values match with the maths'''"
   ]
  },
  {
   "cell_type": "code",
   "execution_count": 61,
   "metadata": {},
   "outputs": [
    {
     "name": "stdout",
     "output_type": "stream",
     "text": [
      "[[ 2.15142276 -0.17311941 -0.10681648]\n",
      " [-3.80418259 -2.88749898 -0.5104355 ]\n",
      " [-0.15321328 -0.98688598 -0.26941001]\n",
      " [ 4.7065185   1.30153634 -0.65167999]\n",
      " [-1.29375788  2.27912632 -0.44919235]\n",
      " [-4.0993133   0.1435814   0.80312818]\n",
      " [ 1.62582148 -2.23208282 -0.80281431]\n",
      " [-2.11448986  3.2512433   0.16837351]\n",
      " [ 0.2348172   0.37304031 -0.27513962]\n",
      " [ 2.74637697 -1.06894049  2.09398657]]\n",
      "[0.65149154 0.289459   0.05904946]\n"
     ]
    }
   ],
   "source": [
    "## transformed data is presented in sklearn as\n",
    "data_transform = pca.transform(X)\n",
    "print(data_transform)\n",
    "a = pca.explained_variance_ratio_\n",
    "print(a)\n",
    "## ratio define the significance of the each row component.\n"
   ]
  },
  {
   "cell_type": "code",
   "execution_count": 62,
   "metadata": {},
   "outputs": [
    {
     "name": "stdout",
     "output_type": "stream",
     "text": [
      "[[7. 4. 3.]\n",
      " [4. 1. 8.]\n",
      " [6. 3. 5.]\n",
      " [8. 6. 1.]\n",
      " [8. 5. 7.]\n",
      " [7. 2. 9.]\n",
      " [5. 3. 3.]\n",
      " [9. 5. 8.]\n",
      " [7. 4. 5.]\n",
      " [8. 2. 2.]]\n"
     ]
    },
    {
     "data": {
      "text/plain": [
       "'Also we see in sklearn if we re-transform the matrix it will lead to the present data'"
      ]
     },
     "execution_count": 62,
     "metadata": {},
     "output_type": "execute_result"
    }
   ],
   "source": [
    "h = pca.inverse_transform(data_transform)\n",
    "print(h)\n",
    "'''Also we see in sklearn if we re-transform the matrix it will lead to the present data'''"
   ]
  },
  {
   "cell_type": "code",
   "execution_count": 66,
   "metadata": {},
   "outputs": [
    {
     "data": {
      "text/plain": [
       "'Matrix multiplication and dot product is the same operation.'"
      ]
     },
     "execution_count": 66,
     "metadata": {},
     "output_type": "execute_result"
    }
   ],
   "source": [
    "x = [1,2,3]\n",
    "y = [4,5,6]\n",
    "z = np.matmul(x,y)\n",
    "'''Matrix multiplication and dot product is the same operation.'''"
   ]
  },
  {
   "cell_type": "code",
   "execution_count": null,
   "metadata": {},
   "outputs": [],
   "source": []
  }
 ],
 "metadata": {
  "kernelspec": {
   "display_name": "Python 3",
   "language": "python",
   "name": "python3"
  },
  "language_info": {
   "codemirror_mode": {
    "name": "ipython",
    "version": 3
   },
   "file_extension": ".py",
   "mimetype": "text/x-python",
   "name": "python",
   "nbconvert_exporter": "python",
   "pygments_lexer": "ipython3",
   "version": "3.8.3"
  }
 },
 "nbformat": 4,
 "nbformat_minor": 4
}
